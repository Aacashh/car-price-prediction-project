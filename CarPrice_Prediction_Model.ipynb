{
  "nbformat": 4,
  "nbformat_minor": 5,
  "metadata": {
    "noteable-chatgpt": {
      "create_notebook": {
        "openai_conversation_id": "c9019f2f-20aa-5f34-bc45-6872dd985c43",
        "openai_ephemeral_user_id": "69b5c00f-d461-5329-8f9b-e760b49ad1d0",
        "openai_subdivision1_iso_code": "IN-MH"
      }
    },
    "noteable": {
      "last_transaction_id": "1db71d5b-af3a-441a-9999-30ceb28afff6"
    },
    "selected_hardware_size": "small"
  },
  "cells": [
    {
      "id": "67e130c8-5fb3-4050-9e23-404efbae64b5",
      "cell_type": "code",
      "metadata": {
        "noteable": {
          "cell_type": "code",
          "output_collection_id": "1785c39f-2bdf-48d5-9d34-d97067916999"
        },
        "ExecuteTime": {
          "end_time": "2023-06-24T07:47:55.614744+00:00",
          "start_time": "2023-06-24T07:47:55.346188+00:00"
        },
        "datalink": {
          "352b6680-394d-4bd8-a148-5a5189728eed": {
            "applied_filters": [],
            "dataframe_info": {
              "default_index_used": true,
              "orig_num_cols": 26,
              "orig_num_rows": 5,
              "orig_size_bytes": 1080,
              "truncated_num_cols": 26,
              "truncated_num_rows": 5,
              "truncated_size_bytes": 1080,
              "truncated_string_columns": []
            },
            "display_id": "352b6680-394d-4bd8-a148-5a5189728eed",
            "dx_settings": {
              "ALLOW_NOTEABLE_ATTRS": true,
              "COLUMN_SAMPLING_METHOD": "outer",
              "DB_LOCATION": ":memory:",
              "DEV_MODE": false,
              "DISPLAY_MAX_COLUMNS": 100,
              "DISPLAY_MAX_ROWS": 50000,
              "DISPLAY_MODE": "simple",
              "ENABLE_ASSIGNMENT": true,
              "ENABLE_DATALINK": true,
              "FLATTEN_COLUMN_VALUES": true,
              "FLATTEN_INDEX_VALUES": false,
              "GENERATE_DEX_METADATA": false,
              "HTML_TABLE_SCHEMA": false,
              "LOG_LEVEL": 30,
              "MAX_RENDER_SIZE_BYTES": 104857600,
              "MAX_STRING_LENGTH": 250,
              "NUM_PAST_SAMPLES_TRACKED": 3,
              "RANDOM_STATE": 12648430,
              "RESET_INDEX_VALUES": false,
              "ROW_SAMPLING_METHOD": "random",
              "SAMPLING_FACTOR": 0.1,
              "SAMPLING_METHOD": "random",
              "STRINGIFY_COLUMN_VALUES": true,
              "STRINGIFY_INDEX_VALUES": false
            },
            "sample_history": [],
            "sampling_time": "2023-06-24T07:47:55.453310",
            "user_variable_name": null,
            "variable_name": "unk_dataframe_a0264eebf83444eca2ded66ff86e1aec"
          }
        }
      },
      "execution_count": null,
      "source": "import pandas as pd\ndf = pd.read_csv('CarPrice_Assignment.csv')\ndf.head()",
      "outputs": []
    },
    {
      "id": "8bcbaa9f-fceb-40bd-b007-fa490c526866",
      "cell_type": "code",
      "metadata": {
        "noteable": {
          "cell_type": "code",
          "output_collection_id": "502b0208-d608-4e7f-a2ca-e2e8f9010754"
        },
        "ExecuteTime": {
          "end_time": "2023-06-24T07:48:13.799820+00:00",
          "start_time": "2023-06-24T07:48:13.630266+00:00"
        }
      },
      "execution_count": null,
      "source": "df.info()",
      "outputs": []
    },
    {
      "id": "2f29557d-e23e-424b-adae-a58c788e8087",
      "cell_type": "code",
      "metadata": {
        "noteable": {
          "cell_type": "code",
          "output_collection_id": "6339e484-3fc7-4f55-8996-e15eec0b6b7c"
        },
        "ExecuteTime": {
          "end_time": "2023-06-24T08:22:27.356985+00:00",
          "start_time": "2023-06-24T08:22:27.200577+00:00"
        }
      },
      "execution_count": null,
      "source": "nominal_vars = ['fueltype', 'aspiration', 'carbody', 'drivewheel', 'enginelocation', 'enginetype', 'fuelsystem']\nordinal_vars = ['doornumber', 'cylindernumber']",
      "outputs": []
    },
    {
      "id": "411412a8-2ab8-4f43-8b41-36665f2a2ac6",
      "cell_type": "code",
      "metadata": {
        "noteable": {
          "cell_type": "code",
          "output_collection_id": "ab7c4e29-ca41-459f-b9e8-f89b9897b9e1"
        },
        "ExecuteTime": {
          "end_time": "2023-06-24T08:22:56.549800+00:00",
          "start_time": "2023-06-24T08:22:56.037223+00:00"
        }
      },
      "execution_count": null,
      "source": "# One-hot encoding for nominal variables\ndf = pd.get_dummies(df, columns=nominal_vars, drop_first=True)\n\n# Label encoding for ordinal variables\ndf['doornumber'] = df['doornumber'].replace({'two': 2, 'four': 4})\ndf['cylindernumber'] = df['cylindernumber'].replace({'two': 2, 'three': 3, 'four': 4, 'five': 5, 'six': 6, 'eight': 8, 'twelve': 12})\n\ndf.head()",
      "outputs": []
    },
    {
      "id": "e7bf5088-6ced-4e13-9ca2-3efb63e5b32d",
      "cell_type": "code",
      "metadata": {
        "noteable": {
          "cell_type": "code",
          "output_collection_id": "a044ade5-46ce-4546-a3b3-ecf7494b0ef0"
        },
        "ExecuteTime": {
          "end_time": "2023-06-24T08:23:09.946467+00:00",
          "start_time": "2023-06-24T08:23:09.679783+00:00"
        },
        "datalink": {
          "7af49f34-2001-4099-a23e-dadc2ae51b47": {
            "applied_filters": [],
            "dataframe_info": {
              "default_index_used": true,
              "orig_num_cols": 26,
              "orig_num_rows": 5,
              "orig_size_bytes": 1080,
              "truncated_num_cols": 26,
              "truncated_num_rows": 5,
              "truncated_size_bytes": 1080,
              "truncated_string_columns": []
            },
            "display_id": "7af49f34-2001-4099-a23e-dadc2ae51b47",
            "dx_settings": {
              "ALLOW_NOTEABLE_ATTRS": true,
              "COLUMN_SAMPLING_METHOD": "outer",
              "DB_LOCATION": ":memory:",
              "DEV_MODE": false,
              "DISPLAY_MAX_COLUMNS": 100,
              "DISPLAY_MAX_ROWS": 50000,
              "DISPLAY_MODE": "simple",
              "ENABLE_ASSIGNMENT": true,
              "ENABLE_DATALINK": true,
              "FLATTEN_COLUMN_VALUES": true,
              "FLATTEN_INDEX_VALUES": false,
              "GENERATE_DEX_METADATA": false,
              "HTML_TABLE_SCHEMA": false,
              "LOG_LEVEL": 30,
              "MAX_RENDER_SIZE_BYTES": 104857600,
              "MAX_STRING_LENGTH": 250,
              "NUM_PAST_SAMPLES_TRACKED": 3,
              "RANDOM_STATE": 12648430,
              "RESET_INDEX_VALUES": false,
              "ROW_SAMPLING_METHOD": "random",
              "SAMPLING_FACTOR": 0.1,
              "SAMPLING_METHOD": "random",
              "STRINGIFY_COLUMN_VALUES": true,
              "STRINGIFY_INDEX_VALUES": false
            },
            "sample_history": [],
            "sampling_time": "2023-06-24T08:23:09.785375",
            "user_variable_name": null,
            "variable_name": "unk_dataframe_8ec2b974df6443388259ae9b7059e913"
          }
        }
      },
      "execution_count": null,
      "source": "import pandas as pd\ndf = pd.read_csv('CarPrice_Assignment.csv')\ndf.head()",
      "outputs": []
    },
    {
      "id": "b6112cfc-4ed2-4a19-bed9-bd59046efd37",
      "cell_type": "code",
      "metadata": {
        "noteable": {
          "cell_type": "code",
          "output_collection_id": "c7c240ff-83ea-43e1-ad8c-a8bbba9cbdb7"
        },
        "ExecuteTime": {
          "end_time": "2023-06-24T08:23:31.446226+00:00",
          "start_time": "2023-06-24T08:23:31.166055+00:00"
        },
        "datalink": {
          "5ed19246-6fd4-4b71-9e5b-5702ab748d9d": {
            "applied_filters": [],
            "dataframe_info": {
              "default_index_used": true,
              "orig_num_cols": 41,
              "orig_num_rows": 5,
              "orig_size_bytes": 910,
              "truncated_num_cols": 41,
              "truncated_num_rows": 5,
              "truncated_size_bytes": 910,
              "truncated_string_columns": []
            },
            "display_id": "5ed19246-6fd4-4b71-9e5b-5702ab748d9d",
            "dx_settings": {
              "ALLOW_NOTEABLE_ATTRS": true,
              "COLUMN_SAMPLING_METHOD": "outer",
              "DB_LOCATION": ":memory:",
              "DEV_MODE": false,
              "DISPLAY_MAX_COLUMNS": 100,
              "DISPLAY_MAX_ROWS": 50000,
              "DISPLAY_MODE": "simple",
              "ENABLE_ASSIGNMENT": true,
              "ENABLE_DATALINK": true,
              "FLATTEN_COLUMN_VALUES": true,
              "FLATTEN_INDEX_VALUES": false,
              "GENERATE_DEX_METADATA": false,
              "HTML_TABLE_SCHEMA": false,
              "LOG_LEVEL": 30,
              "MAX_RENDER_SIZE_BYTES": 104857600,
              "MAX_STRING_LENGTH": 250,
              "NUM_PAST_SAMPLES_TRACKED": 3,
              "RANDOM_STATE": 12648430,
              "RESET_INDEX_VALUES": false,
              "ROW_SAMPLING_METHOD": "random",
              "SAMPLING_FACTOR": 0.1,
              "SAMPLING_METHOD": "random",
              "STRINGIFY_COLUMN_VALUES": true,
              "STRINGIFY_INDEX_VALUES": false
            },
            "sample_history": [],
            "sampling_time": "2023-06-24T08:23:31.283767",
            "user_variable_name": null,
            "variable_name": "unk_dataframe_9b2411e1cbac4267b3a6487be402205d"
          }
        }
      },
      "execution_count": null,
      "source": "# One-hot encoding for nominal variables\ndf = pd.get_dummies(df, columns=nominal_vars, drop_first=True)\n\n# Label encoding for ordinal variables\ndf['doornumber'] = df['doornumber'].replace({'two': 2, 'four': 4})\ndf['cylindernumber'] = df['cylindernumber'].replace({'two': 2, 'three': 3, 'four': 4, 'five': 5, 'six': 6, 'eight': 8, 'twelve': 12})\n\ndf.head()",
      "outputs": []
    },
    {
      "id": "5c051e2c-dfcb-4d1a-9e9c-6453401e2e18",
      "cell_type": "code",
      "metadata": {
        "noteable": {
          "cell_type": "code",
          "output_collection_id": "e224b6a5-878a-40e6-8733-680f6fa9074d"
        },
        "ExecuteTime": {
          "end_time": "2023-06-24T08:23:59.357046+00:00",
          "start_time": "2023-06-24T08:23:58.785555+00:00"
        }
      },
      "execution_count": null,
      "source": "from sklearn.model_selection import train_test_split\n\nX = df.drop(['price', 'CarName', 'car_ID'], axis=1)\ny = df['price']\n\nX_train, X_test, y_train, y_test = train_test_split(X, y, test_size=0.2, random_state=42)",
      "outputs": []
    },
    {
      "id": "36d5a946-ee38-4f42-ad34-4df3b5fbe246",
      "cell_type": "code",
      "metadata": {
        "noteable": {
          "cell_type": "code",
          "output_collection_id": "77690bf4-c279-4419-b40b-5edd2bdc5bf0"
        },
        "ExecuteTime": {
          "end_time": "2023-06-24T08:24:28.233875+00:00",
          "start_time": "2023-06-24T08:24:28.048007+00:00"
        }
      },
      "execution_count": null,
      "source": "from sklearn.linear_model import LinearRegression\nfrom sklearn.metrics import mean_squared_error, r2_score\n\n# Create a linear regression model\nmodel = LinearRegression()\n\n# Train the model\nmodel.fit(X_train, y_train)\n\n# Make predictions on the test data\ny_pred = model.predict(X_test)\n\n# Calculate the mean squared error of the predictions\nmse = mean_squared_error(y_test, y_pred)\n\n# Calculate the R-squared score of the predictions\nr2 = r2_score(y_test, y_pred)\n\nmse, r2",
      "outputs": []
    },
    {
      "id": "7cb5c4b9-9554-4464-97ba-8a7073b64c84",
      "cell_type": "code",
      "metadata": {
        "noteable": {
          "cell_type": "code",
          "output_collection_id": "cf6d6743-a600-4cb4-a9f1-0b344a70c4f1"
        },
        "ExecuteTime": {
          "end_time": "2023-06-24T08:24:59.370533+00:00",
          "start_time": "2023-06-24T08:24:58.956623+00:00"
        }
      },
      "execution_count": null,
      "source": "from sklearn.ensemble import RandomForestRegressor\n\n# Create a random forest regressor\nmodel = RandomForestRegressor(n_estimators=100, random_state=42)\n\n# Train the model\nmodel.fit(X_train, y_train)\n\n# Make predictions on the test data\ny_pred = model.predict(X_test)\n\n# Calculate the mean squared error of the predictions\nmse = mean_squared_error(y_test, y_pred)\n\n# Calculate the R-squared score of the predictions\nr2 = r2_score(y_test, y_pred)\n\nmse, r2",
      "outputs": []
    },
    {
      "id": "d6fe7e8e-e1bd-45c8-9a6f-d7179de8bbac",
      "cell_type": "code",
      "metadata": {
        "noteable": {
          "cell_type": "code",
          "output_collection_id": "4493eaef-a16d-4572-b1c5-c82398946903"
        },
        "ExecuteTime": {
          "end_time": "2023-06-24T08:26:05.037291+00:00",
          "start_time": "2023-06-24T08:26:03.902142+00:00"
        }
      },
      "execution_count": null,
      "source": "from sklearn.model_selection import cross_val_score\n\n# Perform cross-validation\nscores = cross_val_score(model, X_train, y_train, cv=5, scoring='neg_mean_squared_error')\n\n# Calculate the mean and standard deviation of the scores\nmean_score = -scores.mean()\nstd_score = scores.std()\n\nmean_score, std_score",
      "outputs": []
    },
    {
      "id": "386ac303-55de-4844-8a68-da1411cf8dcf",
      "cell_type": "code",
      "metadata": {
        "noteable": {
          "cell_type": "code",
          "output_collection_id": "d717cc1a-fd68-4c03-b5e1-9648a5c2653c"
        },
        "ExecuteTime": {
          "end_time": "2023-06-24T08:27:02.486491+00:00",
          "start_time": "2023-06-24T08:26:37.702562+00:00"
        }
      },
      "execution_count": null,
      "source": "from sklearn.model_selection import GridSearchCV\n\n# Define the parameter grid\nparam_grid = {\n    'n_estimators': [50, 100, 150, 200],\n    'max_depth': [None, 10, 20, 30, 40]\n}\n\n# Create a GridSearchCV object\ngrid_search = GridSearchCV(model, param_grid, cv=5, scoring='neg_mean_squared_error')\n\n# Perform grid search\ngrid_search.fit(X_train, y_train)\n\n# Get the best parameters\nbest_params = grid_search.best_params_\n\nbest_params",
      "outputs": []
    },
    {
      "id": "942b3ff1-0c47-45ac-8f30-05deafa719ce",
      "cell_type": "code",
      "metadata": {
        "noteable": {
          "cell_type": "code",
          "output_collection_id": "132b6a77-9de0-47c7-8561-8885d92be442"
        },
        "ExecuteTime": {
          "end_time": "2023-06-24T08:29:34.073184+00:00",
          "start_time": "2023-06-24T08:29:33.814716+00:00"
        },
        "datalink": {
          "101e5cb5-66cc-4093-a128-46acb3febaf8": {
            "applied_filters": [],
            "dataframe_info": {
              "default_index_used": true,
              "orig_num_cols": 27,
              "orig_num_rows": 5,
              "orig_size_bytes": 1120,
              "truncated_num_cols": 27,
              "truncated_num_rows": 5,
              "truncated_size_bytes": 1120,
              "truncated_string_columns": []
            },
            "display_id": "101e5cb5-66cc-4093-a128-46acb3febaf8",
            "dx_settings": {
              "ALLOW_NOTEABLE_ATTRS": true,
              "COLUMN_SAMPLING_METHOD": "outer",
              "DB_LOCATION": ":memory:",
              "DEV_MODE": false,
              "DISPLAY_MAX_COLUMNS": 100,
              "DISPLAY_MAX_ROWS": 50000,
              "DISPLAY_MODE": "simple",
              "ENABLE_ASSIGNMENT": true,
              "ENABLE_DATALINK": true,
              "FLATTEN_COLUMN_VALUES": true,
              "FLATTEN_INDEX_VALUES": false,
              "GENERATE_DEX_METADATA": false,
              "HTML_TABLE_SCHEMA": false,
              "LOG_LEVEL": 30,
              "MAX_RENDER_SIZE_BYTES": 104857600,
              "MAX_STRING_LENGTH": 250,
              "NUM_PAST_SAMPLES_TRACKED": 3,
              "RANDOM_STATE": 12648430,
              "RESET_INDEX_VALUES": false,
              "ROW_SAMPLING_METHOD": "random",
              "SAMPLING_FACTOR": 0.1,
              "SAMPLING_METHOD": "random",
              "STRINGIFY_COLUMN_VALUES": true,
              "STRINGIFY_INDEX_VALUES": false
            },
            "sample_history": [],
            "sampling_time": "2023-06-24T08:29:33.913059",
            "user_variable_name": null,
            "variable_name": "unk_dataframe_b0b4b6ac0e2840d6a1f47b4b9911c6e9"
          }
        }
      },
      "execution_count": null,
      "source": "import pandas as pd\nfrom sklearn.preprocessing import LabelEncoder\n\ndf = pd.read_csv('CarPrice_Assignment.csv')\n\n# Label encoding for all categorical variables\nlabel_encoder = LabelEncoder()\nfor col in df.select_dtypes(include=['object']).columns:\n    df[col] = label_encoder.fit_transform(df[col])\n\n# Binning for 'horsepower'\ndf['horsepower_bin'] = pd.qcut(df['horsepower'], q=4, labels=False)\n\ndf.head()",
      "outputs": []
    },
    {
      "id": "2bb92f03-0d1a-4095-aad8-20281957f3b8",
      "cell_type": "code",
      "metadata": {
        "noteable": {
          "cell_type": "code",
          "output_collection_id": "c523bf72-a351-4fd8-9972-85ec0aea61a0"
        },
        "ExecuteTime": {
          "end_time": "2023-06-24T08:30:12.121139+00:00",
          "start_time": "2023-06-24T08:30:11.902101+00:00"
        }
      },
      "execution_count": null,
      "source": "from sklearn.model_selection import train_test_split\nimport xgboost as xgb\nfrom sklearn.metrics import mean_squared_error, r2_score\n\nX = df.drop(['price'], axis=1)\ny = df['price']\n\nX_train, X_test, y_train, y_test = train_test_split(X, y, test_size=0.2, random_state=42)\n\n# Create an XGBoost regressor\nmodel = xgb.XGBRegressor()\n\n# Train the model\nmodel.fit(X_train, y_train)\n\n# Make predictions on the test data\ny_pred = model.predict(X_test)\n\n# Calculate the mean squared error of the predictions\nmse = mean_squared_error(y_test, y_pred)\n\n# Calculate the R-squared score of the predictions\nr2 = r2_score(y_test, y_pred)\n\nmse, r2",
      "outputs": []
    },
    {
      "id": "b0a5a140-6048-4101-a105-163b0b443957",
      "cell_type": "code",
      "metadata": {
        "noteable": {
          "cell_type": "code",
          "output_collection_id": "be48c5b2-e932-441b-bbea-dcb3ba34b11c"
        },
        "ExecuteTime": {
          "end_time": "2023-06-24T08:30:36.926628+00:00",
          "start_time": "2023-06-24T08:30:26.747539+00:00"
        }
      },
      "execution_count": null,
      "source": "!pip install xgboost",
      "outputs": []
    },
    {
      "id": "d684722f-1f44-473e-8871-8e06de5c5761",
      "cell_type": "code",
      "metadata": {
        "noteable": {
          "cell_type": "code",
          "output_collection_id": "2d1d5e7e-e411-41e9-bcec-aa61d16a09e9"
        },
        "ExecuteTime": {
          "end_time": "2023-06-24T08:31:40.343868+00:00",
          "start_time": "2023-06-24T08:31:39.192628+00:00"
        }
      },
      "execution_count": null,
      "source": "from sklearn.preprocessing import OrdinalEncoder, KBinsDiscretizer\nfrom xgboost import XGBClassifier\nfrom sklearn.model_selection import train_test_split\nfrom sklearn.metrics import accuracy_score, f1_score\n\n# Define the categorical columns\ncategorical_cols = ['job', 'marital', 'education', 'default', 'housing', 'loan', 'contact', 'month', 'poutcome']\n\n# Define the numerical columns for binning\nnumerical_cols = ['age', 'balance', 'day', 'duration', 'campaign', 'pdays', 'previous']\n\n# Create a copy of the dataframe\ndf_encoded = df.copy()\n\n# Apply ordinal encoding to categorical columns\nordinal_encoder = OrdinalEncoder()\ndf_encoded[categorical_cols] = ordinal_encoder.fit_transform(df[categorical_cols])\n\n# Apply binning to numerical columns\nkbins_discretizer = KBinsDiscretizer(n_bins=10, encode='ordinal', strategy='uniform')\ndf_encoded[numerical_cols] = kbins_discretizer.fit_transform(df[numerical_cols])\n\n# Split the data into training and testing sets\nX = df_encoded.drop('y', axis=1)\ny = df_encoded['y']\nX_train, X_test, y_train, y_test = train_test_split(X, y, test_size=0.2, random_state=42)\n\n# Train the XGBoost model\nxgb_model = XGBClassifier(use_label_encoder=False, eval_metric='logloss')\nxgb_model.fit(X_train, y_train)\n\n# Make predictions\ny_pred = xgb_model.predict(X_test)\n\n# Calculate accuracy and F1 score\naccuracy = accuracy_score(y_test, y_pred)\nf1 = f1_score(y_test, y_pred)\n\naccuracy, f1",
      "outputs": []
    },
    {
      "id": "cc128a14-1081-4090-9439-4b670b313bf5",
      "cell_type": "code",
      "metadata": {
        "noteable": {
          "cell_type": "code",
          "output_collection_id": "e8409e8f-272c-4015-b7c9-df3f1d501f33"
        },
        "ExecuteTime": {
          "end_time": "2023-06-24T08:32:24.718403+00:00",
          "start_time": "2023-06-24T08:32:24.452359+00:00"
        }
      },
      "execution_count": null,
      "source": "from sklearn.preprocessing import OrdinalEncoder, KBinsDiscretizer\nfrom xgboost import XGBRegressor\nfrom sklearn.model_selection import train_test_split\nfrom sklearn.metrics import mean_squared_error, r2_score\n\n# Define the categorical columns\ncategorical_cols = df.select_dtypes(include=['object']).columns.tolist()\n\n# Define the numerical columns for binning\nnumerical_cols = ['horsepower_bin']\n\n# Apply ordinal encoding to categorical columns\nordinal_encoder = OrdinalEncoder()\ndf[categorical_cols] = ordinal_encoder.fit_transform(df[categorical_cols])\n\n# Apply binning to numerical columns\nkbins_discretizer = KBinsDiscretizer(n_bins=4, encode='ordinal', strategy='uniform')\ndf[numerical_cols] = kbins_discretizer.fit_transform(df[numerical_cols])\n\n# Split the data into training and testing sets\nX = df.drop('price', axis=1)\ny = df['price']\nX_train, X_test, y_train, y_test = train_test_split(X, y, test_size=0.2, random_state=42)\n\n# Train the XGBoost model\nxgb_model = XGBRegressor()\nxgb_model.fit(X_train, y_train)\n\n# Make predictions\ny_pred = xgb_model.predict(X_test)\n\n# Calculate mean squared error and R-squared score\nmse = mean_squared_error(y_test, y_pred)\nr2 = r2_score(y_test, y_pred)\n\nmse, r2",
      "outputs": []
    },
    {
      "id": "1e32cb88-95fb-4443-9b00-6732fa73b3e6",
      "cell_type": "code",
      "metadata": {
        "noteable": {
          "cell_type": "code",
          "output_collection_id": "767708c0-ca38-4f4e-b7c2-bc53e6a39dd4"
        },
        "ExecuteTime": {
          "end_time": "2023-06-24T08:37:19.161428+00:00",
          "start_time": "2023-06-24T08:37:18.325487+00:00"
        }
      },
      "execution_count": null,
      "source": "import plotly.express as px\n\n# Calculate feature importances\nimportances = xgb_model.feature_importances_\n\n# Create a dataframe for the importances\nimportances_df = pd.DataFrame({'feature': X.columns, 'importance': importances})\n\n# Sort the dataframe by importance\nimportances_df = importances_df.sort_values('importance', ascending=False)\n\n# Create a bar plot of the feature importances\nfig = px.bar(importances_df, x='importance', y='feature', orientation='h', title='Feature Importances')\nfig.show()",
      "outputs": []
    },
    {
      "id": "c3a7c7a0-4981-4b49-b703-cc268482ee3f",
      "cell_type": "markdown",
      "source": "## Inference\nFrom the feature importance plot, we can see that the 'enginesize' feature has the highest importance in predicting the car price, followed by 'highwaympg' and 'carwidth'. This makes sense as larger engines are generally more expensive and cars with higher miles per gallon (mpg) are more fuel efficient, which can also contribute to a higher price. The width of the car can also be an indicator of its size and capacity, which can affect the price. The other features have less importance in the prediction.",
      "metadata": {
        "noteable": {
          "cell_type": "markdown"
        }
      }
    },
    {
      "id": "c9f9a0ac-dbac-4f28-897d-3c861012d4f6",
      "cell_type": "markdown",
      "source": "## Summary\nIn this notebook, we performed an in-depth analysis of a car price dataset and trained a machine learning model to predict car prices.\n\nFirst, we loaded the data and performed some initial exploratory data analysis. We then conducted a detailed data analysis, incorporating various analytics techniques and creating visually appealing plots using Plotly.\n\nNext, we applied feature engineering techniques to prepare the data for machine learning. We used ordinal encoding for categorical variables and binning for numerical variables. We then trained an XGBoost model on the processed data and evaluated its performance.\n\nFinally, we calculated and plotted the feature importances from the XGBoost model. This gave us insight into which features were most influential in predicting car prices. The 'enginesize' feature was found to be the most important, followed by 'highwaympg' and 'carwidth'.",
      "metadata": {
        "noteable": {
          "cell_type": "markdown"
        }
      }
    }
  ]
}