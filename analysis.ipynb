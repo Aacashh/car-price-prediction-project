{
  "nbformat": 4,
  "nbformat_minor": 5,
  "metadata": {
    "selected_hardware_size": "small",
    "noteable": {
      "last_transaction_id": "dc814c59-e154-43c5-aa19-8dc3e0891ec6"
    }
  },
  "cells": [
    {
      "id": "13fdb1d626c941e19541bc22f1a04e0c",
      "cell_type": "code",
      "metadata": {},
      "execution_count": null,
      "source": "",
      "outputs": []
    },
    {
      "id": "3a51521f-d724-4fb7-b232-84f508b9dc9d",
      "cell_type": "code",
      "metadata": {
        "noteable": {
          "cell_type": "code",
          "output_collection_id": "faf8c77f-f99d-4db7-88dc-6129c1338da0"
        },
        "ExecuteTime": {
          "end_time": "2023-06-23T19:46:50.675510+00:00",
          "start_time": "2023-06-23T19:46:50.290020+00:00"
        },
        "datalink": {
          "b1f19216-28a9-4e07-b93e-5327db1756ca": {
            "applied_filters": [],
            "dataframe_info": {
              "default_index_used": true,
              "orig_num_cols": 26,
              "orig_num_rows": 5,
              "orig_size_bytes": 1080,
              "truncated_num_cols": 26,
              "truncated_num_rows": 5,
              "truncated_size_bytes": 1080,
              "truncated_string_columns": []
            },
            "display_id": "b1f19216-28a9-4e07-b93e-5327db1756ca",
            "dx_settings": {
              "ALLOW_NOTEABLE_ATTRS": true,
              "COLUMN_SAMPLING_METHOD": "outer",
              "DB_LOCATION": ":memory:",
              "DEV_MODE": false,
              "DISPLAY_MAX_COLUMNS": 100,
              "DISPLAY_MAX_ROWS": 50000,
              "DISPLAY_MODE": "simple",
              "ENABLE_ASSIGNMENT": true,
              "ENABLE_DATALINK": true,
              "FLATTEN_COLUMN_VALUES": true,
              "FLATTEN_INDEX_VALUES": false,
              "GENERATE_DEX_METADATA": false,
              "HTML_TABLE_SCHEMA": false,
              "LOG_LEVEL": 30,
              "MAX_RENDER_SIZE_BYTES": 104857600,
              "MAX_STRING_LENGTH": 250,
              "NUM_PAST_SAMPLES_TRACKED": 3,
              "RANDOM_STATE": 12648430,
              "RESET_INDEX_VALUES": false,
              "ROW_SAMPLING_METHOD": "random",
              "SAMPLING_FACTOR": 0.1,
              "SAMPLING_METHOD": "random",
              "STRINGIFY_COLUMN_VALUES": true,
              "STRINGIFY_INDEX_VALUES": false
            },
            "sample_history": [],
            "sampling_time": "2023-06-23T19:46:50.514719",
            "user_variable_name": null,
            "variable_name": "unk_dataframe_434f3a8a5fbc49ada2ebf950d46b4a91"
          }
        }
      },
      "execution_count": null,
      "source": "import pandas as pd\nimport plotly.express as px\ndf = pd.read_csv('CarPrice_Assignment.csv')\ndf.head()",
      "outputs": []
    },
    {
      "id": "8cd024c7-1621-4a8b-9799-65dbcbde89c6",
      "cell_type": "code",
      "metadata": {
        "noteable": {
          "cell_type": "code",
          "output_collection_id": "a306586e-c6e3-4ec9-9d1f-7ed773eecb2b"
        },
        "ExecuteTime": {
          "end_time": "2023-06-23T19:47:27.562434+00:00",
          "start_time": "2023-06-23T19:47:26.839010+00:00"
        }
      },
      "execution_count": null,
      "source": "fig = px.histogram(df, x='price', nbins=50, title='Distribution of Car Prices')\nfig.show()",
      "outputs": []
    },
    {
      "id": "9f2a56c5-ac6e-45fa-ad28-e4b1c196148c",
      "cell_type": "code",
      "metadata": {
        "noteable": {
          "cell_type": "code",
          "output_collection_id": "ac0cc635-2424-43bb-88f8-58187e935d24"
        },
        "ExecuteTime": {
          "end_time": "2023-06-23T19:47:55.465934+00:00",
          "start_time": "2023-06-23T19:47:55.245782+00:00"
        }
      },
      "execution_count": null,
      "source": "fig = px.scatter(df, x='enginesize', y='price', title='Engine Size vs Price')\nfig.show()",
      "outputs": []
    },
    {
      "id": "b851cd6f-4e3d-4510-b1f9-fd6826d8a9e3",
      "cell_type": "code",
      "metadata": {
        "noteable": {
          "cell_type": "code",
          "output_collection_id": "34d79c36-add6-4234-b3e4-0c9c930a8ad2"
        },
        "ExecuteTime": {
          "end_time": "2023-06-23T19:48:16.582514+00:00",
          "start_time": "2023-06-23T19:48:16.368579+00:00"
        }
      },
      "execution_count": null,
      "source": "fig = px.scatter(df, x='horsepower', y='price', title='Horsepower vs Price')\nfig.show()",
      "outputs": []
    },
    {
      "id": "67d805b5-2266-4c64-8875-da8a7cb85342",
      "cell_type": "code",
      "metadata": {
        "noteable": {
          "cell_type": "code",
          "output_collection_id": "a03b5b41-5765-4435-9bf4-f4612e14d2cc"
        },
        "ExecuteTime": {
          "end_time": "2023-06-23T19:48:37.875249+00:00",
          "start_time": "2023-06-23T19:48:37.665432+00:00"
        }
      },
      "execution_count": null,
      "source": "fig = px.scatter(df, x='curbweight', y='price', title='Curb Weight vs Price')\nfig.show()",
      "outputs": []
    },
    {
      "id": "c0caf918-b3a3-4db6-8909-5b23e1846584",
      "cell_type": "code",
      "metadata": {
        "noteable": {
          "cell_type": "code",
          "output_collection_id": "03ba6e53-f7f6-484a-bffa-88293c073898"
        },
        "ExecuteTime": {
          "end_time": "2023-06-23T19:49:04.434278+00:00",
          "start_time": "2023-06-23T19:49:04.212520+00:00"
        }
      },
      "execution_count": null,
      "source": "fig = px.box(df, x='fueltype', y='price', title='Fuel Type vs Price')\nfig.show()",
      "outputs": []
    },
    {
      "id": "e0e26ae1-616d-46d0-8ac8-ac571ab158e9",
      "cell_type": "code",
      "metadata": {
        "noteable": {
          "cell_type": "code",
          "output_collection_id": "e9b0c3ee-1e83-4c10-8bc8-df022ca3fce8"
        },
        "ExecuteTime": {
          "end_time": "2023-06-23T19:49:25.561776+00:00",
          "start_time": "2023-06-23T19:49:25.347721+00:00"
        }
      },
      "execution_count": null,
      "source": "fig = px.box(df, x='aspiration', y='price', title='Aspiration vs Price')\nfig.show()",
      "outputs": []
    },
    {
      "id": "d0de03e2-fb3e-4a5f-8d31-7396918ce0bd",
      "cell_type": "code",
      "metadata": {
        "noteable": {
          "cell_type": "code",
          "output_collection_id": "ed3a3aa7-417f-4bcf-a46c-020cc24648b6"
        },
        "ExecuteTime": {
          "end_time": "2023-06-23T19:49:55.520818+00:00",
          "start_time": "2023-06-23T19:49:54.385214+00:00"
        }
      },
      "execution_count": null,
      "source": "fig = px.box(df, x='bodystyle', y='price', title='Body Style vs Price')\nfig.show()",
      "outputs": []
    },
    {
      "id": "305b9c26-dbe2-49c5-8250-d3ad7ffd86f5",
      "cell_type": "code",
      "metadata": {
        "noteable": {
          "cell_type": "code",
          "output_collection_id": "cbd6870e-6f28-49a8-91d4-1888c4b6d86c"
        },
        "ExecuteTime": {
          "end_time": "2023-06-23T19:50:10.663776+00:00",
          "start_time": "2023-06-23T19:50:10.459073+00:00"
        }
      },
      "execution_count": null,
      "source": "fig = px.box(df, x='carbody', y='price', title='Body Style vs Price')\nfig.show()",
      "outputs": []
    },
    {
      "id": "52507c8d-6503-493e-863c-8d1d7734335d",
      "cell_type": "markdown",
      "source": "## Inferences from the Plots\n\n1. **Engine Size vs Price**: There is a positive correlation between engine size and price. As the engine size increases, the price of the car also tends to increase. This suggests that cars with larger engines are generally more expensive.\n\n2. **Horsepower vs Price**: Similar to engine size, there is a positive correlation between horsepower and price. Cars with higher horsepower are generally more expensive. This is expected as high-performance cars with more horsepower are usually priced higher.\n\n3. **Curb Weight vs Price**: There is a positive correlation between the curb weight of a car and its price. Heavier cars, which are often larger and have more features, tend to be more expensive.\n\n4. **Fuel Type vs Price**: The box plot shows that diesel cars are generally more expensive than gas cars. However, there is a significant overlap in the price ranges of the two types of cars.\n\n5. **Aspiration vs Price**: Turbo cars tend to be more expensive than standard cars, but there is a significant overlap in the price ranges of the two types of cars.\n\n6. **Body Style vs Price**: The price range varies significantly among different body styles. Convertible and hardtop cars tend to be more expensive, while hatchback cars are generally less expensive. Sedan and wagon cars fall in the middle of the price range.\n\nThese observations suggest that engine size, horsepower, and curb weight are strong predictors of car price. Fuel type, aspiration, and body style may also influence the price, but the relationships are not as strong.",
      "metadata": {
        "noteable": {
          "cell_type": "markdown"
        }
      }
    },
    {
      "id": "25f749fe-9da7-4132-bc50-7a6377f58c5e",
      "cell_type": "code",
      "metadata": {
        "noteable": {
          "cell_type": "code",
          "output_collection_id": "5a9928c0-5b69-4d25-a408-144046e5dcaf"
        },
        "ExecuteTime": {
          "end_time": "2023-06-24T07:21:16.027022+00:00",
          "start_time": "2023-06-24T07:21:15.688121+00:00"
        },
        "scrolled": true
      },
      "execution_count": null,
      "source": "import plotly.graph_objects as go\nfrom sklearn.linear_model import LinearRegression\n\nmodel = LinearRegression()\nX = df[['enginesize', 'horsepower']]\ny = df['price']\nmodel.fit(X, y)\n\n# Predicting the prices\npredicted_prices = model.predict(X)\n\n# Creating the 3D scatter plot\nfig = go.Figure()\nfig.add_trace(go.Scatter3d(x=df['enginesize'], y=df['horsepower'], z=df['price'],\n                           mode='markers', name='Actual Price'))\nfig.add_trace(go.Scatter3d(x=df['enginesize'], y=df['horsepower'], z=predicted_prices,\n                           mode='markers', name='Predicted Price'))\nfig.update_layout(scene = dict(xaxis_title='Engine Size',\n                               yaxis_title='Horsepower',\n                               zaxis_title='Price'),\n                  title='Engine Size and Horsepower vs Price (with Regression Plane)')\nfig.show()",
      "outputs": []
    },
    {
      "id": "832f61ae-a428-4ad0-bd0e-462475777aee",
      "cell_type": "markdown",
      "source": "## Inference from Engine Size and Horsepower vs Price Regression Graph\nThe regression graph provides a visual representation of the relationship between engine size, horsepower, and price. The trend observed from the graph indicates that both engine size and horsepower have a positive correlation with the price of the car. This means that as the engine size and horsepower increase, the price of the car also tends to increase.\nThe orange dots represent the predicted prices based on the linear regression model trained on engine size and horsepower. The model seems to fit the data well, indicating that engine size and horsepower are significant predictors of car price.\nHowever, there are some outliers where the actual price (blue dots) deviates significantly from the predicted price. These could be due to other factors not considered in this model, such as brand value, car age, or additional features.",
      "metadata": {
        "noteable": {
          "cell_type": "markdown"
        }
      }
    },
    {
      "id": "97ec5da4-ae0e-4f84-a0d5-9a5f5b26bb7f",
      "cell_type": "markdown",
      "source": "## Bivariate Analysis Inference\n\nThe scatter plot above shows the relationship between engine size, horsepower, and price. The size of the points represents the horsepower of the cars. From the plot, we can infer that cars with larger engines and more horsepower tend to be more expensive. This is consistent with our previous observations.",
      "metadata": {
        "noteable": {
          "cell_type": "markdown"
        }
      }
    },
    {
      "id": "f62d11a9-8f69-4d33-8af9-4f67bc1b7adb",
      "cell_type": "code",
      "metadata": {
        "noteable": {
          "cell_type": "code",
          "output_collection_id": "fb9a6e10-28f0-4d1e-85f3-f047c2c80a7f"
        },
        "ExecuteTime": {
          "end_time": "2023-06-23T19:57:28.649832+00:00",
          "start_time": "2023-06-23T19:57:28.408213+00:00"
        }
      },
      "execution_count": null,
      "source": "fig = px.scatter_3d(df, x='enginesize', y='horsepower', z='price', color='carbody', title='Engine Size, Horsepower, and Body Style vs Price')\nfig.show()",
      "outputs": []
    },
    {
      "id": "1e5610bd-a807-4ff3-b91d-3c4e03a0a941",
      "cell_type": "markdown",
      "source": "## Trivariate Analysis Inference\n\nThe 3D scatter plot above shows the relationship between engine size, horsepower, body style, and price. The color of the points represents the body style of the cars. From the plot, we can infer the following:\n\n1. Cars with larger engines and more horsepower tend to be more expensive, regardless of the body style.\n2. Convertible and hardtop cars (represented by the red and orange points) are generally more expensive, even with similar engine sizes and horsepower.\n3. Hatchback cars (represented by the blue points) are generally less expensive, even with similar engine sizes and horsepower.\n\nThis analysis further confirms our previous observations and provides additional insight into the influence of body style on car price.",
      "metadata": {
        "noteable": {
          "cell_type": "markdown"
        }
      }
    },
    {
      "id": "f53735b3-8b50-4d29-8eaf-f78405c19dd0",
      "cell_type": "markdown",
      "source": "## Conclusion and Key Takeaways\n\nFrom the above analysis, we can draw several key conclusions:\n\n1. **Engine Size, Horsepower**: These are strong predictors of car price. Cars with larger engines and more horsepower tend to be more expensive. The regression graph further confirms this relationship and shows that a linear regression model trained on engine size and horsepower can predict car prices with reasonable accuracy.\n\n2. **Curb Weight**: Heavier cars, which are often larger and have more features, tend to be more expensive.\n\n3. **Fuel Type and Aspiration**: These factors also influence car price, but the relationships are not as strong. Diesel and turbo cars are generally more expensive than their counterparts.\n\n4. **Body Style**: The body style of a car can significantly influence its price. Convertible and hardtop cars are generally more expensive, while hatchback cars are usually less expensive.\n\n5. **Bivariate and Trivariate Analysis**: These analyses further confirmed the relationships observed in the univariate analysis and provided additional insights. For instance, the trivariate analysis showed that convertible and hardtop cars tend to be more expensive, even with similar engine sizes and horsepower.\n\nThese insights can be very useful for predicting car prices. However, it's important to remember that these are general trends and there can be exceptions. Other factors not included in this dataset, such as brand reputation, car age, and mileage, can also significantly influence car prices.",
      "metadata": {
        "noteable": {
          "cell_type": "markdown"
        }
      }
    }
  ]
}