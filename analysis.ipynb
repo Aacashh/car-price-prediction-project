{
  "cells": [
    {
      "cell_type": "code",
      "execution_count": 1,
      "id": "3a51521f-d724-4fb7-b232-84f508b9dc9d",
      "metadata": {
        "ExecuteTime": {
          "end_time": "2023-06-23T19:46:50.675510+00:00",
          "start_time": "2023-06-23T19:46:50.290020+00:00"
        },
        "datalink": {
          "b1f19216-28a9-4e07-b93e-5327db1756ca": {
            "applied_filters": [],
            "dataframe_info": {
              "default_index_used": true,
              "orig_num_cols": 26,
              "orig_num_rows": 5,
              "orig_size_bytes": 1080,
              "truncated_num_cols": 26,
              "truncated_num_rows": 5,
              "truncated_size_bytes": 1080,
              "truncated_string_columns": []
            },
            "display_id": "b1f19216-28a9-4e07-b93e-5327db1756ca",
            "dx_settings": {
              "ALLOW_NOTEABLE_ATTRS": true,
              "COLUMN_SAMPLING_METHOD": "outer",
              "DB_LOCATION": ":memory:",
              "DEV_MODE": false,
              "DISPLAY_MAX_COLUMNS": 100,
              "DISPLAY_MAX_ROWS": 50000,
              "DISPLAY_MODE": "simple",
              "ENABLE_ASSIGNMENT": true,
              "ENABLE_DATALINK": true,
              "FLATTEN_COLUMN_VALUES": true,
              "FLATTEN_INDEX_VALUES": false,
              "GENERATE_DEX_METADATA": false,
              "HTML_TABLE_SCHEMA": false,
              "LOG_LEVEL": 30,
              "MAX_RENDER_SIZE_BYTES": 104857600,
              "MAX_STRING_LENGTH": 250,
              "NUM_PAST_SAMPLES_TRACKED": 3,
              "RANDOM_STATE": 12648430,
              "RESET_INDEX_VALUES": false,
              "ROW_SAMPLING_METHOD": "random",
              "SAMPLING_FACTOR": 0.1,
              "SAMPLING_METHOD": "random",
              "STRINGIFY_COLUMN_VALUES": true,
              "STRINGIFY_INDEX_VALUES": false
            },
            "sample_history": [],
            "sampling_time": "2023-06-23T19:46:50.514719",
            "user_variable_name": null,
            "variable_name": "unk_dataframe_434f3a8a5fbc49ada2ebf950d46b4a91"
          }
        },
        "noteable": {
          "cell_type": "code",
          "output_collection_id": "faf8c77f-f99d-4db7-88dc-6129c1338da0"
        }
      },
      "outputs": [
        {
          "data": {
            "text/html": [
              "<div>\n",
              "<style scoped>\n",
              "    .dataframe tbody tr th:only-of-type {\n",
              "        vertical-align: middle;\n",
              "    }\n",
              "\n",
              "    .dataframe tbody tr th {\n",
              "        vertical-align: top;\n",
              "    }\n",
              "\n",
              "    .dataframe thead th {\n",
              "        text-align: right;\n",
              "    }\n",
              "</style>\n",
              "<table border=\"1\" class=\"dataframe\">\n",
              "  <thead>\n",
              "    <tr style=\"text-align: right;\">\n",
              "      <th></th>\n",
              "      <th>car_ID</th>\n",
              "      <th>symboling</th>\n",
              "      <th>CarName</th>\n",
              "      <th>fueltype</th>\n",
              "      <th>aspiration</th>\n",
              "      <th>doornumber</th>\n",
              "      <th>carbody</th>\n",
              "      <th>drivewheel</th>\n",
              "      <th>enginelocation</th>\n",
              "      <th>wheelbase</th>\n",
              "      <th>...</th>\n",
              "      <th>enginesize</th>\n",
              "      <th>fuelsystem</th>\n",
              "      <th>boreratio</th>\n",
              "      <th>stroke</th>\n",
              "      <th>compressionratio</th>\n",
              "      <th>horsepower</th>\n",
              "      <th>peakrpm</th>\n",
              "      <th>citympg</th>\n",
              "      <th>highwaympg</th>\n",
              "      <th>price</th>\n",
              "    </tr>\n",
              "  </thead>\n",
              "  <tbody>\n",
              "    <tr>\n",
              "      <th>0</th>\n",
              "      <td>1</td>\n",
              "      <td>3</td>\n",
              "      <td>alfa-romero giulia</td>\n",
              "      <td>gas</td>\n",
              "      <td>std</td>\n",
              "      <td>two</td>\n",
              "      <td>convertible</td>\n",
              "      <td>rwd</td>\n",
              "      <td>front</td>\n",
              "      <td>88.6</td>\n",
              "      <td>...</td>\n",
              "      <td>130</td>\n",
              "      <td>mpfi</td>\n",
              "      <td>3.47</td>\n",
              "      <td>2.68</td>\n",
              "      <td>9.0</td>\n",
              "      <td>111</td>\n",
              "      <td>5000</td>\n",
              "      <td>21</td>\n",
              "      <td>27</td>\n",
              "      <td>13495.0</td>\n",
              "    </tr>\n",
              "    <tr>\n",
              "      <th>1</th>\n",
              "      <td>2</td>\n",
              "      <td>3</td>\n",
              "      <td>alfa-romero stelvio</td>\n",
              "      <td>gas</td>\n",
              "      <td>std</td>\n",
              "      <td>two</td>\n",
              "      <td>convertible</td>\n",
              "      <td>rwd</td>\n",
              "      <td>front</td>\n",
              "      <td>88.6</td>\n",
              "      <td>...</td>\n",
              "      <td>130</td>\n",
              "      <td>mpfi</td>\n",
              "      <td>3.47</td>\n",
              "      <td>2.68</td>\n",
              "      <td>9.0</td>\n",
              "      <td>111</td>\n",
              "      <td>5000</td>\n",
              "      <td>21</td>\n",
              "      <td>27</td>\n",
              "      <td>16500.0</td>\n",
              "    </tr>\n",
              "    <tr>\n",
              "      <th>2</th>\n",
              "      <td>3</td>\n",
              "      <td>1</td>\n",
              "      <td>alfa-romero Quadrifoglio</td>\n",
              "      <td>gas</td>\n",
              "      <td>std</td>\n",
              "      <td>two</td>\n",
              "      <td>hatchback</td>\n",
              "      <td>rwd</td>\n",
              "      <td>front</td>\n",
              "      <td>94.5</td>\n",
              "      <td>...</td>\n",
              "      <td>152</td>\n",
              "      <td>mpfi</td>\n",
              "      <td>2.68</td>\n",
              "      <td>3.47</td>\n",
              "      <td>9.0</td>\n",
              "      <td>154</td>\n",
              "      <td>5000</td>\n",
              "      <td>19</td>\n",
              "      <td>26</td>\n",
              "      <td>16500.0</td>\n",
              "    </tr>\n",
              "    <tr>\n",
              "      <th>3</th>\n",
              "      <td>4</td>\n",
              "      <td>2</td>\n",
              "      <td>audi 100 ls</td>\n",
              "      <td>gas</td>\n",
              "      <td>std</td>\n",
              "      <td>four</td>\n",
              "      <td>sedan</td>\n",
              "      <td>fwd</td>\n",
              "      <td>front</td>\n",
              "      <td>99.8</td>\n",
              "      <td>...</td>\n",
              "      <td>109</td>\n",
              "      <td>mpfi</td>\n",
              "      <td>3.19</td>\n",
              "      <td>3.40</td>\n",
              "      <td>10.0</td>\n",
              "      <td>102</td>\n",
              "      <td>5500</td>\n",
              "      <td>24</td>\n",
              "      <td>30</td>\n",
              "      <td>13950.0</td>\n",
              "    </tr>\n",
              "    <tr>\n",
              "      <th>4</th>\n",
              "      <td>5</td>\n",
              "      <td>2</td>\n",
              "      <td>audi 100ls</td>\n",
              "      <td>gas</td>\n",
              "      <td>std</td>\n",
              "      <td>four</td>\n",
              "      <td>sedan</td>\n",
              "      <td>4wd</td>\n",
              "      <td>front</td>\n",
              "      <td>99.4</td>\n",
              "      <td>...</td>\n",
              "      <td>136</td>\n",
              "      <td>mpfi</td>\n",
              "      <td>3.19</td>\n",
              "      <td>3.40</td>\n",
              "      <td>8.0</td>\n",
              "      <td>115</td>\n",
              "      <td>5500</td>\n",
              "      <td>18</td>\n",
              "      <td>22</td>\n",
              "      <td>17450.0</td>\n",
              "    </tr>\n",
              "  </tbody>\n",
              "</table>\n",
              "<p>5 rows × 26 columns</p>\n",
              "</div>"
            ],
            "text/plain": [
              "   car_ID  symboling                   CarName fueltype aspiration doornumber  \\\n",
              "0       1          3        alfa-romero giulia      gas        std        two   \n",
              "1       2          3       alfa-romero stelvio      gas        std        two   \n",
              "2       3          1  alfa-romero Quadrifoglio      gas        std        two   \n",
              "3       4          2               audi 100 ls      gas        std       four   \n",
              "4       5          2                audi 100ls      gas        std       four   \n",
              "\n",
              "       carbody drivewheel enginelocation  wheelbase  ...  enginesize  \\\n",
              "0  convertible        rwd          front       88.6  ...         130   \n",
              "1  convertible        rwd          front       88.6  ...         130   \n",
              "2    hatchback        rwd          front       94.5  ...         152   \n",
              "3        sedan        fwd          front       99.8  ...         109   \n",
              "4        sedan        4wd          front       99.4  ...         136   \n",
              "\n",
              "   fuelsystem  boreratio  stroke compressionratio horsepower  peakrpm citympg  \\\n",
              "0        mpfi       3.47    2.68              9.0        111     5000      21   \n",
              "1        mpfi       3.47    2.68              9.0        111     5000      21   \n",
              "2        mpfi       2.68    3.47              9.0        154     5000      19   \n",
              "3        mpfi       3.19    3.40             10.0        102     5500      24   \n",
              "4        mpfi       3.19    3.40              8.0        115     5500      18   \n",
              "\n",
              "   highwaympg    price  \n",
              "0          27  13495.0  \n",
              "1          27  16500.0  \n",
              "2          26  16500.0  \n",
              "3          30  13950.0  \n",
              "4          22  17450.0  \n",
              "\n",
              "[5 rows x 26 columns]"
            ]
          },
          "execution_count": 1,
          "metadata": {},
          "output_type": "execute_result"
        }
      ],
      "source": [
        "import pandas as pd\n",
        "import plotly.express as px\n",
        "df = pd.read_csv('CarPrice_Assignment.csv')\n",
        "df.head()"
      ]
    },
    {
      "cell_type": "code",
      "execution_count": 2,
      "id": "8cd024c7-1621-4a8b-9799-65dbcbde89c6",
      "metadata": {
        "ExecuteTime": {
          "end_time": "2023-06-23T19:47:27.562434+00:00",
          "start_time": "2023-06-23T19:47:26.839010+00:00"
        },
        "noteable": {
          "cell_type": "code",
          "output_collection_id": "a306586e-c6e3-4ec9-9d1f-7ed773eecb2b"
        }
      },
      "outputs": [
        {
          "data": {
            "application/vnd.plotly.v1+json": {
              "config": {
                "plotlyServerURL": "https://plot.ly"
              },
              "data": [
                {
                  "alignmentgroup": "True",
                  "bingroup": "x",
                  "hovertemplate": "price=%{x}<br>count=%{y}<extra></extra>",
                  "legendgroup": "",
                  "marker": {
                    "color": "#636efa",
                    "pattern": {
                      "shape": ""
                    }
                  },
                  "name": "",
                  "nbinsx": 50,
                  "offsetgroup": "",
                  "orientation": "v",
                  "showlegend": false,
                  "type": "histogram",
                  "x": [
                    13495,
                    16500,
                    16500,
                    13950,
                    17450,
                    15250,
                    17710,
                    18920,
                    23875,
                    17859.167,
                    16430,
                    16925,
                    20970,
                    21105,
                    24565,
                    30760,
                    41315,
                    36880,
                    5151,
                    6295,
                    6575,
                    5572,
                    6377,
                    7957,
                    6229,
                    6692,
                    7609,
                    8558,
                    8921,
                    12964,
                    6479,
                    6855,
                    5399,
                    6529,
                    7129,
                    7295,
                    7295,
                    7895,
                    9095,
                    8845,
                    10295,
                    12945,
                    10345,
                    6785,
                    8916.5,
                    8916.5,
                    11048,
                    32250,
                    35550,
                    36000,
                    5195,
                    6095,
                    6795,
                    6695,
                    7395,
                    10945,
                    11845,
                    13645,
                    15645,
                    8845,
                    8495,
                    10595,
                    10245,
                    10795,
                    11245,
                    18280,
                    18344,
                    25552,
                    28248,
                    28176,
                    31600,
                    34184,
                    35056,
                    40960,
                    45400,
                    16503,
                    5389,
                    6189,
                    6669,
                    7689,
                    9959,
                    8499,
                    12629,
                    14869,
                    14489,
                    6989,
                    8189,
                    9279,
                    9279,
                    5499,
                    7099,
                    6649,
                    6849,
                    7349,
                    7299,
                    7799,
                    7499,
                    7999,
                    8249,
                    8949,
                    9549,
                    13499,
                    14399,
                    13499,
                    17199,
                    19699,
                    18399,
                    11900,
                    13200,
                    12440,
                    13860,
                    15580,
                    16900,
                    16695,
                    17075,
                    16630,
                    17950,
                    18150,
                    5572,
                    7957,
                    6229,
                    6692,
                    7609,
                    8921,
                    12764,
                    22018,
                    32528,
                    34028,
                    37028,
                    31400.5,
                    9295,
                    9895,
                    11850,
                    12170,
                    15040,
                    15510,
                    18150,
                    18620,
                    5118,
                    7053,
                    7603,
                    7126,
                    7775,
                    9960,
                    9233,
                    11259,
                    7463,
                    10198,
                    8013,
                    11694,
                    5348,
                    6338,
                    6488,
                    6918,
                    7898,
                    8778,
                    6938,
                    7198,
                    7898,
                    7788,
                    7738,
                    8358,
                    9258,
                    8058,
                    8238,
                    9298,
                    9538,
                    8449,
                    9639,
                    9989,
                    11199,
                    11549,
                    17669,
                    8948,
                    10698,
                    9988,
                    10898,
                    11248,
                    16558,
                    15998,
                    15690,
                    15750,
                    7775,
                    7975,
                    7995,
                    8195,
                    8495,
                    9495,
                    9995,
                    11595,
                    9980,
                    13295,
                    13845,
                    12290,
                    12940,
                    13415,
                    15985,
                    16515,
                    18420,
                    18950,
                    16845,
                    19045,
                    21485,
                    22470,
                    22625
                  ],
                  "xaxis": "x",
                  "yaxis": "y"
                }
              ],
              "layout": {
                "barmode": "relative",
                "legend": {
                  "tracegroupgap": 0
                },
                "template": {
                  "data": {
                    "bar": [
                      {
                        "error_x": {
                          "color": "#2a3f5f"
                        },
                        "error_y": {
                          "color": "#2a3f5f"
                        },
                        "marker": {
                          "line": {
                            "color": "#E5ECF6",
                            "width": 0.5
                          },
                          "pattern": {
                            "fillmode": "overlay",
                            "size": 10,
                            "solidity": 0.2
                          }
                        },
                        "type": "bar"
                      }
                    ],
                    "barpolar": [
                      {
                        "marker": {
                          "line": {
                            "color": "#E5ECF6",
                            "width": 0.5
                          },
                          "pattern": {
                            "fillmode": "overlay",
                            "size": 10,
                            "solidity": 0.2
                          }
                        },
                        "type": "barpolar"
                      }
                    ],
                    "carpet": [
                      {
                        "aaxis": {
                          "endlinecolor": "#2a3f5f",
                          "gridcolor": "white",
                          "linecolor": "white",
                          "minorgridcolor": "white",
                          "startlinecolor": "#2a3f5f"
                        },
                        "baxis": {
                          "endlinecolor": "#2a3f5f",
                          "gridcolor": "white",
                          "linecolor": "white",
                          "minorgridcolor": "white",
                          "startlinecolor": "#2a3f5f"
                        },
                        "type": "carpet"
                      }
                    ],
                    "choropleth": [
                      {
                        "colorbar": {
                          "outlinewidth": 0,
                          "ticks": ""
                        },
                        "type": "choropleth"
                      }
                    ],
                    "contour": [
                      {
                        "colorbar": {
                          "outlinewidth": 0,
                          "ticks": ""
                        },
                        "colorscale": [
                          [
                            0,
                            "#0d0887"
                          ],
                          [
                            0.1111111111111111,
                            "#46039f"
                          ],
                          [
                            0.2222222222222222,
                            "#7201a8"
                          ],
                          [
                            0.3333333333333333,
                            "#9c179e"
                          ],
                          [
                            0.4444444444444444,
                            "#bd3786"
                          ],
                          [
                            0.5555555555555556,
                            "#d8576b"
                          ],
                          [
                            0.6666666666666666,
                            "#ed7953"
                          ],
                          [
                            0.7777777777777778,
                            "#fb9f3a"
                          ],
                          [
                            0.8888888888888888,
                            "#fdca26"
                          ],
                          [
                            1,
                            "#f0f921"
                          ]
                        ],
                        "type": "contour"
                      }
                    ],
                    "contourcarpet": [
                      {
                        "colorbar": {
                          "outlinewidth": 0,
                          "ticks": ""
                        },
                        "type": "contourcarpet"
                      }
                    ],
                    "heatmap": [
                      {
                        "colorbar": {
                          "outlinewidth": 0,
                          "ticks": ""
                        },
                        "colorscale": [
                          [
                            0,
                            "#0d0887"
                          ],
                          [
                            0.1111111111111111,
                            "#46039f"
                          ],
                          [
                            0.2222222222222222,
                            "#7201a8"
                          ],
                          [
                            0.3333333333333333,
                            "#9c179e"
                          ],
                          [
                            0.4444444444444444,
                            "#bd3786"
                          ],
                          [
                            0.5555555555555556,
                            "#d8576b"
                          ],
                          [
                            0.6666666666666666,
                            "#ed7953"
                          ],
                          [
                            0.7777777777777778,
                            "#fb9f3a"
                          ],
                          [
                            0.8888888888888888,
                            "#fdca26"
                          ],
                          [
                            1,
                            "#f0f921"
                          ]
                        ],
                        "type": "heatmap"
                      }
                    ],
                    "heatmapgl": [
                      {
                        "colorbar": {
                          "outlinewidth": 0,
                          "ticks": ""
                        },
                        "colorscale": [
                          [
                            0,
                            "#0d0887"
                          ],
                          [
                            0.1111111111111111,
                            "#46039f"
                          ],
                          [
                            0.2222222222222222,
                            "#7201a8"
                          ],
                          [
                            0.3333333333333333,
                            "#9c179e"
                          ],
                          [
                            0.4444444444444444,
                            "#bd3786"
                          ],
                          [
                            0.5555555555555556,
                            "#d8576b"
                          ],
                          [
                            0.6666666666666666,
                            "#ed7953"
                          ],
                          [
                            0.7777777777777778,
                            "#fb9f3a"
                          ],
                          [
                            0.8888888888888888,
                            "#fdca26"
                          ],
                          [
                            1,
                            "#f0f921"
                          ]
                        ],
                        "type": "heatmapgl"
                      }
                    ],
                    "histogram": [
                      {
                        "marker": {
                          "pattern": {
                            "fillmode": "overlay",
                            "size": 10,
                            "solidity": 0.2
                          }
                        },
                        "type": "histogram"
                      }
                    ],
                    "histogram2d": [
                      {
                        "colorbar": {
                          "outlinewidth": 0,
                          "ticks": ""
                        },
                        "colorscale": [
                          [
                            0,
                            "#0d0887"
                          ],
                          [
                            0.1111111111111111,
                            "#46039f"
                          ],
                          [
                            0.2222222222222222,
                            "#7201a8"
                          ],
                          [
                            0.3333333333333333,
                            "#9c179e"
                          ],
                          [
                            0.4444444444444444,
                            "#bd3786"
                          ],
                          [
                            0.5555555555555556,
                            "#d8576b"
                          ],
                          [
                            0.6666666666666666,
                            "#ed7953"
                          ],
                          [
                            0.7777777777777778,
                            "#fb9f3a"
                          ],
                          [
                            0.8888888888888888,
                            "#fdca26"
                          ],
                          [
                            1,
                            "#f0f921"
                          ]
                        ],
                        "type": "histogram2d"
                      }
                    ],
                    "histogram2dcontour": [
                      {
                        "colorbar": {
                          "outlinewidth": 0,
                          "ticks": ""
                        },
                        "colorscale": [
                          [
                            0,
                            "#0d0887"
                          ],
                          [
                            0.1111111111111111,
                            "#46039f"
                          ],
                          [
                            0.2222222222222222,
                            "#7201a8"
                          ],
                          [
                            0.3333333333333333,
                            "#9c179e"
                          ],
                          [
                            0.4444444444444444,
                            "#bd3786"
                          ],
                          [
                            0.5555555555555556,
                            "#d8576b"
                          ],
                          [
                            0.6666666666666666,
                            "#ed7953"
                          ],
                          [
                            0.7777777777777778,
                            "#fb9f3a"
                          ],
                          [
                            0.8888888888888888,
                            "#fdca26"
                          ],
                          [
                            1,
                            "#f0f921"
                          ]
                        ],
                        "type": "histogram2dcontour"
                      }
                    ],
                    "mesh3d": [
                      {
                        "colorbar": {
                          "outlinewidth": 0,
                          "ticks": ""
                        },
                        "type": "mesh3d"
                      }
                    ],
                    "parcoords": [
                      {
                        "line": {
                          "colorbar": {
                            "outlinewidth": 0,
                            "ticks": ""
                          }
                        },
                        "type": "parcoords"
                      }
                    ],
                    "pie": [
                      {
                        "automargin": true,
                        "type": "pie"
                      }
                    ],
                    "scatter": [
                      {
                        "fillpattern": {
                          "fillmode": "overlay",
                          "size": 10,
                          "solidity": 0.2
                        },
                        "type": "scatter"
                      }
                    ],
                    "scatter3d": [
                      {
                        "line": {
                          "colorbar": {
                            "outlinewidth": 0,
                            "ticks": ""
                          }
                        },
                        "marker": {
                          "colorbar": {
                            "outlinewidth": 0,
                            "ticks": ""
                          }
                        },
                        "type": "scatter3d"
                      }
                    ],
                    "scattercarpet": [
                      {
                        "marker": {
                          "colorbar": {
                            "outlinewidth": 0,
                            "ticks": ""
                          }
                        },
                        "type": "scattercarpet"
                      }
                    ],
                    "scattergeo": [
                      {
                        "marker": {
                          "colorbar": {
                            "outlinewidth": 0,
                            "ticks": ""
                          }
                        },
                        "type": "scattergeo"
                      }
                    ],
                    "scattergl": [
                      {
                        "marker": {
                          "colorbar": {
                            "outlinewidth": 0,
                            "ticks": ""
                          }
                        },
                        "type": "scattergl"
                      }
                    ],
                    "scattermapbox": [
                      {
                        "marker": {
                          "colorbar": {
                            "outlinewidth": 0,
                            "ticks": ""
                          }
                        },
                        "type": "scattermapbox"
                      }
                    ],
                    "scatterpolar": [
                      {
                        "marker": {
                          "colorbar": {
                            "outlinewidth": 0,
                            "ticks": ""
                          }
                        },
                        "type": "scatterpolar"
                      }
                    ],
                    "scatterpolargl": [
                      {
                        "marker": {
                          "colorbar": {
                            "outlinewidth": 0,
                            "ticks": ""
                          }
                        },
                        "type": "scatterpolargl"
                      }
                    ],
                    "scatterternary": [
                      {
                        "marker": {
                          "colorbar": {
                            "outlinewidth": 0,
                            "ticks": ""
                          }
                        },
                        "type": "scatterternary"
                      }
                    ],
                    "surface": [
                      {
                        "colorbar": {
                          "outlinewidth": 0,
                          "ticks": ""
                        },
                        "colorscale": [
                          [
                            0,
                            "#0d0887"
                          ],
                          [
                            0.1111111111111111,
                            "#46039f"
                          ],
                          [
                            0.2222222222222222,
                            "#7201a8"
                          ],
                          [
                            0.3333333333333333,
                            "#9c179e"
                          ],
                          [
                            0.4444444444444444,
                            "#bd3786"
                          ],
                          [
                            0.5555555555555556,
                            "#d8576b"
                          ],
                          [
                            0.6666666666666666,
                            "#ed7953"
                          ],
                          [
                            0.7777777777777778,
                            "#fb9f3a"
                          ],
                          [
                            0.8888888888888888,
                            "#fdca26"
                          ],
                          [
                            1,
                            "#f0f921"
                          ]
                        ],
                        "type": "surface"
                      }
                    ],
                    "table": [
                      {
                        "cells": {
                          "fill": {
                            "color": "#EBF0F8"
                          },
                          "line": {
                            "color": "white"
                          }
                        },
                        "header": {
                          "fill": {
                            "color": "#C8D4E3"
                          },
                          "line": {
                            "color": "white"
                          }
                        },
                        "type": "table"
                      }
                    ]
                  },
                  "layout": {
                    "annotationdefaults": {
                      "arrowcolor": "#2a3f5f",
                      "arrowhead": 0,
                      "arrowwidth": 1
                    },
                    "autotypenumbers": "strict",
                    "coloraxis": {
                      "colorbar": {
                        "outlinewidth": 0,
                        "ticks": ""
                      }
                    },
                    "colorscale": {
                      "diverging": [
                        [
                          0,
                          "#8e0152"
                        ],
                        [
                          0.1,
                          "#c51b7d"
                        ],
                        [
                          0.2,
                          "#de77ae"
                        ],
                        [
                          0.3,
                          "#f1b6da"
                        ],
                        [
                          0.4,
                          "#fde0ef"
                        ],
                        [
                          0.5,
                          "#f7f7f7"
                        ],
                        [
                          0.6,
                          "#e6f5d0"
                        ],
                        [
                          0.7,
                          "#b8e186"
                        ],
                        [
                          0.8,
                          "#7fbc41"
                        ],
                        [
                          0.9,
                          "#4d9221"
                        ],
                        [
                          1,
                          "#276419"
                        ]
                      ],
                      "sequential": [
                        [
                          0,
                          "#0d0887"
                        ],
                        [
                          0.1111111111111111,
                          "#46039f"
                        ],
                        [
                          0.2222222222222222,
                          "#7201a8"
                        ],
                        [
                          0.3333333333333333,
                          "#9c179e"
                        ],
                        [
                          0.4444444444444444,
                          "#bd3786"
                        ],
                        [
                          0.5555555555555556,
                          "#d8576b"
                        ],
                        [
                          0.6666666666666666,
                          "#ed7953"
                        ],
                        [
                          0.7777777777777778,
                          "#fb9f3a"
                        ],
                        [
                          0.8888888888888888,
                          "#fdca26"
                        ],
                        [
                          1,
                          "#f0f921"
                        ]
                      ],
                      "sequentialminus": [
                        [
                          0,
                          "#0d0887"
                        ],
                        [
                          0.1111111111111111,
                          "#46039f"
                        ],
                        [
                          0.2222222222222222,
                          "#7201a8"
                        ],
                        [
                          0.3333333333333333,
                          "#9c179e"
                        ],
                        [
                          0.4444444444444444,
                          "#bd3786"
                        ],
                        [
                          0.5555555555555556,
                          "#d8576b"
                        ],
                        [
                          0.6666666666666666,
                          "#ed7953"
                        ],
                        [
                          0.7777777777777778,
                          "#fb9f3a"
                        ],
                        [
                          0.8888888888888888,
                          "#fdca26"
                        ],
                        [
                          1,
                          "#f0f921"
                        ]
                      ]
                    },
                    "colorway": [
                      "#636efa",
                      "#EF553B",
                      "#00cc96",
                      "#ab63fa",
                      "#FFA15A",
                      "#19d3f3",
                      "#FF6692",
                      "#B6E880",
                      "#FF97FF",
                      "#FECB52"
                    ],
                    "font": {
                      "color": "#2a3f5f"
                    },
                    "geo": {
                      "bgcolor": "white",
                      "lakecolor": "white",
                      "landcolor": "#E5ECF6",
                      "showlakes": true,
                      "showland": true,
                      "subunitcolor": "white"
                    },
                    "hoverlabel": {
                      "align": "left"
                    },
                    "hovermode": "closest",
                    "mapbox": {
                      "style": "light"
                    },
                    "paper_bgcolor": "white",
                    "plot_bgcolor": "#E5ECF6",
                    "polar": {
                      "angularaxis": {
                        "gridcolor": "white",
                        "linecolor": "white",
                        "ticks": ""
                      },
                      "bgcolor": "#E5ECF6",
                      "radialaxis": {
                        "gridcolor": "white",
                        "linecolor": "white",
                        "ticks": ""
                      }
                    },
                    "scene": {
                      "xaxis": {
                        "backgroundcolor": "#E5ECF6",
                        "gridcolor": "white",
                        "gridwidth": 2,
                        "linecolor": "white",
                        "showbackground": true,
                        "ticks": "",
                        "zerolinecolor": "white"
                      },
                      "yaxis": {
                        "backgroundcolor": "#E5ECF6",
                        "gridcolor": "white",
                        "gridwidth": 2,
                        "linecolor": "white",
                        "showbackground": true,
                        "ticks": "",
                        "zerolinecolor": "white"
                      },
                      "zaxis": {
                        "backgroundcolor": "#E5ECF6",
                        "gridcolor": "white",
                        "gridwidth": 2,
                        "linecolor": "white",
                        "showbackground": true,
                        "ticks": "",
                        "zerolinecolor": "white"
                      }
                    },
                    "shapedefaults": {
                      "line": {
                        "color": "#2a3f5f"
                      }
                    },
                    "ternary": {
                      "aaxis": {
                        "gridcolor": "white",
                        "linecolor": "white",
                        "ticks": ""
                      },
                      "baxis": {
                        "gridcolor": "white",
                        "linecolor": "white",
                        "ticks": ""
                      },
                      "bgcolor": "#E5ECF6",
                      "caxis": {
                        "gridcolor": "white",
                        "linecolor": "white",
                        "ticks": ""
                      }
                    },
                    "title": {
                      "x": 0.05
                    },
                    "xaxis": {
                      "automargin": true,
                      "gridcolor": "white",
                      "linecolor": "white",
                      "ticks": "",
                      "title": {
                        "standoff": 15
                      },
                      "zerolinecolor": "white",
                      "zerolinewidth": 2
                    },
                    "yaxis": {
                      "automargin": true,
                      "gridcolor": "white",
                      "linecolor": "white",
                      "ticks": "",
                      "title": {
                        "standoff": 15
                      },
                      "zerolinecolor": "white",
                      "zerolinewidth": 2
                    }
                  }
                },
                "title": {
                  "text": "Distribution of Car Prices"
                },
                "xaxis": {
                  "anchor": "y",
                  "domain": [
                    0,
                    1
                  ],
                  "title": {
                    "text": "price"
                  }
                },
                "yaxis": {
                  "anchor": "x",
                  "domain": [
                    0,
                    1
                  ],
                  "title": {
                    "text": "count"
                  }
                }
              }
            }
          },
          "metadata": {},
          "output_type": "display_data"
        }
      ],
      "source": [
        "fig = px.histogram(df, x='price', nbins=50, title='Distribution of Car Prices')\n",
        "fig.show()"
      ]
    },
    {
      "cell_type": "code",
      "execution_count": 3,
      "id": "9f2a56c5-ac6e-45fa-ad28-e4b1c196148c",
      "metadata": {
        "ExecuteTime": {
          "end_time": "2023-06-23T19:47:55.465934+00:00",
          "start_time": "2023-06-23T19:47:55.245782+00:00"
        },
        "noteable": {
          "cell_type": "code",
          "output_collection_id": "ac0cc635-2424-43bb-88f8-58187e935d24"
        }
      },
      "outputs": [
        {
          "data": {
            "application/vnd.plotly.v1+json": {
              "config": {
                "plotlyServerURL": "https://plot.ly"
              },
              "data": [
                {
                  "hovertemplate": "enginesize=%{x}<br>price=%{y}<extra></extra>",
                  "legendgroup": "",
                  "marker": {
                    "color": "#636efa",
                    "symbol": "circle"
                  },
                  "mode": "markers",
                  "name": "",
                  "orientation": "v",
                  "showlegend": false,
                  "type": "scatter",
                  "x": [
                    130,
                    130,
                    152,
                    109,
                    136,
                    136,
                    136,
                    136,
                    131,
                    131,
                    108,
                    108,
                    164,
                    164,
                    164,
                    209,
                    209,
                    209,
                    61,
                    90,
                    90,
                    90,
                    90,
                    98,
                    90,
                    90,
                    90,
                    98,
                    122,
                    156,
                    92,
                    92,
                    79,
                    92,
                    92,
                    92,
                    92,
                    110,
                    110,
                    110,
                    110,
                    110,
                    110,
                    111,
                    90,
                    90,
                    119,
                    258,
                    258,
                    326,
                    91,
                    91,
                    91,
                    91,
                    91,
                    70,
                    70,
                    70,
                    80,
                    122,
                    122,
                    122,
                    122,
                    122,
                    122,
                    140,
                    134,
                    183,
                    183,
                    183,
                    183,
                    234,
                    234,
                    308,
                    304,
                    140,
                    92,
                    92,
                    92,
                    98,
                    110,
                    122,
                    156,
                    156,
                    156,
                    122,
                    122,
                    110,
                    110,
                    97,
                    103,
                    97,
                    97,
                    97,
                    97,
                    97,
                    97,
                    97,
                    97,
                    120,
                    120,
                    181,
                    181,
                    181,
                    181,
                    181,
                    181,
                    120,
                    152,
                    120,
                    152,
                    120,
                    152,
                    120,
                    152,
                    120,
                    152,
                    134,
                    90,
                    98,
                    90,
                    90,
                    98,
                    122,
                    156,
                    151,
                    194,
                    194,
                    194,
                    203,
                    132,
                    132,
                    121,
                    121,
                    121,
                    121,
                    121,
                    121,
                    97,
                    108,
                    108,
                    108,
                    108,
                    108,
                    108,
                    108,
                    108,
                    108,
                    108,
                    108,
                    92,
                    92,
                    92,
                    92,
                    92,
                    92,
                    98,
                    98,
                    110,
                    110,
                    98,
                    98,
                    98,
                    98,
                    98,
                    98,
                    98,
                    146,
                    146,
                    146,
                    146,
                    146,
                    146,
                    122,
                    110,
                    122,
                    122,
                    122,
                    171,
                    171,
                    171,
                    161,
                    97,
                    109,
                    97,
                    109,
                    109,
                    97,
                    109,
                    109,
                    109,
                    136,
                    97,
                    109,
                    141,
                    141,
                    141,
                    141,
                    130,
                    130,
                    141,
                    141,
                    173,
                    145,
                    141
                  ],
                  "xaxis": "x",
                  "y": [
                    13495,
                    16500,
                    16500,
                    13950,
                    17450,
                    15250,
                    17710,
                    18920,
                    23875,
                    17859.167,
                    16430,
                    16925,
                    20970,
                    21105,
                    24565,
                    30760,
                    41315,
                    36880,
                    5151,
                    6295,
                    6575,
                    5572,
                    6377,
                    7957,
                    6229,
                    6692,
                    7609,
                    8558,
                    8921,
                    12964,
                    6479,
                    6855,
                    5399,
                    6529,
                    7129,
                    7295,
                    7295,
                    7895,
                    9095,
                    8845,
                    10295,
                    12945,
                    10345,
                    6785,
                    8916.5,
                    8916.5,
                    11048,
                    32250,
                    35550,
                    36000,
                    5195,
                    6095,
                    6795,
                    6695,
                    7395,
                    10945,
                    11845,
                    13645,
                    15645,
                    8845,
                    8495,
                    10595,
                    10245,
                    10795,
                    11245,
                    18280,
                    18344,
                    25552,
                    28248,
                    28176,
                    31600,
                    34184,
                    35056,
                    40960,
                    45400,
                    16503,
                    5389,
                    6189,
                    6669,
                    7689,
                    9959,
                    8499,
                    12629,
                    14869,
                    14489,
                    6989,
                    8189,
                    9279,
                    9279,
                    5499,
                    7099,
                    6649,
                    6849,
                    7349,
                    7299,
                    7799,
                    7499,
                    7999,
                    8249,
                    8949,
                    9549,
                    13499,
                    14399,
                    13499,
                    17199,
                    19699,
                    18399,
                    11900,
                    13200,
                    12440,
                    13860,
                    15580,
                    16900,
                    16695,
                    17075,
                    16630,
                    17950,
                    18150,
                    5572,
                    7957,
                    6229,
                    6692,
                    7609,
                    8921,
                    12764,
                    22018,
                    32528,
                    34028,
                    37028,
                    31400.5,
                    9295,
                    9895,
                    11850,
                    12170,
                    15040,
                    15510,
                    18150,
                    18620,
                    5118,
                    7053,
                    7603,
                    7126,
                    7775,
                    9960,
                    9233,
                    11259,
                    7463,
                    10198,
                    8013,
                    11694,
                    5348,
                    6338,
                    6488,
                    6918,
                    7898,
                    8778,
                    6938,
                    7198,
                    7898,
                    7788,
                    7738,
                    8358,
                    9258,
                    8058,
                    8238,
                    9298,
                    9538,
                    8449,
                    9639,
                    9989,
                    11199,
                    11549,
                    17669,
                    8948,
                    10698,
                    9988,
                    10898,
                    11248,
                    16558,
                    15998,
                    15690,
                    15750,
                    7775,
                    7975,
                    7995,
                    8195,
                    8495,
                    9495,
                    9995,
                    11595,
                    9980,
                    13295,
                    13845,
                    12290,
                    12940,
                    13415,
                    15985,
                    16515,
                    18420,
                    18950,
                    16845,
                    19045,
                    21485,
                    22470,
                    22625
                  ],
                  "yaxis": "y"
                }
              ],
              "layout": {
                "legend": {
                  "tracegroupgap": 0
                },
                "template": {
                  "data": {
                    "bar": [
                      {
                        "error_x": {
                          "color": "#2a3f5f"
                        },
                        "error_y": {
                          "color": "#2a3f5f"
                        },
                        "marker": {
                          "line": {
                            "color": "#E5ECF6",
                            "width": 0.5
                          },
                          "pattern": {
                            "fillmode": "overlay",
                            "size": 10,
                            "solidity": 0.2
                          }
                        },
                        "type": "bar"
                      }
                    ],
                    "barpolar": [
                      {
                        "marker": {
                          "line": {
                            "color": "#E5ECF6",
                            "width": 0.5
                          },
                          "pattern": {
                            "fillmode": "overlay",
                            "size": 10,
                            "solidity": 0.2
                          }
                        },
                        "type": "barpolar"
                      }
                    ],
                    "carpet": [
                      {
                        "aaxis": {
                          "endlinecolor": "#2a3f5f",
                          "gridcolor": "white",
                          "linecolor": "white",
                          "minorgridcolor": "white",
                          "startlinecolor": "#2a3f5f"
                        },
                        "baxis": {
                          "endlinecolor": "#2a3f5f",
                          "gridcolor": "white",
                          "linecolor": "white",
                          "minorgridcolor": "white",
                          "startlinecolor": "#2a3f5f"
                        },
                        "type": "carpet"
                      }
                    ],
                    "choropleth": [
                      {
                        "colorbar": {
                          "outlinewidth": 0,
                          "ticks": ""
                        },
                        "type": "choropleth"
                      }
                    ],
                    "contour": [
                      {
                        "colorbar": {
                          "outlinewidth": 0,
                          "ticks": ""
                        },
                        "colorscale": [
                          [
                            0,
                            "#0d0887"
                          ],
                          [
                            0.1111111111111111,
                            "#46039f"
                          ],
                          [
                            0.2222222222222222,
                            "#7201a8"
                          ],
                          [
                            0.3333333333333333,
                            "#9c179e"
                          ],
                          [
                            0.4444444444444444,
                            "#bd3786"
                          ],
                          [
                            0.5555555555555556,
                            "#d8576b"
                          ],
                          [
                            0.6666666666666666,
                            "#ed7953"
                          ],
                          [
                            0.7777777777777778,
                            "#fb9f3a"
                          ],
                          [
                            0.8888888888888888,
                            "#fdca26"
                          ],
                          [
                            1,
                            "#f0f921"
                          ]
                        ],
                        "type": "contour"
                      }
                    ],
                    "contourcarpet": [
                      {
                        "colorbar": {
                          "outlinewidth": 0,
                          "ticks": ""
                        },
                        "type": "contourcarpet"
                      }
                    ],
                    "heatmap": [
                      {
                        "colorbar": {
                          "outlinewidth": 0,
                          "ticks": ""
                        },
                        "colorscale": [
                          [
                            0,
                            "#0d0887"
                          ],
                          [
                            0.1111111111111111,
                            "#46039f"
                          ],
                          [
                            0.2222222222222222,
                            "#7201a8"
                          ],
                          [
                            0.3333333333333333,
                            "#9c179e"
                          ],
                          [
                            0.4444444444444444,
                            "#bd3786"
                          ],
                          [
                            0.5555555555555556,
                            "#d8576b"
                          ],
                          [
                            0.6666666666666666,
                            "#ed7953"
                          ],
                          [
                            0.7777777777777778,
                            "#fb9f3a"
                          ],
                          [
                            0.8888888888888888,
                            "#fdca26"
                          ],
                          [
                            1,
                            "#f0f921"
                          ]
                        ],
                        "type": "heatmap"
                      }
                    ],
                    "heatmapgl": [
                      {
                        "colorbar": {
                          "outlinewidth": 0,
                          "ticks": ""
                        },
                        "colorscale": [
                          [
                            0,
                            "#0d0887"
                          ],
                          [
                            0.1111111111111111,
                            "#46039f"
                          ],
                          [
                            0.2222222222222222,
                            "#7201a8"
                          ],
                          [
                            0.3333333333333333,
                            "#9c179e"
                          ],
                          [
                            0.4444444444444444,
                            "#bd3786"
                          ],
                          [
                            0.5555555555555556,
                            "#d8576b"
                          ],
                          [
                            0.6666666666666666,
                            "#ed7953"
                          ],
                          [
                            0.7777777777777778,
                            "#fb9f3a"
                          ],
                          [
                            0.8888888888888888,
                            "#fdca26"
                          ],
                          [
                            1,
                            "#f0f921"
                          ]
                        ],
                        "type": "heatmapgl"
                      }
                    ],
                    "histogram": [
                      {
                        "marker": {
                          "pattern": {
                            "fillmode": "overlay",
                            "size": 10,
                            "solidity": 0.2
                          }
                        },
                        "type": "histogram"
                      }
                    ],
                    "histogram2d": [
                      {
                        "colorbar": {
                          "outlinewidth": 0,
                          "ticks": ""
                        },
                        "colorscale": [
                          [
                            0,
                            "#0d0887"
                          ],
                          [
                            0.1111111111111111,
                            "#46039f"
                          ],
                          [
                            0.2222222222222222,
                            "#7201a8"
                          ],
                          [
                            0.3333333333333333,
                            "#9c179e"
                          ],
                          [
                            0.4444444444444444,
                            "#bd3786"
                          ],
                          [
                            0.5555555555555556,
                            "#d8576b"
                          ],
                          [
                            0.6666666666666666,
                            "#ed7953"
                          ],
                          [
                            0.7777777777777778,
                            "#fb9f3a"
                          ],
                          [
                            0.8888888888888888,
                            "#fdca26"
                          ],
                          [
                            1,
                            "#f0f921"
                          ]
                        ],
                        "type": "histogram2d"
                      }
                    ],
                    "histogram2dcontour": [
                      {
                        "colorbar": {
                          "outlinewidth": 0,
                          "ticks": ""
                        },
                        "colorscale": [
                          [
                            0,
                            "#0d0887"
                          ],
                          [
                            0.1111111111111111,
                            "#46039f"
                          ],
                          [
                            0.2222222222222222,
                            "#7201a8"
                          ],
                          [
                            0.3333333333333333,
                            "#9c179e"
                          ],
                          [
                            0.4444444444444444,
                            "#bd3786"
                          ],
                          [
                            0.5555555555555556,
                            "#d8576b"
                          ],
                          [
                            0.6666666666666666,
                            "#ed7953"
                          ],
                          [
                            0.7777777777777778,
                            "#fb9f3a"
                          ],
                          [
                            0.8888888888888888,
                            "#fdca26"
                          ],
                          [
                            1,
                            "#f0f921"
                          ]
                        ],
                        "type": "histogram2dcontour"
                      }
                    ],
                    "mesh3d": [
                      {
                        "colorbar": {
                          "outlinewidth": 0,
                          "ticks": ""
                        },
                        "type": "mesh3d"
                      }
                    ],
                    "parcoords": [
                      {
                        "line": {
                          "colorbar": {
                            "outlinewidth": 0,
                            "ticks": ""
                          }
                        },
                        "type": "parcoords"
                      }
                    ],
                    "pie": [
                      {
                        "automargin": true,
                        "type": "pie"
                      }
                    ],
                    "scatter": [
                      {
                        "fillpattern": {
                          "fillmode": "overlay",
                          "size": 10,
                          "solidity": 0.2
                        },
                        "type": "scatter"
                      }
                    ],
                    "scatter3d": [
                      {
                        "line": {
                          "colorbar": {
                            "outlinewidth": 0,
                            "ticks": ""
                          }
                        },
                        "marker": {
                          "colorbar": {
                            "outlinewidth": 0,
                            "ticks": ""
                          }
                        },
                        "type": "scatter3d"
                      }
                    ],
                    "scattercarpet": [
                      {
                        "marker": {
                          "colorbar": {
                            "outlinewidth": 0,
                            "ticks": ""
                          }
                        },
                        "type": "scattercarpet"
                      }
                    ],
                    "scattergeo": [
                      {
                        "marker": {
                          "colorbar": {
                            "outlinewidth": 0,
                            "ticks": ""
                          }
                        },
                        "type": "scattergeo"
                      }
                    ],
                    "scattergl": [
                      {
                        "marker": {
                          "colorbar": {
                            "outlinewidth": 0,
                            "ticks": ""
                          }
                        },
                        "type": "scattergl"
                      }
                    ],
                    "scattermapbox": [
                      {
                        "marker": {
                          "colorbar": {
                            "outlinewidth": 0,
                            "ticks": ""
                          }
                        },
                        "type": "scattermapbox"
                      }
                    ],
                    "scatterpolar": [
                      {
                        "marker": {
                          "colorbar": {
                            "outlinewidth": 0,
                            "ticks": ""
                          }
                        },
                        "type": "scatterpolar"
                      }
                    ],
                    "scatterpolargl": [
                      {
                        "marker": {
                          "colorbar": {
                            "outlinewidth": 0,
                            "ticks": ""
                          }
                        },
                        "type": "scatterpolargl"
                      }
                    ],
                    "scatterternary": [
                      {
                        "marker": {
                          "colorbar": {
                            "outlinewidth": 0,
                            "ticks": ""
                          }
                        },
                        "type": "scatterternary"
                      }
                    ],
                    "surface": [
                      {
                        "colorbar": {
                          "outlinewidth": 0,
                          "ticks": ""
                        },
                        "colorscale": [
                          [
                            0,
                            "#0d0887"
                          ],
                          [
                            0.1111111111111111,
                            "#46039f"
                          ],
                          [
                            0.2222222222222222,
                            "#7201a8"
                          ],
                          [
                            0.3333333333333333,
                            "#9c179e"
                          ],
                          [
                            0.4444444444444444,
                            "#bd3786"
                          ],
                          [
                            0.5555555555555556,
                            "#d8576b"
                          ],
                          [
                            0.6666666666666666,
                            "#ed7953"
                          ],
                          [
                            0.7777777777777778,
                            "#fb9f3a"
                          ],
                          [
                            0.8888888888888888,
                            "#fdca26"
                          ],
                          [
                            1,
                            "#f0f921"
                          ]
                        ],
                        "type": "surface"
                      }
                    ],
                    "table": [
                      {
                        "cells": {
                          "fill": {
                            "color": "#EBF0F8"
                          },
                          "line": {
                            "color": "white"
                          }
                        },
                        "header": {
                          "fill": {
                            "color": "#C8D4E3"
                          },
                          "line": {
                            "color": "white"
                          }
                        },
                        "type": "table"
                      }
                    ]
                  },
                  "layout": {
                    "annotationdefaults": {
                      "arrowcolor": "#2a3f5f",
                      "arrowhead": 0,
                      "arrowwidth": 1
                    },
                    "autotypenumbers": "strict",
                    "coloraxis": {
                      "colorbar": {
                        "outlinewidth": 0,
                        "ticks": ""
                      }
                    },
                    "colorscale": {
                      "diverging": [
                        [
                          0,
                          "#8e0152"
                        ],
                        [
                          0.1,
                          "#c51b7d"
                        ],
                        [
                          0.2,
                          "#de77ae"
                        ],
                        [
                          0.3,
                          "#f1b6da"
                        ],
                        [
                          0.4,
                          "#fde0ef"
                        ],
                        [
                          0.5,
                          "#f7f7f7"
                        ],
                        [
                          0.6,
                          "#e6f5d0"
                        ],
                        [
                          0.7,
                          "#b8e186"
                        ],
                        [
                          0.8,
                          "#7fbc41"
                        ],
                        [
                          0.9,
                          "#4d9221"
                        ],
                        [
                          1,
                          "#276419"
                        ]
                      ],
                      "sequential": [
                        [
                          0,
                          "#0d0887"
                        ],
                        [
                          0.1111111111111111,
                          "#46039f"
                        ],
                        [
                          0.2222222222222222,
                          "#7201a8"
                        ],
                        [
                          0.3333333333333333,
                          "#9c179e"
                        ],
                        [
                          0.4444444444444444,
                          "#bd3786"
                        ],
                        [
                          0.5555555555555556,
                          "#d8576b"
                        ],
                        [
                          0.6666666666666666,
                          "#ed7953"
                        ],
                        [
                          0.7777777777777778,
                          "#fb9f3a"
                        ],
                        [
                          0.8888888888888888,
                          "#fdca26"
                        ],
                        [
                          1,
                          "#f0f921"
                        ]
                      ],
                      "sequentialminus": [
                        [
                          0,
                          "#0d0887"
                        ],
                        [
                          0.1111111111111111,
                          "#46039f"
                        ],
                        [
                          0.2222222222222222,
                          "#7201a8"
                        ],
                        [
                          0.3333333333333333,
                          "#9c179e"
                        ],
                        [
                          0.4444444444444444,
                          "#bd3786"
                        ],
                        [
                          0.5555555555555556,
                          "#d8576b"
                        ],
                        [
                          0.6666666666666666,
                          "#ed7953"
                        ],
                        [
                          0.7777777777777778,
                          "#fb9f3a"
                        ],
                        [
                          0.8888888888888888,
                          "#fdca26"
                        ],
                        [
                          1,
                          "#f0f921"
                        ]
                      ]
                    },
                    "colorway": [
                      "#636efa",
                      "#EF553B",
                      "#00cc96",
                      "#ab63fa",
                      "#FFA15A",
                      "#19d3f3",
                      "#FF6692",
                      "#B6E880",
                      "#FF97FF",
                      "#FECB52"
                    ],
                    "font": {
                      "color": "#2a3f5f"
                    },
                    "geo": {
                      "bgcolor": "white",
                      "lakecolor": "white",
                      "landcolor": "#E5ECF6",
                      "showlakes": true,
                      "showland": true,
                      "subunitcolor": "white"
                    },
                    "hoverlabel": {
                      "align": "left"
                    },
                    "hovermode": "closest",
                    "mapbox": {
                      "style": "light"
                    },
                    "paper_bgcolor": "white",
                    "plot_bgcolor": "#E5ECF6",
                    "polar": {
                      "angularaxis": {
                        "gridcolor": "white",
                        "linecolor": "white",
                        "ticks": ""
                      },
                      "bgcolor": "#E5ECF6",
                      "radialaxis": {
                        "gridcolor": "white",
                        "linecolor": "white",
                        "ticks": ""
                      }
                    },
                    "scene": {
                      "xaxis": {
                        "backgroundcolor": "#E5ECF6",
                        "gridcolor": "white",
                        "gridwidth": 2,
                        "linecolor": "white",
                        "showbackground": true,
                        "ticks": "",
                        "zerolinecolor": "white"
                      },
                      "yaxis": {
                        "backgroundcolor": "#E5ECF6",
                        "gridcolor": "white",
                        "gridwidth": 2,
                        "linecolor": "white",
                        "showbackground": true,
                        "ticks": "",
                        "zerolinecolor": "white"
                      },
                      "zaxis": {
                        "backgroundcolor": "#E5ECF6",
                        "gridcolor": "white",
                        "gridwidth": 2,
                        "linecolor": "white",
                        "showbackground": true,
                        "ticks": "",
                        "zerolinecolor": "white"
                      }
                    },
                    "shapedefaults": {
                      "line": {
                        "color": "#2a3f5f"
                      }
                    },
                    "ternary": {
                      "aaxis": {
                        "gridcolor": "white",
                        "linecolor": "white",
                        "ticks": ""
                      },
                      "baxis": {
                        "gridcolor": "white",
                        "linecolor": "white",
                        "ticks": ""
                      },
                      "bgcolor": "#E5ECF6",
                      "caxis": {
                        "gridcolor": "white",
                        "linecolor": "white",
                        "ticks": ""
                      }
                    },
                    "title": {
                      "x": 0.05
                    },
                    "xaxis": {
                      "automargin": true,
                      "gridcolor": "white",
                      "linecolor": "white",
                      "ticks": "",
                      "title": {
                        "standoff": 15
                      },
                      "zerolinecolor": "white",
                      "zerolinewidth": 2
                    },
                    "yaxis": {
                      "automargin": true,
                      "gridcolor": "white",
                      "linecolor": "white",
                      "ticks": "",
                      "title": {
                        "standoff": 15
                      },
                      "zerolinecolor": "white",
                      "zerolinewidth": 2
                    }
                  }
                },
                "title": {
                  "text": "Engine Size vs Price"
                },
                "xaxis": {
                  "anchor": "y",
                  "domain": [
                    0,
                    1
                  ],
                  "title": {
                    "text": "enginesize"
                  }
                },
                "yaxis": {
                  "anchor": "x",
                  "domain": [
                    0,
                    1
                  ],
                  "title": {
                    "text": "price"
                  }
                }
              }
            }
          },
          "metadata": {},
          "output_type": "display_data"
        }
      ],
      "source": [
        "fig = px.scatter(df, x='enginesize', y='price', title='Engine Size vs Price')\n",
        "fig.show()"
      ]
    },
    {
      "cell_type": "code",
      "execution_count": 4,
      "id": "b851cd6f-4e3d-4510-b1f9-fd6826d8a9e3",
      "metadata": {
        "ExecuteTime": {
          "end_time": "2023-06-23T19:48:16.582514+00:00",
          "start_time": "2023-06-23T19:48:16.368579+00:00"
        },
        "noteable": {
          "cell_type": "code",
          "output_collection_id": "34d79c36-add6-4234-b3e4-0c9c930a8ad2"
        }
      },
      "outputs": [
        {
          "data": {
            "application/vnd.plotly.v1+json": {
              "config": {
                "plotlyServerURL": "https://plot.ly"
              },
              "data": [
                {
                  "hovertemplate": "horsepower=%{x}<br>price=%{y}<extra></extra>",
                  "legendgroup": "",
                  "marker": {
                    "color": "#636efa",
                    "symbol": "circle"
                  },
                  "mode": "markers",
                  "name": "",
                  "orientation": "v",
                  "showlegend": false,
                  "type": "scatter",
                  "x": [
                    111,
                    111,
                    154,
                    102,
                    115,
                    110,
                    110,
                    110,
                    140,
                    160,
                    101,
                    101,
                    121,
                    121,
                    121,
                    182,
                    182,
                    182,
                    48,
                    70,
                    70,
                    68,
                    68,
                    102,
                    68,
                    68,
                    68,
                    102,
                    88,
                    145,
                    58,
                    76,
                    60,
                    76,
                    76,
                    76,
                    76,
                    86,
                    86,
                    86,
                    86,
                    101,
                    100,
                    78,
                    70,
                    70,
                    90,
                    176,
                    176,
                    262,
                    68,
                    68,
                    68,
                    68,
                    68,
                    101,
                    101,
                    101,
                    135,
                    84,
                    84,
                    84,
                    84,
                    64,
                    84,
                    120,
                    72,
                    123,
                    123,
                    123,
                    123,
                    155,
                    155,
                    184,
                    184,
                    175,
                    68,
                    68,
                    68,
                    102,
                    116,
                    88,
                    145,
                    145,
                    145,
                    88,
                    88,
                    116,
                    116,
                    69,
                    55,
                    69,
                    69,
                    69,
                    69,
                    69,
                    69,
                    69,
                    69,
                    97,
                    97,
                    152,
                    152,
                    152,
                    160,
                    200,
                    160,
                    97,
                    95,
                    97,
                    95,
                    95,
                    95,
                    95,
                    95,
                    97,
                    95,
                    142,
                    68,
                    102,
                    68,
                    68,
                    68,
                    88,
                    145,
                    143,
                    207,
                    207,
                    207,
                    288,
                    90,
                    90,
                    110,
                    110,
                    110,
                    110,
                    160,
                    160,
                    69,
                    73,
                    73,
                    82,
                    82,
                    94,
                    82,
                    111,
                    82,
                    94,
                    82,
                    111,
                    62,
                    62,
                    62,
                    62,
                    62,
                    62,
                    70,
                    70,
                    56,
                    56,
                    70,
                    70,
                    70,
                    70,
                    70,
                    112,
                    112,
                    116,
                    116,
                    116,
                    116,
                    116,
                    116,
                    92,
                    73,
                    92,
                    92,
                    92,
                    161,
                    161,
                    156,
                    156,
                    52,
                    85,
                    52,
                    85,
                    85,
                    68,
                    100,
                    90,
                    90,
                    110,
                    68,
                    88,
                    114,
                    114,
                    114,
                    114,
                    162,
                    162,
                    114,
                    160,
                    134,
                    106,
                    114
                  ],
                  "xaxis": "x",
                  "y": [
                    13495,
                    16500,
                    16500,
                    13950,
                    17450,
                    15250,
                    17710,
                    18920,
                    23875,
                    17859.167,
                    16430,
                    16925,
                    20970,
                    21105,
                    24565,
                    30760,
                    41315,
                    36880,
                    5151,
                    6295,
                    6575,
                    5572,
                    6377,
                    7957,
                    6229,
                    6692,
                    7609,
                    8558,
                    8921,
                    12964,
                    6479,
                    6855,
                    5399,
                    6529,
                    7129,
                    7295,
                    7295,
                    7895,
                    9095,
                    8845,
                    10295,
                    12945,
                    10345,
                    6785,
                    8916.5,
                    8916.5,
                    11048,
                    32250,
                    35550,
                    36000,
                    5195,
                    6095,
                    6795,
                    6695,
                    7395,
                    10945,
                    11845,
                    13645,
                    15645,
                    8845,
                    8495,
                    10595,
                    10245,
                    10795,
                    11245,
                    18280,
                    18344,
                    25552,
                    28248,
                    28176,
                    31600,
                    34184,
                    35056,
                    40960,
                    45400,
                    16503,
                    5389,
                    6189,
                    6669,
                    7689,
                    9959,
                    8499,
                    12629,
                    14869,
                    14489,
                    6989,
                    8189,
                    9279,
                    9279,
                    5499,
                    7099,
                    6649,
                    6849,
                    7349,
                    7299,
                    7799,
                    7499,
                    7999,
                    8249,
                    8949,
                    9549,
                    13499,
                    14399,
                    13499,
                    17199,
                    19699,
                    18399,
                    11900,
                    13200,
                    12440,
                    13860,
                    15580,
                    16900,
                    16695,
                    17075,
                    16630,
                    17950,
                    18150,
                    5572,
                    7957,
                    6229,
                    6692,
                    7609,
                    8921,
                    12764,
                    22018,
                    32528,
                    34028,
                    37028,
                    31400.5,
                    9295,
                    9895,
                    11850,
                    12170,
                    15040,
                    15510,
                    18150,
                    18620,
                    5118,
                    7053,
                    7603,
                    7126,
                    7775,
                    9960,
                    9233,
                    11259,
                    7463,
                    10198,
                    8013,
                    11694,
                    5348,
                    6338,
                    6488,
                    6918,
                    7898,
                    8778,
                    6938,
                    7198,
                    7898,
                    7788,
                    7738,
                    8358,
                    9258,
                    8058,
                    8238,
                    9298,
                    9538,
                    8449,
                    9639,
                    9989,
                    11199,
                    11549,
                    17669,
                    8948,
                    10698,
                    9988,
                    10898,
                    11248,
                    16558,
                    15998,
                    15690,
                    15750,
                    7775,
                    7975,
                    7995,
                    8195,
                    8495,
                    9495,
                    9995,
                    11595,
                    9980,
                    13295,
                    13845,
                    12290,
                    12940,
                    13415,
                    15985,
                    16515,
                    18420,
                    18950,
                    16845,
                    19045,
                    21485,
                    22470,
                    22625
                  ],
                  "yaxis": "y"
                }
              ],
              "layout": {
                "legend": {
                  "tracegroupgap": 0
                },
                "template": {
                  "data": {
                    "bar": [
                      {
                        "error_x": {
                          "color": "#2a3f5f"
                        },
                        "error_y": {
                          "color": "#2a3f5f"
                        },
                        "marker": {
                          "line": {
                            "color": "#E5ECF6",
                            "width": 0.5
                          },
                          "pattern": {
                            "fillmode": "overlay",
                            "size": 10,
                            "solidity": 0.2
                          }
                        },
                        "type": "bar"
                      }
                    ],
                    "barpolar": [
                      {
                        "marker": {
                          "line": {
                            "color": "#E5ECF6",
                            "width": 0.5
                          },
                          "pattern": {
                            "fillmode": "overlay",
                            "size": 10,
                            "solidity": 0.2
                          }
                        },
                        "type": "barpolar"
                      }
                    ],
                    "carpet": [
                      {
                        "aaxis": {
                          "endlinecolor": "#2a3f5f",
                          "gridcolor": "white",
                          "linecolor": "white",
                          "minorgridcolor": "white",
                          "startlinecolor": "#2a3f5f"
                        },
                        "baxis": {
                          "endlinecolor": "#2a3f5f",
                          "gridcolor": "white",
                          "linecolor": "white",
                          "minorgridcolor": "white",
                          "startlinecolor": "#2a3f5f"
                        },
                        "type": "carpet"
                      }
                    ],
                    "choropleth": [
                      {
                        "colorbar": {
                          "outlinewidth": 0,
                          "ticks": ""
                        },
                        "type": "choropleth"
                      }
                    ],
                    "contour": [
                      {
                        "colorbar": {
                          "outlinewidth": 0,
                          "ticks": ""
                        },
                        "colorscale": [
                          [
                            0,
                            "#0d0887"
                          ],
                          [
                            0.1111111111111111,
                            "#46039f"
                          ],
                          [
                            0.2222222222222222,
                            "#7201a8"
                          ],
                          [
                            0.3333333333333333,
                            "#9c179e"
                          ],
                          [
                            0.4444444444444444,
                            "#bd3786"
                          ],
                          [
                            0.5555555555555556,
                            "#d8576b"
                          ],
                          [
                            0.6666666666666666,
                            "#ed7953"
                          ],
                          [
                            0.7777777777777778,
                            "#fb9f3a"
                          ],
                          [
                            0.8888888888888888,
                            "#fdca26"
                          ],
                          [
                            1,
                            "#f0f921"
                          ]
                        ],
                        "type": "contour"
                      }
                    ],
                    "contourcarpet": [
                      {
                        "colorbar": {
                          "outlinewidth": 0,
                          "ticks": ""
                        },
                        "type": "contourcarpet"
                      }
                    ],
                    "heatmap": [
                      {
                        "colorbar": {
                          "outlinewidth": 0,
                          "ticks": ""
                        },
                        "colorscale": [
                          [
                            0,
                            "#0d0887"
                          ],
                          [
                            0.1111111111111111,
                            "#46039f"
                          ],
                          [
                            0.2222222222222222,
                            "#7201a8"
                          ],
                          [
                            0.3333333333333333,
                            "#9c179e"
                          ],
                          [
                            0.4444444444444444,
                            "#bd3786"
                          ],
                          [
                            0.5555555555555556,
                            "#d8576b"
                          ],
                          [
                            0.6666666666666666,
                            "#ed7953"
                          ],
                          [
                            0.7777777777777778,
                            "#fb9f3a"
                          ],
                          [
                            0.8888888888888888,
                            "#fdca26"
                          ],
                          [
                            1,
                            "#f0f921"
                          ]
                        ],
                        "type": "heatmap"
                      }
                    ],
                    "heatmapgl": [
                      {
                        "colorbar": {
                          "outlinewidth": 0,
                          "ticks": ""
                        },
                        "colorscale": [
                          [
                            0,
                            "#0d0887"
                          ],
                          [
                            0.1111111111111111,
                            "#46039f"
                          ],
                          [
                            0.2222222222222222,
                            "#7201a8"
                          ],
                          [
                            0.3333333333333333,
                            "#9c179e"
                          ],
                          [
                            0.4444444444444444,
                            "#bd3786"
                          ],
                          [
                            0.5555555555555556,
                            "#d8576b"
                          ],
                          [
                            0.6666666666666666,
                            "#ed7953"
                          ],
                          [
                            0.7777777777777778,
                            "#fb9f3a"
                          ],
                          [
                            0.8888888888888888,
                            "#fdca26"
                          ],
                          [
                            1,
                            "#f0f921"
                          ]
                        ],
                        "type": "heatmapgl"
                      }
                    ],
                    "histogram": [
                      {
                        "marker": {
                          "pattern": {
                            "fillmode": "overlay",
                            "size": 10,
                            "solidity": 0.2
                          }
                        },
                        "type": "histogram"
                      }
                    ],
                    "histogram2d": [
                      {
                        "colorbar": {
                          "outlinewidth": 0,
                          "ticks": ""
                        },
                        "colorscale": [
                          [
                            0,
                            "#0d0887"
                          ],
                          [
                            0.1111111111111111,
                            "#46039f"
                          ],
                          [
                            0.2222222222222222,
                            "#7201a8"
                          ],
                          [
                            0.3333333333333333,
                            "#9c179e"
                          ],
                          [
                            0.4444444444444444,
                            "#bd3786"
                          ],
                          [
                            0.5555555555555556,
                            "#d8576b"
                          ],
                          [
                            0.6666666666666666,
                            "#ed7953"
                          ],
                          [
                            0.7777777777777778,
                            "#fb9f3a"
                          ],
                          [
                            0.8888888888888888,
                            "#fdca26"
                          ],
                          [
                            1,
                            "#f0f921"
                          ]
                        ],
                        "type": "histogram2d"
                      }
                    ],
                    "histogram2dcontour": [
                      {
                        "colorbar": {
                          "outlinewidth": 0,
                          "ticks": ""
                        },
                        "colorscale": [
                          [
                            0,
                            "#0d0887"
                          ],
                          [
                            0.1111111111111111,
                            "#46039f"
                          ],
                          [
                            0.2222222222222222,
                            "#7201a8"
                          ],
                          [
                            0.3333333333333333,
                            "#9c179e"
                          ],
                          [
                            0.4444444444444444,
                            "#bd3786"
                          ],
                          [
                            0.5555555555555556,
                            "#d8576b"
                          ],
                          [
                            0.6666666666666666,
                            "#ed7953"
                          ],
                          [
                            0.7777777777777778,
                            "#fb9f3a"
                          ],
                          [
                            0.8888888888888888,
                            "#fdca26"
                          ],
                          [
                            1,
                            "#f0f921"
                          ]
                        ],
                        "type": "histogram2dcontour"
                      }
                    ],
                    "mesh3d": [
                      {
                        "colorbar": {
                          "outlinewidth": 0,
                          "ticks": ""
                        },
                        "type": "mesh3d"
                      }
                    ],
                    "parcoords": [
                      {
                        "line": {
                          "colorbar": {
                            "outlinewidth": 0,
                            "ticks": ""
                          }
                        },
                        "type": "parcoords"
                      }
                    ],
                    "pie": [
                      {
                        "automargin": true,
                        "type": "pie"
                      }
                    ],
                    "scatter": [
                      {
                        "fillpattern": {
                          "fillmode": "overlay",
                          "size": 10,
                          "solidity": 0.2
                        },
                        "type": "scatter"
                      }
                    ],
                    "scatter3d": [
                      {
                        "line": {
                          "colorbar": {
                            "outlinewidth": 0,
                            "ticks": ""
                          }
                        },
                        "marker": {
                          "colorbar": {
                            "outlinewidth": 0,
                            "ticks": ""
                          }
                        },
                        "type": "scatter3d"
                      }
                    ],
                    "scattercarpet": [
                      {
                        "marker": {
                          "colorbar": {
                            "outlinewidth": 0,
                            "ticks": ""
                          }
                        },
                        "type": "scattercarpet"
                      }
                    ],
                    "scattergeo": [
                      {
                        "marker": {
                          "colorbar": {
                            "outlinewidth": 0,
                            "ticks": ""
                          }
                        },
                        "type": "scattergeo"
                      }
                    ],
                    "scattergl": [
                      {
                        "marker": {
                          "colorbar": {
                            "outlinewidth": 0,
                            "ticks": ""
                          }
                        },
                        "type": "scattergl"
                      }
                    ],
                    "scattermapbox": [
                      {
                        "marker": {
                          "colorbar": {
                            "outlinewidth": 0,
                            "ticks": ""
                          }
                        },
                        "type": "scattermapbox"
                      }
                    ],
                    "scatterpolar": [
                      {
                        "marker": {
                          "colorbar": {
                            "outlinewidth": 0,
                            "ticks": ""
                          }
                        },
                        "type": "scatterpolar"
                      }
                    ],
                    "scatterpolargl": [
                      {
                        "marker": {
                          "colorbar": {
                            "outlinewidth": 0,
                            "ticks": ""
                          }
                        },
                        "type": "scatterpolargl"
                      }
                    ],
                    "scatterternary": [
                      {
                        "marker": {
                          "colorbar": {
                            "outlinewidth": 0,
                            "ticks": ""
                          }
                        },
                        "type": "scatterternary"
                      }
                    ],
                    "surface": [
                      {
                        "colorbar": {
                          "outlinewidth": 0,
                          "ticks": ""
                        },
                        "colorscale": [
                          [
                            0,
                            "#0d0887"
                          ],
                          [
                            0.1111111111111111,
                            "#46039f"
                          ],
                          [
                            0.2222222222222222,
                            "#7201a8"
                          ],
                          [
                            0.3333333333333333,
                            "#9c179e"
                          ],
                          [
                            0.4444444444444444,
                            "#bd3786"
                          ],
                          [
                            0.5555555555555556,
                            "#d8576b"
                          ],
                          [
                            0.6666666666666666,
                            "#ed7953"
                          ],
                          [
                            0.7777777777777778,
                            "#fb9f3a"
                          ],
                          [
                            0.8888888888888888,
                            "#fdca26"
                          ],
                          [
                            1,
                            "#f0f921"
                          ]
                        ],
                        "type": "surface"
                      }
                    ],
                    "table": [
                      {
                        "cells": {
                          "fill": {
                            "color": "#EBF0F8"
                          },
                          "line": {
                            "color": "white"
                          }
                        },
                        "header": {
                          "fill": {
                            "color": "#C8D4E3"
                          },
                          "line": {
                            "color": "white"
                          }
                        },
                        "type": "table"
                      }
                    ]
                  },
                  "layout": {
                    "annotationdefaults": {
                      "arrowcolor": "#2a3f5f",
                      "arrowhead": 0,
                      "arrowwidth": 1
                    },
                    "autotypenumbers": "strict",
                    "coloraxis": {
                      "colorbar": {
                        "outlinewidth": 0,
                        "ticks": ""
                      }
                    },
                    "colorscale": {
                      "diverging": [
                        [
                          0,
                          "#8e0152"
                        ],
                        [
                          0.1,
                          "#c51b7d"
                        ],
                        [
                          0.2,
                          "#de77ae"
                        ],
                        [
                          0.3,
                          "#f1b6da"
                        ],
                        [
                          0.4,
                          "#fde0ef"
                        ],
                        [
                          0.5,
                          "#f7f7f7"
                        ],
                        [
                          0.6,
                          "#e6f5d0"
                        ],
                        [
                          0.7,
                          "#b8e186"
                        ],
                        [
                          0.8,
                          "#7fbc41"
                        ],
                        [
                          0.9,
                          "#4d9221"
                        ],
                        [
                          1,
                          "#276419"
                        ]
                      ],
                      "sequential": [
                        [
                          0,
                          "#0d0887"
                        ],
                        [
                          0.1111111111111111,
                          "#46039f"
                        ],
                        [
                          0.2222222222222222,
                          "#7201a8"
                        ],
                        [
                          0.3333333333333333,
                          "#9c179e"
                        ],
                        [
                          0.4444444444444444,
                          "#bd3786"
                        ],
                        [
                          0.5555555555555556,
                          "#d8576b"
                        ],
                        [
                          0.6666666666666666,
                          "#ed7953"
                        ],
                        [
                          0.7777777777777778,
                          "#fb9f3a"
                        ],
                        [
                          0.8888888888888888,
                          "#fdca26"
                        ],
                        [
                          1,
                          "#f0f921"
                        ]
                      ],
                      "sequentialminus": [
                        [
                          0,
                          "#0d0887"
                        ],
                        [
                          0.1111111111111111,
                          "#46039f"
                        ],
                        [
                          0.2222222222222222,
                          "#7201a8"
                        ],
                        [
                          0.3333333333333333,
                          "#9c179e"
                        ],
                        [
                          0.4444444444444444,
                          "#bd3786"
                        ],
                        [
                          0.5555555555555556,
                          "#d8576b"
                        ],
                        [
                          0.6666666666666666,
                          "#ed7953"
                        ],
                        [
                          0.7777777777777778,
                          "#fb9f3a"
                        ],
                        [
                          0.8888888888888888,
                          "#fdca26"
                        ],
                        [
                          1,
                          "#f0f921"
                        ]
                      ]
                    },
                    "colorway": [
                      "#636efa",
                      "#EF553B",
                      "#00cc96",
                      "#ab63fa",
                      "#FFA15A",
                      "#19d3f3",
                      "#FF6692",
                      "#B6E880",
                      "#FF97FF",
                      "#FECB52"
                    ],
                    "font": {
                      "color": "#2a3f5f"
                    },
                    "geo": {
                      "bgcolor": "white",
                      "lakecolor": "white",
                      "landcolor": "#E5ECF6",
                      "showlakes": true,
                      "showland": true,
                      "subunitcolor": "white"
                    },
                    "hoverlabel": {
                      "align": "left"
                    },
                    "hovermode": "closest",
                    "mapbox": {
                      "style": "light"
                    },
                    "paper_bgcolor": "white",
                    "plot_bgcolor": "#E5ECF6",
                    "polar": {
                      "angularaxis": {
                        "gridcolor": "white",
                        "linecolor": "white",
                        "ticks": ""
                      },
                      "bgcolor": "#E5ECF6",
                      "radialaxis": {
                        "gridcolor": "white",
                        "linecolor": "white",
                        "ticks": ""
                      }
                    },
                    "scene": {
                      "xaxis": {
                        "backgroundcolor": "#E5ECF6",
                        "gridcolor": "white",
                        "gridwidth": 2,
                        "linecolor": "white",
                        "showbackground": true,
                        "ticks": "",
                        "zerolinecolor": "white"
                      },
                      "yaxis": {
                        "backgroundcolor": "#E5ECF6",
                        "gridcolor": "white",
                        "gridwidth": 2,
                        "linecolor": "white",
                        "showbackground": true,
                        "ticks": "",
                        "zerolinecolor": "white"
                      },
                      "zaxis": {
                        "backgroundcolor": "#E5ECF6",
                        "gridcolor": "white",
                        "gridwidth": 2,
                        "linecolor": "white",
                        "showbackground": true,
                        "ticks": "",
                        "zerolinecolor": "white"
                      }
                    },
                    "shapedefaults": {
                      "line": {
                        "color": "#2a3f5f"
                      }
                    },
                    "ternary": {
                      "aaxis": {
                        "gridcolor": "white",
                        "linecolor": "white",
                        "ticks": ""
                      },
                      "baxis": {
                        "gridcolor": "white",
                        "linecolor": "white",
                        "ticks": ""
                      },
                      "bgcolor": "#E5ECF6",
                      "caxis": {
                        "gridcolor": "white",
                        "linecolor": "white",
                        "ticks": ""
                      }
                    },
                    "title": {
                      "x": 0.05
                    },
                    "xaxis": {
                      "automargin": true,
                      "gridcolor": "white",
                      "linecolor": "white",
                      "ticks": "",
                      "title": {
                        "standoff": 15
                      },
                      "zerolinecolor": "white",
                      "zerolinewidth": 2
                    },
                    "yaxis": {
                      "automargin": true,
                      "gridcolor": "white",
                      "linecolor": "white",
                      "ticks": "",
                      "title": {
                        "standoff": 15
                      },
                      "zerolinecolor": "white",
                      "zerolinewidth": 2
                    }
                  }
                },
                "title": {
                  "text": "Horsepower vs Price"
                },
                "xaxis": {
                  "anchor": "y",
                  "domain": [
                    0,
                    1
                  ],
                  "title": {
                    "text": "horsepower"
                  }
                },
                "yaxis": {
                  "anchor": "x",
                  "domain": [
                    0,
                    1
                  ],
                  "title": {
                    "text": "price"
                  }
                }
              }
            }
          },
          "metadata": {},
          "output_type": "display_data"
        }
      ],
      "source": [
        "fig = px.scatter(df, x='horsepower', y='price', title='Horsepower vs Price')\n",
        "fig.show()"
      ]
    },
    {
      "cell_type": "code",
      "execution_count": 5,
      "id": "67d805b5-2266-4c64-8875-da8a7cb85342",
      "metadata": {
        "ExecuteTime": {
          "end_time": "2023-06-23T19:48:37.875249+00:00",
          "start_time": "2023-06-23T19:48:37.665432+00:00"
        },
        "noteable": {
          "cell_type": "code",
          "output_collection_id": "a03b5b41-5765-4435-9bf4-f4612e14d2cc"
        }
      },
      "outputs": [
        {
          "data": {
            "application/vnd.plotly.v1+json": {
              "config": {
                "plotlyServerURL": "https://plot.ly"
              },
              "data": [
                {
                  "hovertemplate": "curbweight=%{x}<br>price=%{y}<extra></extra>",
                  "legendgroup": "",
                  "marker": {
                    "color": "#636efa",
                    "symbol": "circle"
                  },
                  "mode": "markers",
                  "name": "",
                  "orientation": "v",
                  "showlegend": false,
                  "type": "scatter",
                  "x": [
                    2548,
                    2548,
                    2823,
                    2337,
                    2824,
                    2507,
                    2844,
                    2954,
                    3086,
                    3053,
                    2395,
                    2395,
                    2710,
                    2765,
                    3055,
                    3230,
                    3380,
                    3505,
                    1488,
                    1874,
                    1909,
                    1876,
                    1876,
                    2128,
                    1967,
                    1989,
                    1989,
                    2191,
                    2535,
                    2811,
                    1713,
                    1819,
                    1837,
                    1940,
                    1956,
                    2010,
                    2024,
                    2236,
                    2289,
                    2304,
                    2372,
                    2465,
                    2293,
                    2337,
                    1874,
                    1909,
                    2734,
                    4066,
                    4066,
                    3950,
                    1890,
                    1900,
                    1905,
                    1945,
                    1950,
                    2380,
                    2380,
                    2385,
                    2500,
                    2385,
                    2410,
                    2385,
                    2410,
                    2443,
                    2425,
                    2670,
                    2700,
                    3515,
                    3750,
                    3495,
                    3770,
                    3740,
                    3685,
                    3900,
                    3715,
                    2910,
                    1918,
                    1944,
                    2004,
                    2145,
                    2370,
                    2328,
                    2833,
                    2921,
                    2926,
                    2365,
                    2405,
                    2403,
                    2403,
                    1889,
                    2017,
                    1918,
                    1938,
                    2024,
                    1951,
                    2028,
                    1971,
                    2037,
                    2008,
                    2324,
                    2302,
                    3095,
                    3296,
                    3060,
                    3071,
                    3139,
                    3139,
                    3020,
                    3197,
                    3230,
                    3430,
                    3075,
                    3252,
                    3285,
                    3485,
                    3075,
                    3252,
                    3130,
                    1918,
                    2128,
                    1967,
                    1989,
                    2191,
                    2535,
                    2818,
                    2778,
                    2756,
                    2756,
                    2800,
                    3366,
                    2579,
                    2460,
                    2658,
                    2695,
                    2707,
                    2758,
                    2808,
                    2847,
                    2050,
                    2120,
                    2240,
                    2145,
                    2190,
                    2340,
                    2385,
                    2510,
                    2290,
                    2455,
                    2420,
                    2650,
                    1985,
                    2040,
                    2015,
                    2280,
                    2290,
                    3110,
                    2081,
                    2109,
                    2275,
                    2275,
                    2094,
                    2122,
                    2140,
                    2169,
                    2204,
                    2265,
                    2300,
                    2540,
                    2536,
                    2551,
                    2679,
                    2714,
                    2975,
                    2326,
                    2480,
                    2414,
                    2414,
                    2458,
                    2976,
                    3016,
                    3131,
                    3151,
                    2261,
                    2209,
                    2264,
                    2212,
                    2275,
                    2319,
                    2300,
                    2254,
                    2221,
                    2661,
                    2579,
                    2563,
                    2912,
                    3034,
                    2935,
                    3042,
                    3045,
                    3157,
                    2952,
                    3049,
                    3012,
                    3217,
                    3062
                  ],
                  "xaxis": "x",
                  "y": [
                    13495,
                    16500,
                    16500,
                    13950,
                    17450,
                    15250,
                    17710,
                    18920,
                    23875,
                    17859.167,
                    16430,
                    16925,
                    20970,
                    21105,
                    24565,
                    30760,
                    41315,
                    36880,
                    5151,
                    6295,
                    6575,
                    5572,
                    6377,
                    7957,
                    6229,
                    6692,
                    7609,
                    8558,
                    8921,
                    12964,
                    6479,
                    6855,
                    5399,
                    6529,
                    7129,
                    7295,
                    7295,
                    7895,
                    9095,
                    8845,
                    10295,
                    12945,
                    10345,
                    6785,
                    8916.5,
                    8916.5,
                    11048,
                    32250,
                    35550,
                    36000,
                    5195,
                    6095,
                    6795,
                    6695,
                    7395,
                    10945,
                    11845,
                    13645,
                    15645,
                    8845,
                    8495,
                    10595,
                    10245,
                    10795,
                    11245,
                    18280,
                    18344,
                    25552,
                    28248,
                    28176,
                    31600,
                    34184,
                    35056,
                    40960,
                    45400,
                    16503,
                    5389,
                    6189,
                    6669,
                    7689,
                    9959,
                    8499,
                    12629,
                    14869,
                    14489,
                    6989,
                    8189,
                    9279,
                    9279,
                    5499,
                    7099,
                    6649,
                    6849,
                    7349,
                    7299,
                    7799,
                    7499,
                    7999,
                    8249,
                    8949,
                    9549,
                    13499,
                    14399,
                    13499,
                    17199,
                    19699,
                    18399,
                    11900,
                    13200,
                    12440,
                    13860,
                    15580,
                    16900,
                    16695,
                    17075,
                    16630,
                    17950,
                    18150,
                    5572,
                    7957,
                    6229,
                    6692,
                    7609,
                    8921,
                    12764,
                    22018,
                    32528,
                    34028,
                    37028,
                    31400.5,
                    9295,
                    9895,
                    11850,
                    12170,
                    15040,
                    15510,
                    18150,
                    18620,
                    5118,
                    7053,
                    7603,
                    7126,
                    7775,
                    9960,
                    9233,
                    11259,
                    7463,
                    10198,
                    8013,
                    11694,
                    5348,
                    6338,
                    6488,
                    6918,
                    7898,
                    8778,
                    6938,
                    7198,
                    7898,
                    7788,
                    7738,
                    8358,
                    9258,
                    8058,
                    8238,
                    9298,
                    9538,
                    8449,
                    9639,
                    9989,
                    11199,
                    11549,
                    17669,
                    8948,
                    10698,
                    9988,
                    10898,
                    11248,
                    16558,
                    15998,
                    15690,
                    15750,
                    7775,
                    7975,
                    7995,
                    8195,
                    8495,
                    9495,
                    9995,
                    11595,
                    9980,
                    13295,
                    13845,
                    12290,
                    12940,
                    13415,
                    15985,
                    16515,
                    18420,
                    18950,
                    16845,
                    19045,
                    21485,
                    22470,
                    22625
                  ],
                  "yaxis": "y"
                }
              ],
              "layout": {
                "legend": {
                  "tracegroupgap": 0
                },
                "template": {
                  "data": {
                    "bar": [
                      {
                        "error_x": {
                          "color": "#2a3f5f"
                        },
                        "error_y": {
                          "color": "#2a3f5f"
                        },
                        "marker": {
                          "line": {
                            "color": "#E5ECF6",
                            "width": 0.5
                          },
                          "pattern": {
                            "fillmode": "overlay",
                            "size": 10,
                            "solidity": 0.2
                          }
                        },
                        "type": "bar"
                      }
                    ],
                    "barpolar": [
                      {
                        "marker": {
                          "line": {
                            "color": "#E5ECF6",
                            "width": 0.5
                          },
                          "pattern": {
                            "fillmode": "overlay",
                            "size": 10,
                            "solidity": 0.2
                          }
                        },
                        "type": "barpolar"
                      }
                    ],
                    "carpet": [
                      {
                        "aaxis": {
                          "endlinecolor": "#2a3f5f",
                          "gridcolor": "white",
                          "linecolor": "white",
                          "minorgridcolor": "white",
                          "startlinecolor": "#2a3f5f"
                        },
                        "baxis": {
                          "endlinecolor": "#2a3f5f",
                          "gridcolor": "white",
                          "linecolor": "white",
                          "minorgridcolor": "white",
                          "startlinecolor": "#2a3f5f"
                        },
                        "type": "carpet"
                      }
                    ],
                    "choropleth": [
                      {
                        "colorbar": {
                          "outlinewidth": 0,
                          "ticks": ""
                        },
                        "type": "choropleth"
                      }
                    ],
                    "contour": [
                      {
                        "colorbar": {
                          "outlinewidth": 0,
                          "ticks": ""
                        },
                        "colorscale": [
                          [
                            0,
                            "#0d0887"
                          ],
                          [
                            0.1111111111111111,
                            "#46039f"
                          ],
                          [
                            0.2222222222222222,
                            "#7201a8"
                          ],
                          [
                            0.3333333333333333,
                            "#9c179e"
                          ],
                          [
                            0.4444444444444444,
                            "#bd3786"
                          ],
                          [
                            0.5555555555555556,
                            "#d8576b"
                          ],
                          [
                            0.6666666666666666,
                            "#ed7953"
                          ],
                          [
                            0.7777777777777778,
                            "#fb9f3a"
                          ],
                          [
                            0.8888888888888888,
                            "#fdca26"
                          ],
                          [
                            1,
                            "#f0f921"
                          ]
                        ],
                        "type": "contour"
                      }
                    ],
                    "contourcarpet": [
                      {
                        "colorbar": {
                          "outlinewidth": 0,
                          "ticks": ""
                        },
                        "type": "contourcarpet"
                      }
                    ],
                    "heatmap": [
                      {
                        "colorbar": {
                          "outlinewidth": 0,
                          "ticks": ""
                        },
                        "colorscale": [
                          [
                            0,
                            "#0d0887"
                          ],
                          [
                            0.1111111111111111,
                            "#46039f"
                          ],
                          [
                            0.2222222222222222,
                            "#7201a8"
                          ],
                          [
                            0.3333333333333333,
                            "#9c179e"
                          ],
                          [
                            0.4444444444444444,
                            "#bd3786"
                          ],
                          [
                            0.5555555555555556,
                            "#d8576b"
                          ],
                          [
                            0.6666666666666666,
                            "#ed7953"
                          ],
                          [
                            0.7777777777777778,
                            "#fb9f3a"
                          ],
                          [
                            0.8888888888888888,
                            "#fdca26"
                          ],
                          [
                            1,
                            "#f0f921"
                          ]
                        ],
                        "type": "heatmap"
                      }
                    ],
                    "heatmapgl": [
                      {
                        "colorbar": {
                          "outlinewidth": 0,
                          "ticks": ""
                        },
                        "colorscale": [
                          [
                            0,
                            "#0d0887"
                          ],
                          [
                            0.1111111111111111,
                            "#46039f"
                          ],
                          [
                            0.2222222222222222,
                            "#7201a8"
                          ],
                          [
                            0.3333333333333333,
                            "#9c179e"
                          ],
                          [
                            0.4444444444444444,
                            "#bd3786"
                          ],
                          [
                            0.5555555555555556,
                            "#d8576b"
                          ],
                          [
                            0.6666666666666666,
                            "#ed7953"
                          ],
                          [
                            0.7777777777777778,
                            "#fb9f3a"
                          ],
                          [
                            0.8888888888888888,
                            "#fdca26"
                          ],
                          [
                            1,
                            "#f0f921"
                          ]
                        ],
                        "type": "heatmapgl"
                      }
                    ],
                    "histogram": [
                      {
                        "marker": {
                          "pattern": {
                            "fillmode": "overlay",
                            "size": 10,
                            "solidity": 0.2
                          }
                        },
                        "type": "histogram"
                      }
                    ],
                    "histogram2d": [
                      {
                        "colorbar": {
                          "outlinewidth": 0,
                          "ticks": ""
                        },
                        "colorscale": [
                          [
                            0,
                            "#0d0887"
                          ],
                          [
                            0.1111111111111111,
                            "#46039f"
                          ],
                          [
                            0.2222222222222222,
                            "#7201a8"
                          ],
                          [
                            0.3333333333333333,
                            "#9c179e"
                          ],
                          [
                            0.4444444444444444,
                            "#bd3786"
                          ],
                          [
                            0.5555555555555556,
                            "#d8576b"
                          ],
                          [
                            0.6666666666666666,
                            "#ed7953"
                          ],
                          [
                            0.7777777777777778,
                            "#fb9f3a"
                          ],
                          [
                            0.8888888888888888,
                            "#fdca26"
                          ],
                          [
                            1,
                            "#f0f921"
                          ]
                        ],
                        "type": "histogram2d"
                      }
                    ],
                    "histogram2dcontour": [
                      {
                        "colorbar": {
                          "outlinewidth": 0,
                          "ticks": ""
                        },
                        "colorscale": [
                          [
                            0,
                            "#0d0887"
                          ],
                          [
                            0.1111111111111111,
                            "#46039f"
                          ],
                          [
                            0.2222222222222222,
                            "#7201a8"
                          ],
                          [
                            0.3333333333333333,
                            "#9c179e"
                          ],
                          [
                            0.4444444444444444,
                            "#bd3786"
                          ],
                          [
                            0.5555555555555556,
                            "#d8576b"
                          ],
                          [
                            0.6666666666666666,
                            "#ed7953"
                          ],
                          [
                            0.7777777777777778,
                            "#fb9f3a"
                          ],
                          [
                            0.8888888888888888,
                            "#fdca26"
                          ],
                          [
                            1,
                            "#f0f921"
                          ]
                        ],
                        "type": "histogram2dcontour"
                      }
                    ],
                    "mesh3d": [
                      {
                        "colorbar": {
                          "outlinewidth": 0,
                          "ticks": ""
                        },
                        "type": "mesh3d"
                      }
                    ],
                    "parcoords": [
                      {
                        "line": {
                          "colorbar": {
                            "outlinewidth": 0,
                            "ticks": ""
                          }
                        },
                        "type": "parcoords"
                      }
                    ],
                    "pie": [
                      {
                        "automargin": true,
                        "type": "pie"
                      }
                    ],
                    "scatter": [
                      {
                        "fillpattern": {
                          "fillmode": "overlay",
                          "size": 10,
                          "solidity": 0.2
                        },
                        "type": "scatter"
                      }
                    ],
                    "scatter3d": [
                      {
                        "line": {
                          "colorbar": {
                            "outlinewidth": 0,
                            "ticks": ""
                          }
                        },
                        "marker": {
                          "colorbar": {
                            "outlinewidth": 0,
                            "ticks": ""
                          }
                        },
                        "type": "scatter3d"
                      }
                    ],
                    "scattercarpet": [
                      {
                        "marker": {
                          "colorbar": {
                            "outlinewidth": 0,
                            "ticks": ""
                          }
                        },
                        "type": "scattercarpet"
                      }
                    ],
                    "scattergeo": [
                      {
                        "marker": {
                          "colorbar": {
                            "outlinewidth": 0,
                            "ticks": ""
                          }
                        },
                        "type": "scattergeo"
                      }
                    ],
                    "scattergl": [
                      {
                        "marker": {
                          "colorbar": {
                            "outlinewidth": 0,
                            "ticks": ""
                          }
                        },
                        "type": "scattergl"
                      }
                    ],
                    "scattermapbox": [
                      {
                        "marker": {
                          "colorbar": {
                            "outlinewidth": 0,
                            "ticks": ""
                          }
                        },
                        "type": "scattermapbox"
                      }
                    ],
                    "scatterpolar": [
                      {
                        "marker": {
                          "colorbar": {
                            "outlinewidth": 0,
                            "ticks": ""
                          }
                        },
                        "type": "scatterpolar"
                      }
                    ],
                    "scatterpolargl": [
                      {
                        "marker": {
                          "colorbar": {
                            "outlinewidth": 0,
                            "ticks": ""
                          }
                        },
                        "type": "scatterpolargl"
                      }
                    ],
                    "scatterternary": [
                      {
                        "marker": {
                          "colorbar": {
                            "outlinewidth": 0,
                            "ticks": ""
                          }
                        },
                        "type": "scatterternary"
                      }
                    ],
                    "surface": [
                      {
                        "colorbar": {
                          "outlinewidth": 0,
                          "ticks": ""
                        },
                        "colorscale": [
                          [
                            0,
                            "#0d0887"
                          ],
                          [
                            0.1111111111111111,
                            "#46039f"
                          ],
                          [
                            0.2222222222222222,
                            "#7201a8"
                          ],
                          [
                            0.3333333333333333,
                            "#9c179e"
                          ],
                          [
                            0.4444444444444444,
                            "#bd3786"
                          ],
                          [
                            0.5555555555555556,
                            "#d8576b"
                          ],
                          [
                            0.6666666666666666,
                            "#ed7953"
                          ],
                          [
                            0.7777777777777778,
                            "#fb9f3a"
                          ],
                          [
                            0.8888888888888888,
                            "#fdca26"
                          ],
                          [
                            1,
                            "#f0f921"
                          ]
                        ],
                        "type": "surface"
                      }
                    ],
                    "table": [
                      {
                        "cells": {
                          "fill": {
                            "color": "#EBF0F8"
                          },
                          "line": {
                            "color": "white"
                          }
                        },
                        "header": {
                          "fill": {
                            "color": "#C8D4E3"
                          },
                          "line": {
                            "color": "white"
                          }
                        },
                        "type": "table"
                      }
                    ]
                  },
                  "layout": {
                    "annotationdefaults": {
                      "arrowcolor": "#2a3f5f",
                      "arrowhead": 0,
                      "arrowwidth": 1
                    },
                    "autotypenumbers": "strict",
                    "coloraxis": {
                      "colorbar": {
                        "outlinewidth": 0,
                        "ticks": ""
                      }
                    },
                    "colorscale": {
                      "diverging": [
                        [
                          0,
                          "#8e0152"
                        ],
                        [
                          0.1,
                          "#c51b7d"
                        ],
                        [
                          0.2,
                          "#de77ae"
                        ],
                        [
                          0.3,
                          "#f1b6da"
                        ],
                        [
                          0.4,
                          "#fde0ef"
                        ],
                        [
                          0.5,
                          "#f7f7f7"
                        ],
                        [
                          0.6,
                          "#e6f5d0"
                        ],
                        [
                          0.7,
                          "#b8e186"
                        ],
                        [
                          0.8,
                          "#7fbc41"
                        ],
                        [
                          0.9,
                          "#4d9221"
                        ],
                        [
                          1,
                          "#276419"
                        ]
                      ],
                      "sequential": [
                        [
                          0,
                          "#0d0887"
                        ],
                        [
                          0.1111111111111111,
                          "#46039f"
                        ],
                        [
                          0.2222222222222222,
                          "#7201a8"
                        ],
                        [
                          0.3333333333333333,
                          "#9c179e"
                        ],
                        [
                          0.4444444444444444,
                          "#bd3786"
                        ],
                        [
                          0.5555555555555556,
                          "#d8576b"
                        ],
                        [
                          0.6666666666666666,
                          "#ed7953"
                        ],
                        [
                          0.7777777777777778,
                          "#fb9f3a"
                        ],
                        [
                          0.8888888888888888,
                          "#fdca26"
                        ],
                        [
                          1,
                          "#f0f921"
                        ]
                      ],
                      "sequentialminus": [
                        [
                          0,
                          "#0d0887"
                        ],
                        [
                          0.1111111111111111,
                          "#46039f"
                        ],
                        [
                          0.2222222222222222,
                          "#7201a8"
                        ],
                        [
                          0.3333333333333333,
                          "#9c179e"
                        ],
                        [
                          0.4444444444444444,
                          "#bd3786"
                        ],
                        [
                          0.5555555555555556,
                          "#d8576b"
                        ],
                        [
                          0.6666666666666666,
                          "#ed7953"
                        ],
                        [
                          0.7777777777777778,
                          "#fb9f3a"
                        ],
                        [
                          0.8888888888888888,
                          "#fdca26"
                        ],
                        [
                          1,
                          "#f0f921"
                        ]
                      ]
                    },
                    "colorway": [
                      "#636efa",
                      "#EF553B",
                      "#00cc96",
                      "#ab63fa",
                      "#FFA15A",
                      "#19d3f3",
                      "#FF6692",
                      "#B6E880",
                      "#FF97FF",
                      "#FECB52"
                    ],
                    "font": {
                      "color": "#2a3f5f"
                    },
                    "geo": {
                      "bgcolor": "white",
                      "lakecolor": "white",
                      "landcolor": "#E5ECF6",
                      "showlakes": true,
                      "showland": true,
                      "subunitcolor": "white"
                    },
                    "hoverlabel": {
                      "align": "left"
                    },
                    "hovermode": "closest",
                    "mapbox": {
                      "style": "light"
                    },
                    "paper_bgcolor": "white",
                    "plot_bgcolor": "#E5ECF6",
                    "polar": {
                      "angularaxis": {
                        "gridcolor": "white",
                        "linecolor": "white",
                        "ticks": ""
                      },
                      "bgcolor": "#E5ECF6",
                      "radialaxis": {
                        "gridcolor": "white",
                        "linecolor": "white",
                        "ticks": ""
                      }
                    },
                    "scene": {
                      "xaxis": {
                        "backgroundcolor": "#E5ECF6",
                        "gridcolor": "white",
                        "gridwidth": 2,
                        "linecolor": "white",
                        "showbackground": true,
                        "ticks": "",
                        "zerolinecolor": "white"
                      },
                      "yaxis": {
                        "backgroundcolor": "#E5ECF6",
                        "gridcolor": "white",
                        "gridwidth": 2,
                        "linecolor": "white",
                        "showbackground": true,
                        "ticks": "",
                        "zerolinecolor": "white"
                      },
                      "zaxis": {
                        "backgroundcolor": "#E5ECF6",
                        "gridcolor": "white",
                        "gridwidth": 2,
                        "linecolor": "white",
                        "showbackground": true,
                        "ticks": "",
                        "zerolinecolor": "white"
                      }
                    },
                    "shapedefaults": {
                      "line": {
                        "color": "#2a3f5f"
                      }
                    },
                    "ternary": {
                      "aaxis": {
                        "gridcolor": "white",
                        "linecolor": "white",
                        "ticks": ""
                      },
                      "baxis": {
                        "gridcolor": "white",
                        "linecolor": "white",
                        "ticks": ""
                      },
                      "bgcolor": "#E5ECF6",
                      "caxis": {
                        "gridcolor": "white",
                        "linecolor": "white",
                        "ticks": ""
                      }
                    },
                    "title": {
                      "x": 0.05
                    },
                    "xaxis": {
                      "automargin": true,
                      "gridcolor": "white",
                      "linecolor": "white",
                      "ticks": "",
                      "title": {
                        "standoff": 15
                      },
                      "zerolinecolor": "white",
                      "zerolinewidth": 2
                    },
                    "yaxis": {
                      "automargin": true,
                      "gridcolor": "white",
                      "linecolor": "white",
                      "ticks": "",
                      "title": {
                        "standoff": 15
                      },
                      "zerolinecolor": "white",
                      "zerolinewidth": 2
                    }
                  }
                },
                "title": {
                  "text": "Curb Weight vs Price"
                },
                "xaxis": {
                  "anchor": "y",
                  "domain": [
                    0,
                    1
                  ],
                  "title": {
                    "text": "curbweight"
                  }
                },
                "yaxis": {
                  "anchor": "x",
                  "domain": [
                    0,
                    1
                  ],
                  "title": {
                    "text": "price"
                  }
                }
              }
            }
          },
          "metadata": {},
          "output_type": "display_data"
        }
      ],
      "source": [
        "fig = px.scatter(df, x='curbweight', y='price', title='Curb Weight vs Price')\n",
        "fig.show()"
      ]
    },
    {
      "cell_type": "code",
      "execution_count": 6,
      "id": "c0caf918-b3a3-4db6-8909-5b23e1846584",
      "metadata": {
        "ExecuteTime": {
          "end_time": "2023-06-23T19:49:04.434278+00:00",
          "start_time": "2023-06-23T19:49:04.212520+00:00"
        },
        "noteable": {
          "cell_type": "code",
          "output_collection_id": "03ba6e53-f7f6-484a-bffa-88293c073898"
        }
      },
      "outputs": [
        {
          "data": {
            "application/vnd.plotly.v1+json": {
              "config": {
                "plotlyServerURL": "https://plot.ly"
              },
              "data": [
                {
                  "alignmentgroup": "True",
                  "hovertemplate": "fueltype=%{x}<br>price=%{y}<extra></extra>",
                  "legendgroup": "",
                  "marker": {
                    "color": "#636efa"
                  },
                  "name": "",
                  "notched": false,
                  "offsetgroup": "",
                  "orientation": "v",
                  "showlegend": false,
                  "type": "box",
                  "x": [
                    "gas",
                    "gas",
                    "gas",
                    "gas",
                    "gas",
                    "gas",
                    "gas",
                    "gas",
                    "gas",
                    "gas",
                    "gas",
                    "gas",
                    "gas",
                    "gas",
                    "gas",
                    "gas",
                    "gas",
                    "gas",
                    "gas",
                    "gas",
                    "gas",
                    "gas",
                    "gas",
                    "gas",
                    "gas",
                    "gas",
                    "gas",
                    "gas",
                    "gas",
                    "gas",
                    "gas",
                    "gas",
                    "gas",
                    "gas",
                    "gas",
                    "gas",
                    "gas",
                    "gas",
                    "gas",
                    "gas",
                    "gas",
                    "gas",
                    "gas",
                    "gas",
                    "gas",
                    "gas",
                    "gas",
                    "gas",
                    "gas",
                    "gas",
                    "gas",
                    "gas",
                    "gas",
                    "gas",
                    "gas",
                    "gas",
                    "gas",
                    "gas",
                    "gas",
                    "gas",
                    "gas",
                    "gas",
                    "gas",
                    "diesel",
                    "gas",
                    "gas",
                    "diesel",
                    "diesel",
                    "diesel",
                    "diesel",
                    "diesel",
                    "gas",
                    "gas",
                    "gas",
                    "gas",
                    "gas",
                    "gas",
                    "gas",
                    "gas",
                    "gas",
                    "gas",
                    "gas",
                    "gas",
                    "gas",
                    "gas",
                    "gas",
                    "gas",
                    "gas",
                    "gas",
                    "gas",
                    "diesel",
                    "gas",
                    "gas",
                    "gas",
                    "gas",
                    "gas",
                    "gas",
                    "gas",
                    "gas",
                    "gas",
                    "gas",
                    "gas",
                    "gas",
                    "gas",
                    "gas",
                    "gas",
                    "gas",
                    "gas",
                    "diesel",
                    "gas",
                    "diesel",
                    "gas",
                    "diesel",
                    "gas",
                    "diesel",
                    "gas",
                    "diesel",
                    "gas",
                    "gas",
                    "gas",
                    "gas",
                    "gas",
                    "gas",
                    "gas",
                    "gas",
                    "gas",
                    "gas",
                    "gas",
                    "gas",
                    "gas",
                    "gas",
                    "gas",
                    "gas",
                    "gas",
                    "gas",
                    "gas",
                    "gas",
                    "gas",
                    "gas",
                    "gas",
                    "gas",
                    "gas",
                    "gas",
                    "gas",
                    "gas",
                    "gas",
                    "gas",
                    "gas",
                    "gas",
                    "gas",
                    "gas",
                    "gas",
                    "gas",
                    "gas",
                    "gas",
                    "gas",
                    "gas",
                    "gas",
                    "diesel",
                    "diesel",
                    "gas",
                    "gas",
                    "gas",
                    "gas",
                    "gas",
                    "gas",
                    "gas",
                    "gas",
                    "gas",
                    "gas",
                    "gas",
                    "gas",
                    "gas",
                    "gas",
                    "diesel",
                    "gas",
                    "gas",
                    "gas",
                    "gas",
                    "gas",
                    "gas",
                    "gas",
                    "diesel",
                    "gas",
                    "diesel",
                    "gas",
                    "gas",
                    "diesel",
                    "gas",
                    "gas",
                    "gas",
                    "gas",
                    "diesel",
                    "gas",
                    "gas",
                    "gas",
                    "gas",
                    "gas",
                    "gas",
                    "gas",
                    "gas",
                    "gas",
                    "gas",
                    "diesel",
                    "gas"
                  ],
                  "x0": " ",
                  "xaxis": "x",
                  "y": [
                    13495,
                    16500,
                    16500,
                    13950,
                    17450,
                    15250,
                    17710,
                    18920,
                    23875,
                    17859.167,
                    16430,
                    16925,
                    20970,
                    21105,
                    24565,
                    30760,
                    41315,
                    36880,
                    5151,
                    6295,
                    6575,
                    5572,
                    6377,
                    7957,
                    6229,
                    6692,
                    7609,
                    8558,
                    8921,
                    12964,
                    6479,
                    6855,
                    5399,
                    6529,
                    7129,
                    7295,
                    7295,
                    7895,
                    9095,
                    8845,
                    10295,
                    12945,
                    10345,
                    6785,
                    8916.5,
                    8916.5,
                    11048,
                    32250,
                    35550,
                    36000,
                    5195,
                    6095,
                    6795,
                    6695,
                    7395,
                    10945,
                    11845,
                    13645,
                    15645,
                    8845,
                    8495,
                    10595,
                    10245,
                    10795,
                    11245,
                    18280,
                    18344,
                    25552,
                    28248,
                    28176,
                    31600,
                    34184,
                    35056,
                    40960,
                    45400,
                    16503,
                    5389,
                    6189,
                    6669,
                    7689,
                    9959,
                    8499,
                    12629,
                    14869,
                    14489,
                    6989,
                    8189,
                    9279,
                    9279,
                    5499,
                    7099,
                    6649,
                    6849,
                    7349,
                    7299,
                    7799,
                    7499,
                    7999,
                    8249,
                    8949,
                    9549,
                    13499,
                    14399,
                    13499,
                    17199,
                    19699,
                    18399,
                    11900,
                    13200,
                    12440,
                    13860,
                    15580,
                    16900,
                    16695,
                    17075,
                    16630,
                    17950,
                    18150,
                    5572,
                    7957,
                    6229,
                    6692,
                    7609,
                    8921,
                    12764,
                    22018,
                    32528,
                    34028,
                    37028,
                    31400.5,
                    9295,
                    9895,
                    11850,
                    12170,
                    15040,
                    15510,
                    18150,
                    18620,
                    5118,
                    7053,
                    7603,
                    7126,
                    7775,
                    9960,
                    9233,
                    11259,
                    7463,
                    10198,
                    8013,
                    11694,
                    5348,
                    6338,
                    6488,
                    6918,
                    7898,
                    8778,
                    6938,
                    7198,
                    7898,
                    7788,
                    7738,
                    8358,
                    9258,
                    8058,
                    8238,
                    9298,
                    9538,
                    8449,
                    9639,
                    9989,
                    11199,
                    11549,
                    17669,
                    8948,
                    10698,
                    9988,
                    10898,
                    11248,
                    16558,
                    15998,
                    15690,
                    15750,
                    7775,
                    7975,
                    7995,
                    8195,
                    8495,
                    9495,
                    9995,
                    11595,
                    9980,
                    13295,
                    13845,
                    12290,
                    12940,
                    13415,
                    15985,
                    16515,
                    18420,
                    18950,
                    16845,
                    19045,
                    21485,
                    22470,
                    22625
                  ],
                  "y0": " ",
                  "yaxis": "y"
                }
              ],
              "layout": {
                "boxmode": "group",
                "legend": {
                  "tracegroupgap": 0
                },
                "template": {
                  "data": {
                    "bar": [
                      {
                        "error_x": {
                          "color": "#2a3f5f"
                        },
                        "error_y": {
                          "color": "#2a3f5f"
                        },
                        "marker": {
                          "line": {
                            "color": "#E5ECF6",
                            "width": 0.5
                          },
                          "pattern": {
                            "fillmode": "overlay",
                            "size": 10,
                            "solidity": 0.2
                          }
                        },
                        "type": "bar"
                      }
                    ],
                    "barpolar": [
                      {
                        "marker": {
                          "line": {
                            "color": "#E5ECF6",
                            "width": 0.5
                          },
                          "pattern": {
                            "fillmode": "overlay",
                            "size": 10,
                            "solidity": 0.2
                          }
                        },
                        "type": "barpolar"
                      }
                    ],
                    "carpet": [
                      {
                        "aaxis": {
                          "endlinecolor": "#2a3f5f",
                          "gridcolor": "white",
                          "linecolor": "white",
                          "minorgridcolor": "white",
                          "startlinecolor": "#2a3f5f"
                        },
                        "baxis": {
                          "endlinecolor": "#2a3f5f",
                          "gridcolor": "white",
                          "linecolor": "white",
                          "minorgridcolor": "white",
                          "startlinecolor": "#2a3f5f"
                        },
                        "type": "carpet"
                      }
                    ],
                    "choropleth": [
                      {
                        "colorbar": {
                          "outlinewidth": 0,
                          "ticks": ""
                        },
                        "type": "choropleth"
                      }
                    ],
                    "contour": [
                      {
                        "colorbar": {
                          "outlinewidth": 0,
                          "ticks": ""
                        },
                        "colorscale": [
                          [
                            0,
                            "#0d0887"
                          ],
                          [
                            0.1111111111111111,
                            "#46039f"
                          ],
                          [
                            0.2222222222222222,
                            "#7201a8"
                          ],
                          [
                            0.3333333333333333,
                            "#9c179e"
                          ],
                          [
                            0.4444444444444444,
                            "#bd3786"
                          ],
                          [
                            0.5555555555555556,
                            "#d8576b"
                          ],
                          [
                            0.6666666666666666,
                            "#ed7953"
                          ],
                          [
                            0.7777777777777778,
                            "#fb9f3a"
                          ],
                          [
                            0.8888888888888888,
                            "#fdca26"
                          ],
                          [
                            1,
                            "#f0f921"
                          ]
                        ],
                        "type": "contour"
                      }
                    ],
                    "contourcarpet": [
                      {
                        "colorbar": {
                          "outlinewidth": 0,
                          "ticks": ""
                        },
                        "type": "contourcarpet"
                      }
                    ],
                    "heatmap": [
                      {
                        "colorbar": {
                          "outlinewidth": 0,
                          "ticks": ""
                        },
                        "colorscale": [
                          [
                            0,
                            "#0d0887"
                          ],
                          [
                            0.1111111111111111,
                            "#46039f"
                          ],
                          [
                            0.2222222222222222,
                            "#7201a8"
                          ],
                          [
                            0.3333333333333333,
                            "#9c179e"
                          ],
                          [
                            0.4444444444444444,
                            "#bd3786"
                          ],
                          [
                            0.5555555555555556,
                            "#d8576b"
                          ],
                          [
                            0.6666666666666666,
                            "#ed7953"
                          ],
                          [
                            0.7777777777777778,
                            "#fb9f3a"
                          ],
                          [
                            0.8888888888888888,
                            "#fdca26"
                          ],
                          [
                            1,
                            "#f0f921"
                          ]
                        ],
                        "type": "heatmap"
                      }
                    ],
                    "heatmapgl": [
                      {
                        "colorbar": {
                          "outlinewidth": 0,
                          "ticks": ""
                        },
                        "colorscale": [
                          [
                            0,
                            "#0d0887"
                          ],
                          [
                            0.1111111111111111,
                            "#46039f"
                          ],
                          [
                            0.2222222222222222,
                            "#7201a8"
                          ],
                          [
                            0.3333333333333333,
                            "#9c179e"
                          ],
                          [
                            0.4444444444444444,
                            "#bd3786"
                          ],
                          [
                            0.5555555555555556,
                            "#d8576b"
                          ],
                          [
                            0.6666666666666666,
                            "#ed7953"
                          ],
                          [
                            0.7777777777777778,
                            "#fb9f3a"
                          ],
                          [
                            0.8888888888888888,
                            "#fdca26"
                          ],
                          [
                            1,
                            "#f0f921"
                          ]
                        ],
                        "type": "heatmapgl"
                      }
                    ],
                    "histogram": [
                      {
                        "marker": {
                          "pattern": {
                            "fillmode": "overlay",
                            "size": 10,
                            "solidity": 0.2
                          }
                        },
                        "type": "histogram"
                      }
                    ],
                    "histogram2d": [
                      {
                        "colorbar": {
                          "outlinewidth": 0,
                          "ticks": ""
                        },
                        "colorscale": [
                          [
                            0,
                            "#0d0887"
                          ],
                          [
                            0.1111111111111111,
                            "#46039f"
                          ],
                          [
                            0.2222222222222222,
                            "#7201a8"
                          ],
                          [
                            0.3333333333333333,
                            "#9c179e"
                          ],
                          [
                            0.4444444444444444,
                            "#bd3786"
                          ],
                          [
                            0.5555555555555556,
                            "#d8576b"
                          ],
                          [
                            0.6666666666666666,
                            "#ed7953"
                          ],
                          [
                            0.7777777777777778,
                            "#fb9f3a"
                          ],
                          [
                            0.8888888888888888,
                            "#fdca26"
                          ],
                          [
                            1,
                            "#f0f921"
                          ]
                        ],
                        "type": "histogram2d"
                      }
                    ],
                    "histogram2dcontour": [
                      {
                        "colorbar": {
                          "outlinewidth": 0,
                          "ticks": ""
                        },
                        "colorscale": [
                          [
                            0,
                            "#0d0887"
                          ],
                          [
                            0.1111111111111111,
                            "#46039f"
                          ],
                          [
                            0.2222222222222222,
                            "#7201a8"
                          ],
                          [
                            0.3333333333333333,
                            "#9c179e"
                          ],
                          [
                            0.4444444444444444,
                            "#bd3786"
                          ],
                          [
                            0.5555555555555556,
                            "#d8576b"
                          ],
                          [
                            0.6666666666666666,
                            "#ed7953"
                          ],
                          [
                            0.7777777777777778,
                            "#fb9f3a"
                          ],
                          [
                            0.8888888888888888,
                            "#fdca26"
                          ],
                          [
                            1,
                            "#f0f921"
                          ]
                        ],
                        "type": "histogram2dcontour"
                      }
                    ],
                    "mesh3d": [
                      {
                        "colorbar": {
                          "outlinewidth": 0,
                          "ticks": ""
                        },
                        "type": "mesh3d"
                      }
                    ],
                    "parcoords": [
                      {
                        "line": {
                          "colorbar": {
                            "outlinewidth": 0,
                            "ticks": ""
                          }
                        },
                        "type": "parcoords"
                      }
                    ],
                    "pie": [
                      {
                        "automargin": true,
                        "type": "pie"
                      }
                    ],
                    "scatter": [
                      {
                        "fillpattern": {
                          "fillmode": "overlay",
                          "size": 10,
                          "solidity": 0.2
                        },
                        "type": "scatter"
                      }
                    ],
                    "scatter3d": [
                      {
                        "line": {
                          "colorbar": {
                            "outlinewidth": 0,
                            "ticks": ""
                          }
                        },
                        "marker": {
                          "colorbar": {
                            "outlinewidth": 0,
                            "ticks": ""
                          }
                        },
                        "type": "scatter3d"
                      }
                    ],
                    "scattercarpet": [
                      {
                        "marker": {
                          "colorbar": {
                            "outlinewidth": 0,
                            "ticks": ""
                          }
                        },
                        "type": "scattercarpet"
                      }
                    ],
                    "scattergeo": [
                      {
                        "marker": {
                          "colorbar": {
                            "outlinewidth": 0,
                            "ticks": ""
                          }
                        },
                        "type": "scattergeo"
                      }
                    ],
                    "scattergl": [
                      {
                        "marker": {
                          "colorbar": {
                            "outlinewidth": 0,
                            "ticks": ""
                          }
                        },
                        "type": "scattergl"
                      }
                    ],
                    "scattermapbox": [
                      {
                        "marker": {
                          "colorbar": {
                            "outlinewidth": 0,
                            "ticks": ""
                          }
                        },
                        "type": "scattermapbox"
                      }
                    ],
                    "scatterpolar": [
                      {
                        "marker": {
                          "colorbar": {
                            "outlinewidth": 0,
                            "ticks": ""
                          }
                        },
                        "type": "scatterpolar"
                      }
                    ],
                    "scatterpolargl": [
                      {
                        "marker": {
                          "colorbar": {
                            "outlinewidth": 0,
                            "ticks": ""
                          }
                        },
                        "type": "scatterpolargl"
                      }
                    ],
                    "scatterternary": [
                      {
                        "marker": {
                          "colorbar": {
                            "outlinewidth": 0,
                            "ticks": ""
                          }
                        },
                        "type": "scatterternary"
                      }
                    ],
                    "surface": [
                      {
                        "colorbar": {
                          "outlinewidth": 0,
                          "ticks": ""
                        },
                        "colorscale": [
                          [
                            0,
                            "#0d0887"
                          ],
                          [
                            0.1111111111111111,
                            "#46039f"
                          ],
                          [
                            0.2222222222222222,
                            "#7201a8"
                          ],
                          [
                            0.3333333333333333,
                            "#9c179e"
                          ],
                          [
                            0.4444444444444444,
                            "#bd3786"
                          ],
                          [
                            0.5555555555555556,
                            "#d8576b"
                          ],
                          [
                            0.6666666666666666,
                            "#ed7953"
                          ],
                          [
                            0.7777777777777778,
                            "#fb9f3a"
                          ],
                          [
                            0.8888888888888888,
                            "#fdca26"
                          ],
                          [
                            1,
                            "#f0f921"
                          ]
                        ],
                        "type": "surface"
                      }
                    ],
                    "table": [
                      {
                        "cells": {
                          "fill": {
                            "color": "#EBF0F8"
                          },
                          "line": {
                            "color": "white"
                          }
                        },
                        "header": {
                          "fill": {
                            "color": "#C8D4E3"
                          },
                          "line": {
                            "color": "white"
                          }
                        },
                        "type": "table"
                      }
                    ]
                  },
                  "layout": {
                    "annotationdefaults": {
                      "arrowcolor": "#2a3f5f",
                      "arrowhead": 0,
                      "arrowwidth": 1
                    },
                    "autotypenumbers": "strict",
                    "coloraxis": {
                      "colorbar": {
                        "outlinewidth": 0,
                        "ticks": ""
                      }
                    },
                    "colorscale": {
                      "diverging": [
                        [
                          0,
                          "#8e0152"
                        ],
                        [
                          0.1,
                          "#c51b7d"
                        ],
                        [
                          0.2,
                          "#de77ae"
                        ],
                        [
                          0.3,
                          "#f1b6da"
                        ],
                        [
                          0.4,
                          "#fde0ef"
                        ],
                        [
                          0.5,
                          "#f7f7f7"
                        ],
                        [
                          0.6,
                          "#e6f5d0"
                        ],
                        [
                          0.7,
                          "#b8e186"
                        ],
                        [
                          0.8,
                          "#7fbc41"
                        ],
                        [
                          0.9,
                          "#4d9221"
                        ],
                        [
                          1,
                          "#276419"
                        ]
                      ],
                      "sequential": [
                        [
                          0,
                          "#0d0887"
                        ],
                        [
                          0.1111111111111111,
                          "#46039f"
                        ],
                        [
                          0.2222222222222222,
                          "#7201a8"
                        ],
                        [
                          0.3333333333333333,
                          "#9c179e"
                        ],
                        [
                          0.4444444444444444,
                          "#bd3786"
                        ],
                        [
                          0.5555555555555556,
                          "#d8576b"
                        ],
                        [
                          0.6666666666666666,
                          "#ed7953"
                        ],
                        [
                          0.7777777777777778,
                          "#fb9f3a"
                        ],
                        [
                          0.8888888888888888,
                          "#fdca26"
                        ],
                        [
                          1,
                          "#f0f921"
                        ]
                      ],
                      "sequentialminus": [
                        [
                          0,
                          "#0d0887"
                        ],
                        [
                          0.1111111111111111,
                          "#46039f"
                        ],
                        [
                          0.2222222222222222,
                          "#7201a8"
                        ],
                        [
                          0.3333333333333333,
                          "#9c179e"
                        ],
                        [
                          0.4444444444444444,
                          "#bd3786"
                        ],
                        [
                          0.5555555555555556,
                          "#d8576b"
                        ],
                        [
                          0.6666666666666666,
                          "#ed7953"
                        ],
                        [
                          0.7777777777777778,
                          "#fb9f3a"
                        ],
                        [
                          0.8888888888888888,
                          "#fdca26"
                        ],
                        [
                          1,
                          "#f0f921"
                        ]
                      ]
                    },
                    "colorway": [
                      "#636efa",
                      "#EF553B",
                      "#00cc96",
                      "#ab63fa",
                      "#FFA15A",
                      "#19d3f3",
                      "#FF6692",
                      "#B6E880",
                      "#FF97FF",
                      "#FECB52"
                    ],
                    "font": {
                      "color": "#2a3f5f"
                    },
                    "geo": {
                      "bgcolor": "white",
                      "lakecolor": "white",
                      "landcolor": "#E5ECF6",
                      "showlakes": true,
                      "showland": true,
                      "subunitcolor": "white"
                    },
                    "hoverlabel": {
                      "align": "left"
                    },
                    "hovermode": "closest",
                    "mapbox": {
                      "style": "light"
                    },
                    "paper_bgcolor": "white",
                    "plot_bgcolor": "#E5ECF6",
                    "polar": {
                      "angularaxis": {
                        "gridcolor": "white",
                        "linecolor": "white",
                        "ticks": ""
                      },
                      "bgcolor": "#E5ECF6",
                      "radialaxis": {
                        "gridcolor": "white",
                        "linecolor": "white",
                        "ticks": ""
                      }
                    },
                    "scene": {
                      "xaxis": {
                        "backgroundcolor": "#E5ECF6",
                        "gridcolor": "white",
                        "gridwidth": 2,
                        "linecolor": "white",
                        "showbackground": true,
                        "ticks": "",
                        "zerolinecolor": "white"
                      },
                      "yaxis": {
                        "backgroundcolor": "#E5ECF6",
                        "gridcolor": "white",
                        "gridwidth": 2,
                        "linecolor": "white",
                        "showbackground": true,
                        "ticks": "",
                        "zerolinecolor": "white"
                      },
                      "zaxis": {
                        "backgroundcolor": "#E5ECF6",
                        "gridcolor": "white",
                        "gridwidth": 2,
                        "linecolor": "white",
                        "showbackground": true,
                        "ticks": "",
                        "zerolinecolor": "white"
                      }
                    },
                    "shapedefaults": {
                      "line": {
                        "color": "#2a3f5f"
                      }
                    },
                    "ternary": {
                      "aaxis": {
                        "gridcolor": "white",
                        "linecolor": "white",
                        "ticks": ""
                      },
                      "baxis": {
                        "gridcolor": "white",
                        "linecolor": "white",
                        "ticks": ""
                      },
                      "bgcolor": "#E5ECF6",
                      "caxis": {
                        "gridcolor": "white",
                        "linecolor": "white",
                        "ticks": ""
                      }
                    },
                    "title": {
                      "x": 0.05
                    },
                    "xaxis": {
                      "automargin": true,
                      "gridcolor": "white",
                      "linecolor": "white",
                      "ticks": "",
                      "title": {
                        "standoff": 15
                      },
                      "zerolinecolor": "white",
                      "zerolinewidth": 2
                    },
                    "yaxis": {
                      "automargin": true,
                      "gridcolor": "white",
                      "linecolor": "white",
                      "ticks": "",
                      "title": {
                        "standoff": 15
                      },
                      "zerolinecolor": "white",
                      "zerolinewidth": 2
                    }
                  }
                },
                "title": {
                  "text": "Fuel Type vs Price"
                },
                "xaxis": {
                  "anchor": "y",
                  "domain": [
                    0,
                    1
                  ],
                  "title": {
                    "text": "fueltype"
                  }
                },
                "yaxis": {
                  "anchor": "x",
                  "domain": [
                    0,
                    1
                  ],
                  "title": {
                    "text": "price"
                  }
                }
              }
            }
          },
          "metadata": {},
          "output_type": "display_data"
        }
      ],
      "source": [
        "fig = px.box(df, x='fueltype', y='price', title='Fuel Type vs Price')\n",
        "fig.show()"
      ]
    },
    {
      "cell_type": "code",
      "execution_count": 7,
      "id": "e0e26ae1-616d-46d0-8ac8-ac571ab158e9",
      "metadata": {
        "ExecuteTime": {
          "end_time": "2023-06-23T19:49:25.561776+00:00",
          "start_time": "2023-06-23T19:49:25.347721+00:00"
        },
        "noteable": {
          "cell_type": "code",
          "output_collection_id": "e9b0c3ee-1e83-4c10-8bc8-df022ca3fce8"
        }
      },
      "outputs": [
        {
          "data": {
            "application/vnd.plotly.v1+json": {
              "config": {
                "plotlyServerURL": "https://plot.ly"
              },
              "data": [
                {
                  "alignmentgroup": "True",
                  "hovertemplate": "aspiration=%{x}<br>price=%{y}<extra></extra>",
                  "legendgroup": "",
                  "marker": {
                    "color": "#636efa"
                  },
                  "name": "",
                  "notched": false,
                  "offsetgroup": "",
                  "orientation": "v",
                  "showlegend": false,
                  "type": "box",
                  "x": [
                    "std",
                    "std",
                    "std",
                    "std",
                    "std",
                    "std",
                    "std",
                    "std",
                    "turbo",
                    "turbo",
                    "std",
                    "std",
                    "std",
                    "std",
                    "std",
                    "std",
                    "std",
                    "std",
                    "std",
                    "std",
                    "std",
                    "std",
                    "std",
                    "turbo",
                    "std",
                    "std",
                    "std",
                    "turbo",
                    "std",
                    "turbo",
                    "std",
                    "std",
                    "std",
                    "std",
                    "std",
                    "std",
                    "std",
                    "std",
                    "std",
                    "std",
                    "std",
                    "std",
                    "std",
                    "std",
                    "std",
                    "std",
                    "std",
                    "std",
                    "std",
                    "std",
                    "std",
                    "std",
                    "std",
                    "std",
                    "std",
                    "std",
                    "std",
                    "std",
                    "std",
                    "std",
                    "std",
                    "std",
                    "std",
                    "std",
                    "std",
                    "std",
                    "std",
                    "turbo",
                    "turbo",
                    "turbo",
                    "turbo",
                    "std",
                    "std",
                    "std",
                    "std",
                    "turbo",
                    "std",
                    "std",
                    "std",
                    "turbo",
                    "turbo",
                    "std",
                    "turbo",
                    "turbo",
                    "turbo",
                    "std",
                    "std",
                    "turbo",
                    "std",
                    "std",
                    "std",
                    "std",
                    "std",
                    "std",
                    "std",
                    "std",
                    "std",
                    "std",
                    "std",
                    "std",
                    "std",
                    "std",
                    "std",
                    "std",
                    "std",
                    "turbo",
                    "std",
                    "std",
                    "turbo",
                    "std",
                    "turbo",
                    "std",
                    "turbo",
                    "std",
                    "turbo",
                    "std",
                    "turbo",
                    "turbo",
                    "std",
                    "turbo",
                    "std",
                    "std",
                    "std",
                    "std",
                    "turbo",
                    "std",
                    "std",
                    "std",
                    "std",
                    "std",
                    "std",
                    "std",
                    "std",
                    "std",
                    "std",
                    "std",
                    "turbo",
                    "turbo",
                    "std",
                    "std",
                    "std",
                    "std",
                    "std",
                    "std",
                    "std",
                    "turbo",
                    "std",
                    "std",
                    "std",
                    "turbo",
                    "std",
                    "std",
                    "std",
                    "std",
                    "std",
                    "std",
                    "std",
                    "std",
                    "std",
                    "std",
                    "std",
                    "std",
                    "std",
                    "std",
                    "std",
                    "std",
                    "std",
                    "std",
                    "std",
                    "std",
                    "std",
                    "std",
                    "std",
                    "std",
                    "turbo",
                    "std",
                    "std",
                    "std",
                    "std",
                    "std",
                    "std",
                    "std",
                    "std",
                    "std",
                    "std",
                    "std",
                    "std",
                    "turbo",
                    "std",
                    "std",
                    "std",
                    "std",
                    "turbo",
                    "std",
                    "std",
                    "std",
                    "std",
                    "std",
                    "turbo",
                    "turbo",
                    "std",
                    "turbo",
                    "std",
                    "turbo",
                    "turbo"
                  ],
                  "x0": " ",
                  "xaxis": "x",
                  "y": [
                    13495,
                    16500,
                    16500,
                    13950,
                    17450,
                    15250,
                    17710,
                    18920,
                    23875,
                    17859.167,
                    16430,
                    16925,
                    20970,
                    21105,
                    24565,
                    30760,
                    41315,
                    36880,
                    5151,
                    6295,
                    6575,
                    5572,
                    6377,
                    7957,
                    6229,
                    6692,
                    7609,
                    8558,
                    8921,
                    12964,
                    6479,
                    6855,
                    5399,
                    6529,
                    7129,
                    7295,
                    7295,
                    7895,
                    9095,
                    8845,
                    10295,
                    12945,
                    10345,
                    6785,
                    8916.5,
                    8916.5,
                    11048,
                    32250,
                    35550,
                    36000,
                    5195,
                    6095,
                    6795,
                    6695,
                    7395,
                    10945,
                    11845,
                    13645,
                    15645,
                    8845,
                    8495,
                    10595,
                    10245,
                    10795,
                    11245,
                    18280,
                    18344,
                    25552,
                    28248,
                    28176,
                    31600,
                    34184,
                    35056,
                    40960,
                    45400,
                    16503,
                    5389,
                    6189,
                    6669,
                    7689,
                    9959,
                    8499,
                    12629,
                    14869,
                    14489,
                    6989,
                    8189,
                    9279,
                    9279,
                    5499,
                    7099,
                    6649,
                    6849,
                    7349,
                    7299,
                    7799,
                    7499,
                    7999,
                    8249,
                    8949,
                    9549,
                    13499,
                    14399,
                    13499,
                    17199,
                    19699,
                    18399,
                    11900,
                    13200,
                    12440,
                    13860,
                    15580,
                    16900,
                    16695,
                    17075,
                    16630,
                    17950,
                    18150,
                    5572,
                    7957,
                    6229,
                    6692,
                    7609,
                    8921,
                    12764,
                    22018,
                    32528,
                    34028,
                    37028,
                    31400.5,
                    9295,
                    9895,
                    11850,
                    12170,
                    15040,
                    15510,
                    18150,
                    18620,
                    5118,
                    7053,
                    7603,
                    7126,
                    7775,
                    9960,
                    9233,
                    11259,
                    7463,
                    10198,
                    8013,
                    11694,
                    5348,
                    6338,
                    6488,
                    6918,
                    7898,
                    8778,
                    6938,
                    7198,
                    7898,
                    7788,
                    7738,
                    8358,
                    9258,
                    8058,
                    8238,
                    9298,
                    9538,
                    8449,
                    9639,
                    9989,
                    11199,
                    11549,
                    17669,
                    8948,
                    10698,
                    9988,
                    10898,
                    11248,
                    16558,
                    15998,
                    15690,
                    15750,
                    7775,
                    7975,
                    7995,
                    8195,
                    8495,
                    9495,
                    9995,
                    11595,
                    9980,
                    13295,
                    13845,
                    12290,
                    12940,
                    13415,
                    15985,
                    16515,
                    18420,
                    18950,
                    16845,
                    19045,
                    21485,
                    22470,
                    22625
                  ],
                  "y0": " ",
                  "yaxis": "y"
                }
              ],
              "layout": {
                "boxmode": "group",
                "legend": {
                  "tracegroupgap": 0
                },
                "template": {
                  "data": {
                    "bar": [
                      {
                        "error_x": {
                          "color": "#2a3f5f"
                        },
                        "error_y": {
                          "color": "#2a3f5f"
                        },
                        "marker": {
                          "line": {
                            "color": "#E5ECF6",
                            "width": 0.5
                          },
                          "pattern": {
                            "fillmode": "overlay",
                            "size": 10,
                            "solidity": 0.2
                          }
                        },
                        "type": "bar"
                      }
                    ],
                    "barpolar": [
                      {
                        "marker": {
                          "line": {
                            "color": "#E5ECF6",
                            "width": 0.5
                          },
                          "pattern": {
                            "fillmode": "overlay",
                            "size": 10,
                            "solidity": 0.2
                          }
                        },
                        "type": "barpolar"
                      }
                    ],
                    "carpet": [
                      {
                        "aaxis": {
                          "endlinecolor": "#2a3f5f",
                          "gridcolor": "white",
                          "linecolor": "white",
                          "minorgridcolor": "white",
                          "startlinecolor": "#2a3f5f"
                        },
                        "baxis": {
                          "endlinecolor": "#2a3f5f",
                          "gridcolor": "white",
                          "linecolor": "white",
                          "minorgridcolor": "white",
                          "startlinecolor": "#2a3f5f"
                        },
                        "type": "carpet"
                      }
                    ],
                    "choropleth": [
                      {
                        "colorbar": {
                          "outlinewidth": 0,
                          "ticks": ""
                        },
                        "type": "choropleth"
                      }
                    ],
                    "contour": [
                      {
                        "colorbar": {
                          "outlinewidth": 0,
                          "ticks": ""
                        },
                        "colorscale": [
                          [
                            0,
                            "#0d0887"
                          ],
                          [
                            0.1111111111111111,
                            "#46039f"
                          ],
                          [
                            0.2222222222222222,
                            "#7201a8"
                          ],
                          [
                            0.3333333333333333,
                            "#9c179e"
                          ],
                          [
                            0.4444444444444444,
                            "#bd3786"
                          ],
                          [
                            0.5555555555555556,
                            "#d8576b"
                          ],
                          [
                            0.6666666666666666,
                            "#ed7953"
                          ],
                          [
                            0.7777777777777778,
                            "#fb9f3a"
                          ],
                          [
                            0.8888888888888888,
                            "#fdca26"
                          ],
                          [
                            1,
                            "#f0f921"
                          ]
                        ],
                        "type": "contour"
                      }
                    ],
                    "contourcarpet": [
                      {
                        "colorbar": {
                          "outlinewidth": 0,
                          "ticks": ""
                        },
                        "type": "contourcarpet"
                      }
                    ],
                    "heatmap": [
                      {
                        "colorbar": {
                          "outlinewidth": 0,
                          "ticks": ""
                        },
                        "colorscale": [
                          [
                            0,
                            "#0d0887"
                          ],
                          [
                            0.1111111111111111,
                            "#46039f"
                          ],
                          [
                            0.2222222222222222,
                            "#7201a8"
                          ],
                          [
                            0.3333333333333333,
                            "#9c179e"
                          ],
                          [
                            0.4444444444444444,
                            "#bd3786"
                          ],
                          [
                            0.5555555555555556,
                            "#d8576b"
                          ],
                          [
                            0.6666666666666666,
                            "#ed7953"
                          ],
                          [
                            0.7777777777777778,
                            "#fb9f3a"
                          ],
                          [
                            0.8888888888888888,
                            "#fdca26"
                          ],
                          [
                            1,
                            "#f0f921"
                          ]
                        ],
                        "type": "heatmap"
                      }
                    ],
                    "heatmapgl": [
                      {
                        "colorbar": {
                          "outlinewidth": 0,
                          "ticks": ""
                        },
                        "colorscale": [
                          [
                            0,
                            "#0d0887"
                          ],
                          [
                            0.1111111111111111,
                            "#46039f"
                          ],
                          [
                            0.2222222222222222,
                            "#7201a8"
                          ],
                          [
                            0.3333333333333333,
                            "#9c179e"
                          ],
                          [
                            0.4444444444444444,
                            "#bd3786"
                          ],
                          [
                            0.5555555555555556,
                            "#d8576b"
                          ],
                          [
                            0.6666666666666666,
                            "#ed7953"
                          ],
                          [
                            0.7777777777777778,
                            "#fb9f3a"
                          ],
                          [
                            0.8888888888888888,
                            "#fdca26"
                          ],
                          [
                            1,
                            "#f0f921"
                          ]
                        ],
                        "type": "heatmapgl"
                      }
                    ],
                    "histogram": [
                      {
                        "marker": {
                          "pattern": {
                            "fillmode": "overlay",
                            "size": 10,
                            "solidity": 0.2
                          }
                        },
                        "type": "histogram"
                      }
                    ],
                    "histogram2d": [
                      {
                        "colorbar": {
                          "outlinewidth": 0,
                          "ticks": ""
                        },
                        "colorscale": [
                          [
                            0,
                            "#0d0887"
                          ],
                          [
                            0.1111111111111111,
                            "#46039f"
                          ],
                          [
                            0.2222222222222222,
                            "#7201a8"
                          ],
                          [
                            0.3333333333333333,
                            "#9c179e"
                          ],
                          [
                            0.4444444444444444,
                            "#bd3786"
                          ],
                          [
                            0.5555555555555556,
                            "#d8576b"
                          ],
                          [
                            0.6666666666666666,
                            "#ed7953"
                          ],
                          [
                            0.7777777777777778,
                            "#fb9f3a"
                          ],
                          [
                            0.8888888888888888,
                            "#fdca26"
                          ],
                          [
                            1,
                            "#f0f921"
                          ]
                        ],
                        "type": "histogram2d"
                      }
                    ],
                    "histogram2dcontour": [
                      {
                        "colorbar": {
                          "outlinewidth": 0,
                          "ticks": ""
                        },
                        "colorscale": [
                          [
                            0,
                            "#0d0887"
                          ],
                          [
                            0.1111111111111111,
                            "#46039f"
                          ],
                          [
                            0.2222222222222222,
                            "#7201a8"
                          ],
                          [
                            0.3333333333333333,
                            "#9c179e"
                          ],
                          [
                            0.4444444444444444,
                            "#bd3786"
                          ],
                          [
                            0.5555555555555556,
                            "#d8576b"
                          ],
                          [
                            0.6666666666666666,
                            "#ed7953"
                          ],
                          [
                            0.7777777777777778,
                            "#fb9f3a"
                          ],
                          [
                            0.8888888888888888,
                            "#fdca26"
                          ],
                          [
                            1,
                            "#f0f921"
                          ]
                        ],
                        "type": "histogram2dcontour"
                      }
                    ],
                    "mesh3d": [
                      {
                        "colorbar": {
                          "outlinewidth": 0,
                          "ticks": ""
                        },
                        "type": "mesh3d"
                      }
                    ],
                    "parcoords": [
                      {
                        "line": {
                          "colorbar": {
                            "outlinewidth": 0,
                            "ticks": ""
                          }
                        },
                        "type": "parcoords"
                      }
                    ],
                    "pie": [
                      {
                        "automargin": true,
                        "type": "pie"
                      }
                    ],
                    "scatter": [
                      {
                        "fillpattern": {
                          "fillmode": "overlay",
                          "size": 10,
                          "solidity": 0.2
                        },
                        "type": "scatter"
                      }
                    ],
                    "scatter3d": [
                      {
                        "line": {
                          "colorbar": {
                            "outlinewidth": 0,
                            "ticks": ""
                          }
                        },
                        "marker": {
                          "colorbar": {
                            "outlinewidth": 0,
                            "ticks": ""
                          }
                        },
                        "type": "scatter3d"
                      }
                    ],
                    "scattercarpet": [
                      {
                        "marker": {
                          "colorbar": {
                            "outlinewidth": 0,
                            "ticks": ""
                          }
                        },
                        "type": "scattercarpet"
                      }
                    ],
                    "scattergeo": [
                      {
                        "marker": {
                          "colorbar": {
                            "outlinewidth": 0,
                            "ticks": ""
                          }
                        },
                        "type": "scattergeo"
                      }
                    ],
                    "scattergl": [
                      {
                        "marker": {
                          "colorbar": {
                            "outlinewidth": 0,
                            "ticks": ""
                          }
                        },
                        "type": "scattergl"
                      }
                    ],
                    "scattermapbox": [
                      {
                        "marker": {
                          "colorbar": {
                            "outlinewidth": 0,
                            "ticks": ""
                          }
                        },
                        "type": "scattermapbox"
                      }
                    ],
                    "scatterpolar": [
                      {
                        "marker": {
                          "colorbar": {
                            "outlinewidth": 0,
                            "ticks": ""
                          }
                        },
                        "type": "scatterpolar"
                      }
                    ],
                    "scatterpolargl": [
                      {
                        "marker": {
                          "colorbar": {
                            "outlinewidth": 0,
                            "ticks": ""
                          }
                        },
                        "type": "scatterpolargl"
                      }
                    ],
                    "scatterternary": [
                      {
                        "marker": {
                          "colorbar": {
                            "outlinewidth": 0,
                            "ticks": ""
                          }
                        },
                        "type": "scatterternary"
                      }
                    ],
                    "surface": [
                      {
                        "colorbar": {
                          "outlinewidth": 0,
                          "ticks": ""
                        },
                        "colorscale": [
                          [
                            0,
                            "#0d0887"
                          ],
                          [
                            0.1111111111111111,
                            "#46039f"
                          ],
                          [
                            0.2222222222222222,
                            "#7201a8"
                          ],
                          [
                            0.3333333333333333,
                            "#9c179e"
                          ],
                          [
                            0.4444444444444444,
                            "#bd3786"
                          ],
                          [
                            0.5555555555555556,
                            "#d8576b"
                          ],
                          [
                            0.6666666666666666,
                            "#ed7953"
                          ],
                          [
                            0.7777777777777778,
                            "#fb9f3a"
                          ],
                          [
                            0.8888888888888888,
                            "#fdca26"
                          ],
                          [
                            1,
                            "#f0f921"
                          ]
                        ],
                        "type": "surface"
                      }
                    ],
                    "table": [
                      {
                        "cells": {
                          "fill": {
                            "color": "#EBF0F8"
                          },
                          "line": {
                            "color": "white"
                          }
                        },
                        "header": {
                          "fill": {
                            "color": "#C8D4E3"
                          },
                          "line": {
                            "color": "white"
                          }
                        },
                        "type": "table"
                      }
                    ]
                  },
                  "layout": {
                    "annotationdefaults": {
                      "arrowcolor": "#2a3f5f",
                      "arrowhead": 0,
                      "arrowwidth": 1
                    },
                    "autotypenumbers": "strict",
                    "coloraxis": {
                      "colorbar": {
                        "outlinewidth": 0,
                        "ticks": ""
                      }
                    },
                    "colorscale": {
                      "diverging": [
                        [
                          0,
                          "#8e0152"
                        ],
                        [
                          0.1,
                          "#c51b7d"
                        ],
                        [
                          0.2,
                          "#de77ae"
                        ],
                        [
                          0.3,
                          "#f1b6da"
                        ],
                        [
                          0.4,
                          "#fde0ef"
                        ],
                        [
                          0.5,
                          "#f7f7f7"
                        ],
                        [
                          0.6,
                          "#e6f5d0"
                        ],
                        [
                          0.7,
                          "#b8e186"
                        ],
                        [
                          0.8,
                          "#7fbc41"
                        ],
                        [
                          0.9,
                          "#4d9221"
                        ],
                        [
                          1,
                          "#276419"
                        ]
                      ],
                      "sequential": [
                        [
                          0,
                          "#0d0887"
                        ],
                        [
                          0.1111111111111111,
                          "#46039f"
                        ],
                        [
                          0.2222222222222222,
                          "#7201a8"
                        ],
                        [
                          0.3333333333333333,
                          "#9c179e"
                        ],
                        [
                          0.4444444444444444,
                          "#bd3786"
                        ],
                        [
                          0.5555555555555556,
                          "#d8576b"
                        ],
                        [
                          0.6666666666666666,
                          "#ed7953"
                        ],
                        [
                          0.7777777777777778,
                          "#fb9f3a"
                        ],
                        [
                          0.8888888888888888,
                          "#fdca26"
                        ],
                        [
                          1,
                          "#f0f921"
                        ]
                      ],
                      "sequentialminus": [
                        [
                          0,
                          "#0d0887"
                        ],
                        [
                          0.1111111111111111,
                          "#46039f"
                        ],
                        [
                          0.2222222222222222,
                          "#7201a8"
                        ],
                        [
                          0.3333333333333333,
                          "#9c179e"
                        ],
                        [
                          0.4444444444444444,
                          "#bd3786"
                        ],
                        [
                          0.5555555555555556,
                          "#d8576b"
                        ],
                        [
                          0.6666666666666666,
                          "#ed7953"
                        ],
                        [
                          0.7777777777777778,
                          "#fb9f3a"
                        ],
                        [
                          0.8888888888888888,
                          "#fdca26"
                        ],
                        [
                          1,
                          "#f0f921"
                        ]
                      ]
                    },
                    "colorway": [
                      "#636efa",
                      "#EF553B",
                      "#00cc96",
                      "#ab63fa",
                      "#FFA15A",
                      "#19d3f3",
                      "#FF6692",
                      "#B6E880",
                      "#FF97FF",
                      "#FECB52"
                    ],
                    "font": {
                      "color": "#2a3f5f"
                    },
                    "geo": {
                      "bgcolor": "white",
                      "lakecolor": "white",
                      "landcolor": "#E5ECF6",
                      "showlakes": true,
                      "showland": true,
                      "subunitcolor": "white"
                    },
                    "hoverlabel": {
                      "align": "left"
                    },
                    "hovermode": "closest",
                    "mapbox": {
                      "style": "light"
                    },
                    "paper_bgcolor": "white",
                    "plot_bgcolor": "#E5ECF6",
                    "polar": {
                      "angularaxis": {
                        "gridcolor": "white",
                        "linecolor": "white",
                        "ticks": ""
                      },
                      "bgcolor": "#E5ECF6",
                      "radialaxis": {
                        "gridcolor": "white",
                        "linecolor": "white",
                        "ticks": ""
                      }
                    },
                    "scene": {
                      "xaxis": {
                        "backgroundcolor": "#E5ECF6",
                        "gridcolor": "white",
                        "gridwidth": 2,
                        "linecolor": "white",
                        "showbackground": true,
                        "ticks": "",
                        "zerolinecolor": "white"
                      },
                      "yaxis": {
                        "backgroundcolor": "#E5ECF6",
                        "gridcolor": "white",
                        "gridwidth": 2,
                        "linecolor": "white",
                        "showbackground": true,
                        "ticks": "",
                        "zerolinecolor": "white"
                      },
                      "zaxis": {
                        "backgroundcolor": "#E5ECF6",
                        "gridcolor": "white",
                        "gridwidth": 2,
                        "linecolor": "white",
                        "showbackground": true,
                        "ticks": "",
                        "zerolinecolor": "white"
                      }
                    },
                    "shapedefaults": {
                      "line": {
                        "color": "#2a3f5f"
                      }
                    },
                    "ternary": {
                      "aaxis": {
                        "gridcolor": "white",
                        "linecolor": "white",
                        "ticks": ""
                      },
                      "baxis": {
                        "gridcolor": "white",
                        "linecolor": "white",
                        "ticks": ""
                      },
                      "bgcolor": "#E5ECF6",
                      "caxis": {
                        "gridcolor": "white",
                        "linecolor": "white",
                        "ticks": ""
                      }
                    },
                    "title": {
                      "x": 0.05
                    },
                    "xaxis": {
                      "automargin": true,
                      "gridcolor": "white",
                      "linecolor": "white",
                      "ticks": "",
                      "title": {
                        "standoff": 15
                      },
                      "zerolinecolor": "white",
                      "zerolinewidth": 2
                    },
                    "yaxis": {
                      "automargin": true,
                      "gridcolor": "white",
                      "linecolor": "white",
                      "ticks": "",
                      "title": {
                        "standoff": 15
                      },
                      "zerolinecolor": "white",
                      "zerolinewidth": 2
                    }
                  }
                },
                "title": {
                  "text": "Aspiration vs Price"
                },
                "xaxis": {
                  "anchor": "y",
                  "domain": [
                    0,
                    1
                  ],
                  "title": {
                    "text": "aspiration"
                  }
                },
                "yaxis": {
                  "anchor": "x",
                  "domain": [
                    0,
                    1
                  ],
                  "title": {
                    "text": "price"
                  }
                }
              }
            }
          },
          "metadata": {},
          "output_type": "display_data"
        }
      ],
      "source": [
        "fig = px.box(df, x='aspiration', y='price', title='Aspiration vs Price')\n",
        "fig.show()"
      ]
    },
    {
      "cell_type": "code",
      "execution_count": 9,
      "id": "305b9c26-dbe2-49c5-8250-d3ad7ffd86f5",
      "metadata": {
        "ExecuteTime": {
          "end_time": "2023-06-23T19:50:10.663776+00:00",
          "start_time": "2023-06-23T19:50:10.459073+00:00"
        },
        "noteable": {
          "cell_type": "code",
          "output_collection_id": "cbd6870e-6f28-49a8-91d4-1888c4b6d86c"
        }
      },
      "outputs": [
        {
          "data": {
            "application/vnd.plotly.v1+json": {
              "config": {
                "plotlyServerURL": "https://plot.ly"
              },
              "data": [
                {
                  "alignmentgroup": "True",
                  "hovertemplate": "carbody=%{x}<br>price=%{y}<extra></extra>",
                  "legendgroup": "",
                  "marker": {
                    "color": "#636efa"
                  },
                  "name": "",
                  "notched": false,
                  "offsetgroup": "",
                  "orientation": "v",
                  "showlegend": false,
                  "type": "box",
                  "x": [
                    "convertible",
                    "convertible",
                    "hatchback",
                    "sedan",
                    "sedan",
                    "sedan",
                    "sedan",
                    "wagon",
                    "sedan",
                    "hatchback",
                    "sedan",
                    "sedan",
                    "sedan",
                    "sedan",
                    "sedan",
                    "sedan",
                    "sedan",
                    "sedan",
                    "hatchback",
                    "hatchback",
                    "sedan",
                    "hatchback",
                    "hatchback",
                    "hatchback",
                    "hatchback",
                    "sedan",
                    "sedan",
                    "sedan",
                    "wagon",
                    "hatchback",
                    "hatchback",
                    "hatchback",
                    "hatchback",
                    "hatchback",
                    "hatchback",
                    "sedan",
                    "wagon",
                    "hatchback",
                    "hatchback",
                    "sedan",
                    "sedan",
                    "sedan",
                    "sedan",
                    "sedan",
                    "sedan",
                    "sedan",
                    "hatchback",
                    "sedan",
                    "sedan",
                    "sedan",
                    "hatchback",
                    "hatchback",
                    "hatchback",
                    "sedan",
                    "sedan",
                    "hatchback",
                    "hatchback",
                    "hatchback",
                    "hatchback",
                    "hatchback",
                    "sedan",
                    "hatchback",
                    "sedan",
                    "sedan",
                    "hatchback",
                    "sedan",
                    "sedan",
                    "sedan",
                    "wagon",
                    "hardtop",
                    "sedan",
                    "sedan",
                    "convertible",
                    "sedan",
                    "hardtop",
                    "hatchback",
                    "hatchback",
                    "hatchback",
                    "hatchback",
                    "hatchback",
                    "hatchback",
                    "hatchback",
                    "hatchback",
                    "hatchback",
                    "hatchback",
                    "sedan",
                    "sedan",
                    "sedan",
                    "sedan",
                    "sedan",
                    "sedan",
                    "sedan",
                    "sedan",
                    "wagon",
                    "sedan",
                    "hatchback",
                    "sedan",
                    "wagon",
                    "hardtop",
                    "hatchback",
                    "sedan",
                    "sedan",
                    "wagon",
                    "sedan",
                    "hatchback",
                    "hatchback",
                    "hatchback",
                    "sedan",
                    "sedan",
                    "wagon",
                    "wagon",
                    "sedan",
                    "sedan",
                    "wagon",
                    "wagon",
                    "sedan",
                    "sedan",
                    "sedan",
                    "hatchback",
                    "hatchback",
                    "hatchback",
                    "sedan",
                    "sedan",
                    "wagon",
                    "hatchback",
                    "hatchback",
                    "hardtop",
                    "hardtop",
                    "convertible",
                    "hatchback",
                    "wagon",
                    "hatchback",
                    "hatchback",
                    "sedan",
                    "hatchback",
                    "sedan",
                    "hatchback",
                    "sedan",
                    "hatchback",
                    "hatchback",
                    "hatchback",
                    "sedan",
                    "sedan",
                    "sedan",
                    "sedan",
                    "sedan",
                    "wagon",
                    "wagon",
                    "wagon",
                    "wagon",
                    "hatchback",
                    "hatchback",
                    "hatchback",
                    "wagon",
                    "wagon",
                    "wagon",
                    "sedan",
                    "hatchback",
                    "sedan",
                    "hatchback",
                    "sedan",
                    "hatchback",
                    "sedan",
                    "sedan",
                    "hatchback",
                    "sedan",
                    "hatchback",
                    "hardtop",
                    "hardtop",
                    "hatchback",
                    "hardtop",
                    "hatchback",
                    "convertible",
                    "sedan",
                    "sedan",
                    "hatchback",
                    "sedan",
                    "hatchback",
                    "hatchback",
                    "hatchback",
                    "sedan",
                    "wagon",
                    "sedan",
                    "sedan",
                    "sedan",
                    "sedan",
                    "sedan",
                    "sedan",
                    "sedan",
                    "convertible",
                    "hatchback",
                    "sedan",
                    "sedan",
                    "wagon",
                    "sedan",
                    "wagon",
                    "sedan",
                    "wagon",
                    "sedan",
                    "wagon",
                    "sedan",
                    "sedan",
                    "sedan",
                    "sedan",
                    "sedan"
                  ],
                  "x0": " ",
                  "xaxis": "x",
                  "y": [
                    13495,
                    16500,
                    16500,
                    13950,
                    17450,
                    15250,
                    17710,
                    18920,
                    23875,
                    17859.167,
                    16430,
                    16925,
                    20970,
                    21105,
                    24565,
                    30760,
                    41315,
                    36880,
                    5151,
                    6295,
                    6575,
                    5572,
                    6377,
                    7957,
                    6229,
                    6692,
                    7609,
                    8558,
                    8921,
                    12964,
                    6479,
                    6855,
                    5399,
                    6529,
                    7129,
                    7295,
                    7295,
                    7895,
                    9095,
                    8845,
                    10295,
                    12945,
                    10345,
                    6785,
                    8916.5,
                    8916.5,
                    11048,
                    32250,
                    35550,
                    36000,
                    5195,
                    6095,
                    6795,
                    6695,
                    7395,
                    10945,
                    11845,
                    13645,
                    15645,
                    8845,
                    8495,
                    10595,
                    10245,
                    10795,
                    11245,
                    18280,
                    18344,
                    25552,
                    28248,
                    28176,
                    31600,
                    34184,
                    35056,
                    40960,
                    45400,
                    16503,
                    5389,
                    6189,
                    6669,
                    7689,
                    9959,
                    8499,
                    12629,
                    14869,
                    14489,
                    6989,
                    8189,
                    9279,
                    9279,
                    5499,
                    7099,
                    6649,
                    6849,
                    7349,
                    7299,
                    7799,
                    7499,
                    7999,
                    8249,
                    8949,
                    9549,
                    13499,
                    14399,
                    13499,
                    17199,
                    19699,
                    18399,
                    11900,
                    13200,
                    12440,
                    13860,
                    15580,
                    16900,
                    16695,
                    17075,
                    16630,
                    17950,
                    18150,
                    5572,
                    7957,
                    6229,
                    6692,
                    7609,
                    8921,
                    12764,
                    22018,
                    32528,
                    34028,
                    37028,
                    31400.5,
                    9295,
                    9895,
                    11850,
                    12170,
                    15040,
                    15510,
                    18150,
                    18620,
                    5118,
                    7053,
                    7603,
                    7126,
                    7775,
                    9960,
                    9233,
                    11259,
                    7463,
                    10198,
                    8013,
                    11694,
                    5348,
                    6338,
                    6488,
                    6918,
                    7898,
                    8778,
                    6938,
                    7198,
                    7898,
                    7788,
                    7738,
                    8358,
                    9258,
                    8058,
                    8238,
                    9298,
                    9538,
                    8449,
                    9639,
                    9989,
                    11199,
                    11549,
                    17669,
                    8948,
                    10698,
                    9988,
                    10898,
                    11248,
                    16558,
                    15998,
                    15690,
                    15750,
                    7775,
                    7975,
                    7995,
                    8195,
                    8495,
                    9495,
                    9995,
                    11595,
                    9980,
                    13295,
                    13845,
                    12290,
                    12940,
                    13415,
                    15985,
                    16515,
                    18420,
                    18950,
                    16845,
                    19045,
                    21485,
                    22470,
                    22625
                  ],
                  "y0": " ",
                  "yaxis": "y"
                }
              ],
              "layout": {
                "boxmode": "group",
                "legend": {
                  "tracegroupgap": 0
                },
                "template": {
                  "data": {
                    "bar": [
                      {
                        "error_x": {
                          "color": "#2a3f5f"
                        },
                        "error_y": {
                          "color": "#2a3f5f"
                        },
                        "marker": {
                          "line": {
                            "color": "#E5ECF6",
                            "width": 0.5
                          },
                          "pattern": {
                            "fillmode": "overlay",
                            "size": 10,
                            "solidity": 0.2
                          }
                        },
                        "type": "bar"
                      }
                    ],
                    "barpolar": [
                      {
                        "marker": {
                          "line": {
                            "color": "#E5ECF6",
                            "width": 0.5
                          },
                          "pattern": {
                            "fillmode": "overlay",
                            "size": 10,
                            "solidity": 0.2
                          }
                        },
                        "type": "barpolar"
                      }
                    ],
                    "carpet": [
                      {
                        "aaxis": {
                          "endlinecolor": "#2a3f5f",
                          "gridcolor": "white",
                          "linecolor": "white",
                          "minorgridcolor": "white",
                          "startlinecolor": "#2a3f5f"
                        },
                        "baxis": {
                          "endlinecolor": "#2a3f5f",
                          "gridcolor": "white",
                          "linecolor": "white",
                          "minorgridcolor": "white",
                          "startlinecolor": "#2a3f5f"
                        },
                        "type": "carpet"
                      }
                    ],
                    "choropleth": [
                      {
                        "colorbar": {
                          "outlinewidth": 0,
                          "ticks": ""
                        },
                        "type": "choropleth"
                      }
                    ],
                    "contour": [
                      {
                        "colorbar": {
                          "outlinewidth": 0,
                          "ticks": ""
                        },
                        "colorscale": [
                          [
                            0,
                            "#0d0887"
                          ],
                          [
                            0.1111111111111111,
                            "#46039f"
                          ],
                          [
                            0.2222222222222222,
                            "#7201a8"
                          ],
                          [
                            0.3333333333333333,
                            "#9c179e"
                          ],
                          [
                            0.4444444444444444,
                            "#bd3786"
                          ],
                          [
                            0.5555555555555556,
                            "#d8576b"
                          ],
                          [
                            0.6666666666666666,
                            "#ed7953"
                          ],
                          [
                            0.7777777777777778,
                            "#fb9f3a"
                          ],
                          [
                            0.8888888888888888,
                            "#fdca26"
                          ],
                          [
                            1,
                            "#f0f921"
                          ]
                        ],
                        "type": "contour"
                      }
                    ],
                    "contourcarpet": [
                      {
                        "colorbar": {
                          "outlinewidth": 0,
                          "ticks": ""
                        },
                        "type": "contourcarpet"
                      }
                    ],
                    "heatmap": [
                      {
                        "colorbar": {
                          "outlinewidth": 0,
                          "ticks": ""
                        },
                        "colorscale": [
                          [
                            0,
                            "#0d0887"
                          ],
                          [
                            0.1111111111111111,
                            "#46039f"
                          ],
                          [
                            0.2222222222222222,
                            "#7201a8"
                          ],
                          [
                            0.3333333333333333,
                            "#9c179e"
                          ],
                          [
                            0.4444444444444444,
                            "#bd3786"
                          ],
                          [
                            0.5555555555555556,
                            "#d8576b"
                          ],
                          [
                            0.6666666666666666,
                            "#ed7953"
                          ],
                          [
                            0.7777777777777778,
                            "#fb9f3a"
                          ],
                          [
                            0.8888888888888888,
                            "#fdca26"
                          ],
                          [
                            1,
                            "#f0f921"
                          ]
                        ],
                        "type": "heatmap"
                      }
                    ],
                    "heatmapgl": [
                      {
                        "colorbar": {
                          "outlinewidth": 0,
                          "ticks": ""
                        },
                        "colorscale": [
                          [
                            0,
                            "#0d0887"
                          ],
                          [
                            0.1111111111111111,
                            "#46039f"
                          ],
                          [
                            0.2222222222222222,
                            "#7201a8"
                          ],
                          [
                            0.3333333333333333,
                            "#9c179e"
                          ],
                          [
                            0.4444444444444444,
                            "#bd3786"
                          ],
                          [
                            0.5555555555555556,
                            "#d8576b"
                          ],
                          [
                            0.6666666666666666,
                            "#ed7953"
                          ],
                          [
                            0.7777777777777778,
                            "#fb9f3a"
                          ],
                          [
                            0.8888888888888888,
                            "#fdca26"
                          ],
                          [
                            1,
                            "#f0f921"
                          ]
                        ],
                        "type": "heatmapgl"
                      }
                    ],
                    "histogram": [
                      {
                        "marker": {
                          "pattern": {
                            "fillmode": "overlay",
                            "size": 10,
                            "solidity": 0.2
                          }
                        },
                        "type": "histogram"
                      }
                    ],
                    "histogram2d": [
                      {
                        "colorbar": {
                          "outlinewidth": 0,
                          "ticks": ""
                        },
                        "colorscale": [
                          [
                            0,
                            "#0d0887"
                          ],
                          [
                            0.1111111111111111,
                            "#46039f"
                          ],
                          [
                            0.2222222222222222,
                            "#7201a8"
                          ],
                          [
                            0.3333333333333333,
                            "#9c179e"
                          ],
                          [
                            0.4444444444444444,
                            "#bd3786"
                          ],
                          [
                            0.5555555555555556,
                            "#d8576b"
                          ],
                          [
                            0.6666666666666666,
                            "#ed7953"
                          ],
                          [
                            0.7777777777777778,
                            "#fb9f3a"
                          ],
                          [
                            0.8888888888888888,
                            "#fdca26"
                          ],
                          [
                            1,
                            "#f0f921"
                          ]
                        ],
                        "type": "histogram2d"
                      }
                    ],
                    "histogram2dcontour": [
                      {
                        "colorbar": {
                          "outlinewidth": 0,
                          "ticks": ""
                        },
                        "colorscale": [
                          [
                            0,
                            "#0d0887"
                          ],
                          [
                            0.1111111111111111,
                            "#46039f"
                          ],
                          [
                            0.2222222222222222,
                            "#7201a8"
                          ],
                          [
                            0.3333333333333333,
                            "#9c179e"
                          ],
                          [
                            0.4444444444444444,
                            "#bd3786"
                          ],
                          [
                            0.5555555555555556,
                            "#d8576b"
                          ],
                          [
                            0.6666666666666666,
                            "#ed7953"
                          ],
                          [
                            0.7777777777777778,
                            "#fb9f3a"
                          ],
                          [
                            0.8888888888888888,
                            "#fdca26"
                          ],
                          [
                            1,
                            "#f0f921"
                          ]
                        ],
                        "type": "histogram2dcontour"
                      }
                    ],
                    "mesh3d": [
                      {
                        "colorbar": {
                          "outlinewidth": 0,
                          "ticks": ""
                        },
                        "type": "mesh3d"
                      }
                    ],
                    "parcoords": [
                      {
                        "line": {
                          "colorbar": {
                            "outlinewidth": 0,
                            "ticks": ""
                          }
                        },
                        "type": "parcoords"
                      }
                    ],
                    "pie": [
                      {
                        "automargin": true,
                        "type": "pie"
                      }
                    ],
                    "scatter": [
                      {
                        "fillpattern": {
                          "fillmode": "overlay",
                          "size": 10,
                          "solidity": 0.2
                        },
                        "type": "scatter"
                      }
                    ],
                    "scatter3d": [
                      {
                        "line": {
                          "colorbar": {
                            "outlinewidth": 0,
                            "ticks": ""
                          }
                        },
                        "marker": {
                          "colorbar": {
                            "outlinewidth": 0,
                            "ticks": ""
                          }
                        },
                        "type": "scatter3d"
                      }
                    ],
                    "scattercarpet": [
                      {
                        "marker": {
                          "colorbar": {
                            "outlinewidth": 0,
                            "ticks": ""
                          }
                        },
                        "type": "scattercarpet"
                      }
                    ],
                    "scattergeo": [
                      {
                        "marker": {
                          "colorbar": {
                            "outlinewidth": 0,
                            "ticks": ""
                          }
                        },
                        "type": "scattergeo"
                      }
                    ],
                    "scattergl": [
                      {
                        "marker": {
                          "colorbar": {
                            "outlinewidth": 0,
                            "ticks": ""
                          }
                        },
                        "type": "scattergl"
                      }
                    ],
                    "scattermapbox": [
                      {
                        "marker": {
                          "colorbar": {
                            "outlinewidth": 0,
                            "ticks": ""
                          }
                        },
                        "type": "scattermapbox"
                      }
                    ],
                    "scatterpolar": [
                      {
                        "marker": {
                          "colorbar": {
                            "outlinewidth": 0,
                            "ticks": ""
                          }
                        },
                        "type": "scatterpolar"
                      }
                    ],
                    "scatterpolargl": [
                      {
                        "marker": {
                          "colorbar": {
                            "outlinewidth": 0,
                            "ticks": ""
                          }
                        },
                        "type": "scatterpolargl"
                      }
                    ],
                    "scatterternary": [
                      {
                        "marker": {
                          "colorbar": {
                            "outlinewidth": 0,
                            "ticks": ""
                          }
                        },
                        "type": "scatterternary"
                      }
                    ],
                    "surface": [
                      {
                        "colorbar": {
                          "outlinewidth": 0,
                          "ticks": ""
                        },
                        "colorscale": [
                          [
                            0,
                            "#0d0887"
                          ],
                          [
                            0.1111111111111111,
                            "#46039f"
                          ],
                          [
                            0.2222222222222222,
                            "#7201a8"
                          ],
                          [
                            0.3333333333333333,
                            "#9c179e"
                          ],
                          [
                            0.4444444444444444,
                            "#bd3786"
                          ],
                          [
                            0.5555555555555556,
                            "#d8576b"
                          ],
                          [
                            0.6666666666666666,
                            "#ed7953"
                          ],
                          [
                            0.7777777777777778,
                            "#fb9f3a"
                          ],
                          [
                            0.8888888888888888,
                            "#fdca26"
                          ],
                          [
                            1,
                            "#f0f921"
                          ]
                        ],
                        "type": "surface"
                      }
                    ],
                    "table": [
                      {
                        "cells": {
                          "fill": {
                            "color": "#EBF0F8"
                          },
                          "line": {
                            "color": "white"
                          }
                        },
                        "header": {
                          "fill": {
                            "color": "#C8D4E3"
                          },
                          "line": {
                            "color": "white"
                          }
                        },
                        "type": "table"
                      }
                    ]
                  },
                  "layout": {
                    "annotationdefaults": {
                      "arrowcolor": "#2a3f5f",
                      "arrowhead": 0,
                      "arrowwidth": 1
                    },
                    "autotypenumbers": "strict",
                    "coloraxis": {
                      "colorbar": {
                        "outlinewidth": 0,
                        "ticks": ""
                      }
                    },
                    "colorscale": {
                      "diverging": [
                        [
                          0,
                          "#8e0152"
                        ],
                        [
                          0.1,
                          "#c51b7d"
                        ],
                        [
                          0.2,
                          "#de77ae"
                        ],
                        [
                          0.3,
                          "#f1b6da"
                        ],
                        [
                          0.4,
                          "#fde0ef"
                        ],
                        [
                          0.5,
                          "#f7f7f7"
                        ],
                        [
                          0.6,
                          "#e6f5d0"
                        ],
                        [
                          0.7,
                          "#b8e186"
                        ],
                        [
                          0.8,
                          "#7fbc41"
                        ],
                        [
                          0.9,
                          "#4d9221"
                        ],
                        [
                          1,
                          "#276419"
                        ]
                      ],
                      "sequential": [
                        [
                          0,
                          "#0d0887"
                        ],
                        [
                          0.1111111111111111,
                          "#46039f"
                        ],
                        [
                          0.2222222222222222,
                          "#7201a8"
                        ],
                        [
                          0.3333333333333333,
                          "#9c179e"
                        ],
                        [
                          0.4444444444444444,
                          "#bd3786"
                        ],
                        [
                          0.5555555555555556,
                          "#d8576b"
                        ],
                        [
                          0.6666666666666666,
                          "#ed7953"
                        ],
                        [
                          0.7777777777777778,
                          "#fb9f3a"
                        ],
                        [
                          0.8888888888888888,
                          "#fdca26"
                        ],
                        [
                          1,
                          "#f0f921"
                        ]
                      ],
                      "sequentialminus": [
                        [
                          0,
                          "#0d0887"
                        ],
                        [
                          0.1111111111111111,
                          "#46039f"
                        ],
                        [
                          0.2222222222222222,
                          "#7201a8"
                        ],
                        [
                          0.3333333333333333,
                          "#9c179e"
                        ],
                        [
                          0.4444444444444444,
                          "#bd3786"
                        ],
                        [
                          0.5555555555555556,
                          "#d8576b"
                        ],
                        [
                          0.6666666666666666,
                          "#ed7953"
                        ],
                        [
                          0.7777777777777778,
                          "#fb9f3a"
                        ],
                        [
                          0.8888888888888888,
                          "#fdca26"
                        ],
                        [
                          1,
                          "#f0f921"
                        ]
                      ]
                    },
                    "colorway": [
                      "#636efa",
                      "#EF553B",
                      "#00cc96",
                      "#ab63fa",
                      "#FFA15A",
                      "#19d3f3",
                      "#FF6692",
                      "#B6E880",
                      "#FF97FF",
                      "#FECB52"
                    ],
                    "font": {
                      "color": "#2a3f5f"
                    },
                    "geo": {
                      "bgcolor": "white",
                      "lakecolor": "white",
                      "landcolor": "#E5ECF6",
                      "showlakes": true,
                      "showland": true,
                      "subunitcolor": "white"
                    },
                    "hoverlabel": {
                      "align": "left"
                    },
                    "hovermode": "closest",
                    "mapbox": {
                      "style": "light"
                    },
                    "paper_bgcolor": "white",
                    "plot_bgcolor": "#E5ECF6",
                    "polar": {
                      "angularaxis": {
                        "gridcolor": "white",
                        "linecolor": "white",
                        "ticks": ""
                      },
                      "bgcolor": "#E5ECF6",
                      "radialaxis": {
                        "gridcolor": "white",
                        "linecolor": "white",
                        "ticks": ""
                      }
                    },
                    "scene": {
                      "xaxis": {
                        "backgroundcolor": "#E5ECF6",
                        "gridcolor": "white",
                        "gridwidth": 2,
                        "linecolor": "white",
                        "showbackground": true,
                        "ticks": "",
                        "zerolinecolor": "white"
                      },
                      "yaxis": {
                        "backgroundcolor": "#E5ECF6",
                        "gridcolor": "white",
                        "gridwidth": 2,
                        "linecolor": "white",
                        "showbackground": true,
                        "ticks": "",
                        "zerolinecolor": "white"
                      },
                      "zaxis": {
                        "backgroundcolor": "#E5ECF6",
                        "gridcolor": "white",
                        "gridwidth": 2,
                        "linecolor": "white",
                        "showbackground": true,
                        "ticks": "",
                        "zerolinecolor": "white"
                      }
                    },
                    "shapedefaults": {
                      "line": {
                        "color": "#2a3f5f"
                      }
                    },
                    "ternary": {
                      "aaxis": {
                        "gridcolor": "white",
                        "linecolor": "white",
                        "ticks": ""
                      },
                      "baxis": {
                        "gridcolor": "white",
                        "linecolor": "white",
                        "ticks": ""
                      },
                      "bgcolor": "#E5ECF6",
                      "caxis": {
                        "gridcolor": "white",
                        "linecolor": "white",
                        "ticks": ""
                      }
                    },
                    "title": {
                      "x": 0.05
                    },
                    "xaxis": {
                      "automargin": true,
                      "gridcolor": "white",
                      "linecolor": "white",
                      "ticks": "",
                      "title": {
                        "standoff": 15
                      },
                      "zerolinecolor": "white",
                      "zerolinewidth": 2
                    },
                    "yaxis": {
                      "automargin": true,
                      "gridcolor": "white",
                      "linecolor": "white",
                      "ticks": "",
                      "title": {
                        "standoff": 15
                      },
                      "zerolinecolor": "white",
                      "zerolinewidth": 2
                    }
                  }
                },
                "title": {
                  "text": "Body Style vs Price"
                },
                "xaxis": {
                  "anchor": "y",
                  "domain": [
                    0,
                    1
                  ],
                  "title": {
                    "text": "carbody"
                  }
                },
                "yaxis": {
                  "anchor": "x",
                  "domain": [
                    0,
                    1
                  ],
                  "title": {
                    "text": "price"
                  }
                }
              }
            }
          },
          "metadata": {},
          "output_type": "display_data"
        }
      ],
      "source": [
        "fig = px.box(df, x='carbody', y='price', title='Body Style vs Price')\n",
        "fig.show()"
      ]
    },
    {
      "attachments": {},
      "cell_type": "markdown",
      "id": "52507c8d-6503-493e-863c-8d1d7734335d",
      "metadata": {
        "noteable": {
          "cell_type": "markdown"
        }
      },
      "source": [
        "## Inferences from the Plots\n",
        "\n",
        "1. **Engine Size vs Price**: There is a positive correlation between engine size and price. As the engine size increases, the price of the car also tends to increase. This suggests that cars with larger engines are generally more expensive.\n",
        "\n",
        "2. **Horsepower vs Price**: Similar to engine size, there is a positive correlation between horsepower and price. Cars with higher horsepower are generally more expensive. This is expected as high-performance cars with more horsepower are usually priced higher.\n",
        "\n",
        "3. **Curb Weight vs Price**: There is a positive correlation between the curb weight of a car and its price. Heavier cars, which are often larger and have more features, tend to be more expensive.\n",
        "\n",
        "4. **Fuel Type vs Price**: The box plot shows that diesel cars are generally more expensive than gas cars. However, there is a significant overlap in the price ranges of the two types of cars.\n",
        "\n",
        "5. **Aspiration vs Price**: Turbo cars tend to be more expensive than standard cars, but there is a significant overlap in the price ranges of the two types of cars.\n",
        "\n",
        "6. **Body Style vs Price**: The price range varies significantly among different body styles. Convertible and hardtop cars tend to be more expensive, while hatchback cars are generally less expensive. Sedan and wagon cars fall in the middle of the price range.\n",
        "\n",
        "These observations suggest that engine size, horsepower, and curb weight are strong predictors of car price. Fuel type, aspiration, and body style may also influence the price, but the relationships are not as strong."
      ]
    },
    {
      "cell_type": "code",
      "execution_count": 10,
      "id": "25f749fe-9da7-4132-bc50-7a6377f58c5e",
      "metadata": {
        "ExecuteTime": {
          "end_time": "2023-06-24T07:21:16.027022+00:00",
          "start_time": "2023-06-24T07:21:15.688121+00:00"
        },
        "noteable": {
          "cell_type": "code",
          "output_collection_id": "5a9928c0-5b69-4d25-a408-144046e5dcaf"
        },
        "scrolled": true
      },
      "outputs": [
        {
          "data": {
            "application/vnd.plotly.v1+json": {
              "config": {
                "plotlyServerURL": "https://plot.ly"
              },
              "data": [
                {
                  "mode": "markers",
                  "name": "Actual Price",
                  "type": "scatter3d",
                  "x": [
                    130,
                    130,
                    152,
                    109,
                    136,
                    136,
                    136,
                    136,
                    131,
                    131,
                    108,
                    108,
                    164,
                    164,
                    164,
                    209,
                    209,
                    209,
                    61,
                    90,
                    90,
                    90,
                    90,
                    98,
                    90,
                    90,
                    90,
                    98,
                    122,
                    156,
                    92,
                    92,
                    79,
                    92,
                    92,
                    92,
                    92,
                    110,
                    110,
                    110,
                    110,
                    110,
                    110,
                    111,
                    90,
                    90,
                    119,
                    258,
                    258,
                    326,
                    91,
                    91,
                    91,
                    91,
                    91,
                    70,
                    70,
                    70,
                    80,
                    122,
                    122,
                    122,
                    122,
                    122,
                    122,
                    140,
                    134,
                    183,
                    183,
                    183,
                    183,
                    234,
                    234,
                    308,
                    304,
                    140,
                    92,
                    92,
                    92,
                    98,
                    110,
                    122,
                    156,
                    156,
                    156,
                    122,
                    122,
                    110,
                    110,
                    97,
                    103,
                    97,
                    97,
                    97,
                    97,
                    97,
                    97,
                    97,
                    97,
                    120,
                    120,
                    181,
                    181,
                    181,
                    181,
                    181,
                    181,
                    120,
                    152,
                    120,
                    152,
                    120,
                    152,
                    120,
                    152,
                    120,
                    152,
                    134,
                    90,
                    98,
                    90,
                    90,
                    98,
                    122,
                    156,
                    151,
                    194,
                    194,
                    194,
                    203,
                    132,
                    132,
                    121,
                    121,
                    121,
                    121,
                    121,
                    121,
                    97,
                    108,
                    108,
                    108,
                    108,
                    108,
                    108,
                    108,
                    108,
                    108,
                    108,
                    108,
                    92,
                    92,
                    92,
                    92,
                    92,
                    92,
                    98,
                    98,
                    110,
                    110,
                    98,
                    98,
                    98,
                    98,
                    98,
                    98,
                    98,
                    146,
                    146,
                    146,
                    146,
                    146,
                    146,
                    122,
                    110,
                    122,
                    122,
                    122,
                    171,
                    171,
                    171,
                    161,
                    97,
                    109,
                    97,
                    109,
                    109,
                    97,
                    109,
                    109,
                    109,
                    136,
                    97,
                    109,
                    141,
                    141,
                    141,
                    141,
                    130,
                    130,
                    141,
                    141,
                    173,
                    145,
                    141
                  ],
                  "y": [
                    111,
                    111,
                    154,
                    102,
                    115,
                    110,
                    110,
                    110,
                    140,
                    160,
                    101,
                    101,
                    121,
                    121,
                    121,
                    182,
                    182,
                    182,
                    48,
                    70,
                    70,
                    68,
                    68,
                    102,
                    68,
                    68,
                    68,
                    102,
                    88,
                    145,
                    58,
                    76,
                    60,
                    76,
                    76,
                    76,
                    76,
                    86,
                    86,
                    86,
                    86,
                    101,
                    100,
                    78,
                    70,
                    70,
                    90,
                    176,
                    176,
                    262,
                    68,
                    68,
                    68,
                    68,
                    68,
                    101,
                    101,
                    101,
                    135,
                    84,
                    84,
                    84,
                    84,
                    64,
                    84,
                    120,
                    72,
                    123,
                    123,
                    123,
                    123,
                    155,
                    155,
                    184,
                    184,
                    175,
                    68,
                    68,
                    68,
                    102,
                    116,
                    88,
                    145,
                    145,
                    145,
                    88,
                    88,
                    116,
                    116,
                    69,
                    55,
                    69,
                    69,
                    69,
                    69,
                    69,
                    69,
                    69,
                    69,
                    97,
                    97,
                    152,
                    152,
                    152,
                    160,
                    200,
                    160,
                    97,
                    95,
                    97,
                    95,
                    95,
                    95,
                    95,
                    95,
                    97,
                    95,
                    142,
                    68,
                    102,
                    68,
                    68,
                    68,
                    88,
                    145,
                    143,
                    207,
                    207,
                    207,
                    288,
                    90,
                    90,
                    110,
                    110,
                    110,
                    110,
                    160,
                    160,
                    69,
                    73,
                    73,
                    82,
                    82,
                    94,
                    82,
                    111,
                    82,
                    94,
                    82,
                    111,
                    62,
                    62,
                    62,
                    62,
                    62,
                    62,
                    70,
                    70,
                    56,
                    56,
                    70,
                    70,
                    70,
                    70,
                    70,
                    112,
                    112,
                    116,
                    116,
                    116,
                    116,
                    116,
                    116,
                    92,
                    73,
                    92,
                    92,
                    92,
                    161,
                    161,
                    156,
                    156,
                    52,
                    85,
                    52,
                    85,
                    85,
                    68,
                    100,
                    90,
                    90,
                    110,
                    68,
                    88,
                    114,
                    114,
                    114,
                    114,
                    162,
                    162,
                    114,
                    160,
                    134,
                    106,
                    114
                  ],
                  "z": [
                    13495,
                    16500,
                    16500,
                    13950,
                    17450,
                    15250,
                    17710,
                    18920,
                    23875,
                    17859.167,
                    16430,
                    16925,
                    20970,
                    21105,
                    24565,
                    30760,
                    41315,
                    36880,
                    5151,
                    6295,
                    6575,
                    5572,
                    6377,
                    7957,
                    6229,
                    6692,
                    7609,
                    8558,
                    8921,
                    12964,
                    6479,
                    6855,
                    5399,
                    6529,
                    7129,
                    7295,
                    7295,
                    7895,
                    9095,
                    8845,
                    10295,
                    12945,
                    10345,
                    6785,
                    8916.5,
                    8916.5,
                    11048,
                    32250,
                    35550,
                    36000,
                    5195,
                    6095,
                    6795,
                    6695,
                    7395,
                    10945,
                    11845,
                    13645,
                    15645,
                    8845,
                    8495,
                    10595,
                    10245,
                    10795,
                    11245,
                    18280,
                    18344,
                    25552,
                    28248,
                    28176,
                    31600,
                    34184,
                    35056,
                    40960,
                    45400,
                    16503,
                    5389,
                    6189,
                    6669,
                    7689,
                    9959,
                    8499,
                    12629,
                    14869,
                    14489,
                    6989,
                    8189,
                    9279,
                    9279,
                    5499,
                    7099,
                    6649,
                    6849,
                    7349,
                    7299,
                    7799,
                    7499,
                    7999,
                    8249,
                    8949,
                    9549,
                    13499,
                    14399,
                    13499,
                    17199,
                    19699,
                    18399,
                    11900,
                    13200,
                    12440,
                    13860,
                    15580,
                    16900,
                    16695,
                    17075,
                    16630,
                    17950,
                    18150,
                    5572,
                    7957,
                    6229,
                    6692,
                    7609,
                    8921,
                    12764,
                    22018,
                    32528,
                    34028,
                    37028,
                    31400.5,
                    9295,
                    9895,
                    11850,
                    12170,
                    15040,
                    15510,
                    18150,
                    18620,
                    5118,
                    7053,
                    7603,
                    7126,
                    7775,
                    9960,
                    9233,
                    11259,
                    7463,
                    10198,
                    8013,
                    11694,
                    5348,
                    6338,
                    6488,
                    6918,
                    7898,
                    8778,
                    6938,
                    7198,
                    7898,
                    7788,
                    7738,
                    8358,
                    9258,
                    8058,
                    8238,
                    9298,
                    9538,
                    8449,
                    9639,
                    9989,
                    11199,
                    11549,
                    17669,
                    8948,
                    10698,
                    9988,
                    10898,
                    11248,
                    16558,
                    15998,
                    15690,
                    15750,
                    7775,
                    7975,
                    7995,
                    8195,
                    8495,
                    9495,
                    9995,
                    11595,
                    9980,
                    13295,
                    13845,
                    12290,
                    12940,
                    13415,
                    15985,
                    16515,
                    18420,
                    18950,
                    16845,
                    19045,
                    21485,
                    22470,
                    22625
                  ]
                },
                {
                  "mode": "markers",
                  "name": "Predicted Price",
                  "type": "scatter3d",
                  "x": [
                    130,
                    130,
                    152,
                    109,
                    136,
                    136,
                    136,
                    136,
                    131,
                    131,
                    108,
                    108,
                    164,
                    164,
                    164,
                    209,
                    209,
                    209,
                    61,
                    90,
                    90,
                    90,
                    90,
                    98,
                    90,
                    90,
                    90,
                    98,
                    122,
                    156,
                    92,
                    92,
                    79,
                    92,
                    92,
                    92,
                    92,
                    110,
                    110,
                    110,
                    110,
                    110,
                    110,
                    111,
                    90,
                    90,
                    119,
                    258,
                    258,
                    326,
                    91,
                    91,
                    91,
                    91,
                    91,
                    70,
                    70,
                    70,
                    80,
                    122,
                    122,
                    122,
                    122,
                    122,
                    122,
                    140,
                    134,
                    183,
                    183,
                    183,
                    183,
                    234,
                    234,
                    308,
                    304,
                    140,
                    92,
                    92,
                    92,
                    98,
                    110,
                    122,
                    156,
                    156,
                    156,
                    122,
                    122,
                    110,
                    110,
                    97,
                    103,
                    97,
                    97,
                    97,
                    97,
                    97,
                    97,
                    97,
                    97,
                    120,
                    120,
                    181,
                    181,
                    181,
                    181,
                    181,
                    181,
                    120,
                    152,
                    120,
                    152,
                    120,
                    152,
                    120,
                    152,
                    120,
                    152,
                    134,
                    90,
                    98,
                    90,
                    90,
                    98,
                    122,
                    156,
                    151,
                    194,
                    194,
                    194,
                    203,
                    132,
                    132,
                    121,
                    121,
                    121,
                    121,
                    121,
                    121,
                    97,
                    108,
                    108,
                    108,
                    108,
                    108,
                    108,
                    108,
                    108,
                    108,
                    108,
                    108,
                    92,
                    92,
                    92,
                    92,
                    92,
                    92,
                    98,
                    98,
                    110,
                    110,
                    98,
                    98,
                    98,
                    98,
                    98,
                    98,
                    98,
                    146,
                    146,
                    146,
                    146,
                    146,
                    146,
                    122,
                    110,
                    122,
                    122,
                    122,
                    171,
                    171,
                    171,
                    161,
                    97,
                    109,
                    97,
                    109,
                    109,
                    97,
                    109,
                    109,
                    109,
                    136,
                    97,
                    109,
                    141,
                    141,
                    141,
                    141,
                    130,
                    130,
                    141,
                    141,
                    173,
                    145,
                    141
                  ],
                  "y": [
                    111,
                    111,
                    154,
                    102,
                    115,
                    110,
                    110,
                    110,
                    140,
                    160,
                    101,
                    101,
                    121,
                    121,
                    121,
                    182,
                    182,
                    182,
                    48,
                    70,
                    70,
                    68,
                    68,
                    102,
                    68,
                    68,
                    68,
                    102,
                    88,
                    145,
                    58,
                    76,
                    60,
                    76,
                    76,
                    76,
                    76,
                    86,
                    86,
                    86,
                    86,
                    101,
                    100,
                    78,
                    70,
                    70,
                    90,
                    176,
                    176,
                    262,
                    68,
                    68,
                    68,
                    68,
                    68,
                    101,
                    101,
                    101,
                    135,
                    84,
                    84,
                    84,
                    84,
                    64,
                    84,
                    120,
                    72,
                    123,
                    123,
                    123,
                    123,
                    155,
                    155,
                    184,
                    184,
                    175,
                    68,
                    68,
                    68,
                    102,
                    116,
                    88,
                    145,
                    145,
                    145,
                    88,
                    88,
                    116,
                    116,
                    69,
                    55,
                    69,
                    69,
                    69,
                    69,
                    69,
                    69,
                    69,
                    69,
                    97,
                    97,
                    152,
                    152,
                    152,
                    160,
                    200,
                    160,
                    97,
                    95,
                    97,
                    95,
                    95,
                    95,
                    95,
                    95,
                    97,
                    95,
                    142,
                    68,
                    102,
                    68,
                    68,
                    68,
                    88,
                    145,
                    143,
                    207,
                    207,
                    207,
                    288,
                    90,
                    90,
                    110,
                    110,
                    110,
                    110,
                    160,
                    160,
                    69,
                    73,
                    73,
                    82,
                    82,
                    94,
                    82,
                    111,
                    82,
                    94,
                    82,
                    111,
                    62,
                    62,
                    62,
                    62,
                    62,
                    62,
                    70,
                    70,
                    56,
                    56,
                    70,
                    70,
                    70,
                    70,
                    70,
                    112,
                    112,
                    116,
                    116,
                    116,
                    116,
                    116,
                    116,
                    92,
                    73,
                    92,
                    92,
                    92,
                    161,
                    161,
                    156,
                    156,
                    52,
                    85,
                    52,
                    85,
                    85,
                    68,
                    100,
                    90,
                    90,
                    110,
                    68,
                    88,
                    114,
                    114,
                    114,
                    114,
                    162,
                    162,
                    114,
                    160,
                    134,
                    106,
                    114
                  ],
                  "z": [
                    14060.442865882193,
                    14060.442865882193,
                    19284.71636276037,
                    10959.42872403386,
                    15030.51465172696,
                    14736.277543118602,
                    14736.277543118602,
                    14736.277543118602,
                    15889.465112303678,
                    17066.41354673711,
                    10778.134285819175,
                    10778.134285819175,
                    18812.11564386137,
                    18812.11564386137,
                    18812.11564386137,
                    27911.924111068955,
                    27911.924111068955,
                    27911.924111068955,
                    1904.2111593989393,
                    6749.817915573109,
                    6749.817915573109,
                    6632.123072129767,
                    6632.123072129767,
                    9612.511542610708,
                    6632.123072129767,
                    6632.123072129767,
                    6632.123072129767,
                    9612.511542610708,
                    11727.376034339635,
                    19244.87763323738,
                    6288.542887899079,
                    7347.796478889166,
                    4814.426516933243,
                    7347.796478889166,
                    7347.796478889166,
                    7347.796478889166,
                    7347.796478889166,
                    10140.31699298013,
                    10140.31699298013,
                    10140.31699298013,
                    10140.31699298013,
                    11023.028318805202,
                    10964.18089708353,
                    9791.98463569977,
                    6749.817915573109,
                    6749.817915573109,
                    11477.729828303938,
                    33558.7433888966,
                    33558.7433888966,
                    46946.018778485275,
                    6754.5700886227805,
                    6754.5700886227805,
                    6754.5700886227805,
                    6754.5700886227805,
                    6754.5700886227805,
                    6125.147659084654,
                    6125.147659084654,
                    6125.147659084654,
                    9350.430162551624,
                    11491.986347452948,
                    11491.986347452948,
                    11491.986347452948,
                    11491.986347452948,
                    10315.037913019518,
                    11491.986347452948,
                    15814.539826307373,
                    12255.181484709057,
                    21256.303800671973,
                    21256.303800671973,
                    21256.303800671973,
                    21256.303800671973,
                    29384.219136909167,
                    29384.219136909167,
                    40151.87358732065,
                    39662.0855213486,
                    19051.148020999306,
                    6877.017105115794,
                    6877.017105115794,
                    6877.017105115794,
                    9612.511542610708,
                    11905.739644630274,
                    11727.376034339635,
                    19244.87763323738,
                    19244.87763323738,
                    19244.87763323738,
                    11727.376034339635,
                    11727.376034339635,
                    11905.739644630274,
                    11905.739644630274,
                    7548.099609302535,
                    7458.917804157214,
                    7548.099609302535,
                    7548.099609302535,
                    7548.099609302535,
                    7548.099609302535,
                    7548.099609302535,
                    7548.099609302535,
                    7548.099609302535,
                    7548.099609302535,
                    12012.108796848654,
                    12012.108796848654,
                    22717.98499761442,
                    22717.98499761442,
                    22717.98499761442,
                    23188.764371387795,
                    25542.661240254653,
                    23188.764371387795,
                    12012.108796848654,
                    15812.71848118175,
                    12012.108796848654,
                    15812.71848118175,
                    11894.41395340531,
                    15812.71848118175,
                    11894.41395340531,
                    15812.71848118175,
                    12012.108796848654,
                    15812.71848118175,
                    16374.501005226062,
                    6632.123072129767,
                    9612.511542610708,
                    6632.123072129767,
                    6632.123072129767,
                    7611.699204073877,
                    11727.376034339635,
                    19244.87763323738,
                    18514.947707328967,
                    27546.404406715534,
                    27546.404406715534,
                    27546.404406715534,
                    33415.06871460805,
                    13069.541042713114,
                    13069.541042713114,
                    12899.572295723396,
                    12899.572295723396,
                    12899.572295723396,
                    12899.572295723396,
                    15841.943381806974,
                    15841.943381806974,
                    7548.099609302535,
                    9130.40647761237,
                    9130.40647761237,
                    9660.033273107416,
                    9660.033273107416,
                    10366.202333767473,
                    9660.033273107416,
                    11366.608503035888,
                    9660.033273107416,
                    10366.202333767473,
                    9660.033273107416,
                    11366.608503035888,
                    6523.932574785766,
                    6523.932574785766,
                    6523.932574785766,
                    6523.932574785766,
                    6523.932574785766,
                    6523.932574785766,
                    7729.39404751722,
                    7729.39404751722,
                    8374.894341329982,
                    8374.894341329982,
                    7729.39404751722,
                    7729.39404751722,
                    7729.39404751722,
                    7729.39404751722,
                    7729.39404751722,
                    10200.985759827425,
                    10200.985759827425,
                    16313.832238378767,
                    16313.832238378767,
                    16313.832238378767,
                    16313.832238378767,
                    16313.832238378767,
                    16313.832238378767,
                    11962.765721226322,
                    9375.300510598398,
                    11962.765721226322,
                    11962.765721226322,
                    11962.765721226322,
                    22023.14162817933,
                    22023.14162817933,
                    21728.904519570973,
                    20504.434354640834,
                    6547.693440034118,
                    9959.022554765445,
                    6547.693440034118,
                    9959.022554765445,
                    9959.022554765445,
                    7489.252187580863,
                    10841.733880590516,
                    10253.2596633738,
                    10253.2596633738,
                    14736.277543118602,
                    7489.252187580863,
                    10135.564819930456,
                    15583.902312470356,
                    15583.902312470356,
                    15583.902312470356,
                    15583.902312470356,
                    17061.66137368744,
                    17061.66137368744,
                    15583.902312470356,
                    18290.883711667248,
                    20679.155274680226,
                    15602.911004669037,
                    15583.902312470356
                  ]
                }
              ],
              "layout": {
                "scene": {
                  "xaxis": {
                    "title": {
                      "text": "Engine Size"
                    }
                  },
                  "yaxis": {
                    "title": {
                      "text": "Horsepower"
                    }
                  },
                  "zaxis": {
                    "title": {
                      "text": "Price"
                    }
                  }
                },
                "template": {
                  "data": {
                    "bar": [
                      {
                        "error_x": {
                          "color": "#2a3f5f"
                        },
                        "error_y": {
                          "color": "#2a3f5f"
                        },
                        "marker": {
                          "line": {
                            "color": "#E5ECF6",
                            "width": 0.5
                          },
                          "pattern": {
                            "fillmode": "overlay",
                            "size": 10,
                            "solidity": 0.2
                          }
                        },
                        "type": "bar"
                      }
                    ],
                    "barpolar": [
                      {
                        "marker": {
                          "line": {
                            "color": "#E5ECF6",
                            "width": 0.5
                          },
                          "pattern": {
                            "fillmode": "overlay",
                            "size": 10,
                            "solidity": 0.2
                          }
                        },
                        "type": "barpolar"
                      }
                    ],
                    "carpet": [
                      {
                        "aaxis": {
                          "endlinecolor": "#2a3f5f",
                          "gridcolor": "white",
                          "linecolor": "white",
                          "minorgridcolor": "white",
                          "startlinecolor": "#2a3f5f"
                        },
                        "baxis": {
                          "endlinecolor": "#2a3f5f",
                          "gridcolor": "white",
                          "linecolor": "white",
                          "minorgridcolor": "white",
                          "startlinecolor": "#2a3f5f"
                        },
                        "type": "carpet"
                      }
                    ],
                    "choropleth": [
                      {
                        "colorbar": {
                          "outlinewidth": 0,
                          "ticks": ""
                        },
                        "type": "choropleth"
                      }
                    ],
                    "contour": [
                      {
                        "colorbar": {
                          "outlinewidth": 0,
                          "ticks": ""
                        },
                        "colorscale": [
                          [
                            0,
                            "#0d0887"
                          ],
                          [
                            0.1111111111111111,
                            "#46039f"
                          ],
                          [
                            0.2222222222222222,
                            "#7201a8"
                          ],
                          [
                            0.3333333333333333,
                            "#9c179e"
                          ],
                          [
                            0.4444444444444444,
                            "#bd3786"
                          ],
                          [
                            0.5555555555555556,
                            "#d8576b"
                          ],
                          [
                            0.6666666666666666,
                            "#ed7953"
                          ],
                          [
                            0.7777777777777778,
                            "#fb9f3a"
                          ],
                          [
                            0.8888888888888888,
                            "#fdca26"
                          ],
                          [
                            1,
                            "#f0f921"
                          ]
                        ],
                        "type": "contour"
                      }
                    ],
                    "contourcarpet": [
                      {
                        "colorbar": {
                          "outlinewidth": 0,
                          "ticks": ""
                        },
                        "type": "contourcarpet"
                      }
                    ],
                    "heatmap": [
                      {
                        "colorbar": {
                          "outlinewidth": 0,
                          "ticks": ""
                        },
                        "colorscale": [
                          [
                            0,
                            "#0d0887"
                          ],
                          [
                            0.1111111111111111,
                            "#46039f"
                          ],
                          [
                            0.2222222222222222,
                            "#7201a8"
                          ],
                          [
                            0.3333333333333333,
                            "#9c179e"
                          ],
                          [
                            0.4444444444444444,
                            "#bd3786"
                          ],
                          [
                            0.5555555555555556,
                            "#d8576b"
                          ],
                          [
                            0.6666666666666666,
                            "#ed7953"
                          ],
                          [
                            0.7777777777777778,
                            "#fb9f3a"
                          ],
                          [
                            0.8888888888888888,
                            "#fdca26"
                          ],
                          [
                            1,
                            "#f0f921"
                          ]
                        ],
                        "type": "heatmap"
                      }
                    ],
                    "heatmapgl": [
                      {
                        "colorbar": {
                          "outlinewidth": 0,
                          "ticks": ""
                        },
                        "colorscale": [
                          [
                            0,
                            "#0d0887"
                          ],
                          [
                            0.1111111111111111,
                            "#46039f"
                          ],
                          [
                            0.2222222222222222,
                            "#7201a8"
                          ],
                          [
                            0.3333333333333333,
                            "#9c179e"
                          ],
                          [
                            0.4444444444444444,
                            "#bd3786"
                          ],
                          [
                            0.5555555555555556,
                            "#d8576b"
                          ],
                          [
                            0.6666666666666666,
                            "#ed7953"
                          ],
                          [
                            0.7777777777777778,
                            "#fb9f3a"
                          ],
                          [
                            0.8888888888888888,
                            "#fdca26"
                          ],
                          [
                            1,
                            "#f0f921"
                          ]
                        ],
                        "type": "heatmapgl"
                      }
                    ],
                    "histogram": [
                      {
                        "marker": {
                          "pattern": {
                            "fillmode": "overlay",
                            "size": 10,
                            "solidity": 0.2
                          }
                        },
                        "type": "histogram"
                      }
                    ],
                    "histogram2d": [
                      {
                        "colorbar": {
                          "outlinewidth": 0,
                          "ticks": ""
                        },
                        "colorscale": [
                          [
                            0,
                            "#0d0887"
                          ],
                          [
                            0.1111111111111111,
                            "#46039f"
                          ],
                          [
                            0.2222222222222222,
                            "#7201a8"
                          ],
                          [
                            0.3333333333333333,
                            "#9c179e"
                          ],
                          [
                            0.4444444444444444,
                            "#bd3786"
                          ],
                          [
                            0.5555555555555556,
                            "#d8576b"
                          ],
                          [
                            0.6666666666666666,
                            "#ed7953"
                          ],
                          [
                            0.7777777777777778,
                            "#fb9f3a"
                          ],
                          [
                            0.8888888888888888,
                            "#fdca26"
                          ],
                          [
                            1,
                            "#f0f921"
                          ]
                        ],
                        "type": "histogram2d"
                      }
                    ],
                    "histogram2dcontour": [
                      {
                        "colorbar": {
                          "outlinewidth": 0,
                          "ticks": ""
                        },
                        "colorscale": [
                          [
                            0,
                            "#0d0887"
                          ],
                          [
                            0.1111111111111111,
                            "#46039f"
                          ],
                          [
                            0.2222222222222222,
                            "#7201a8"
                          ],
                          [
                            0.3333333333333333,
                            "#9c179e"
                          ],
                          [
                            0.4444444444444444,
                            "#bd3786"
                          ],
                          [
                            0.5555555555555556,
                            "#d8576b"
                          ],
                          [
                            0.6666666666666666,
                            "#ed7953"
                          ],
                          [
                            0.7777777777777778,
                            "#fb9f3a"
                          ],
                          [
                            0.8888888888888888,
                            "#fdca26"
                          ],
                          [
                            1,
                            "#f0f921"
                          ]
                        ],
                        "type": "histogram2dcontour"
                      }
                    ],
                    "mesh3d": [
                      {
                        "colorbar": {
                          "outlinewidth": 0,
                          "ticks": ""
                        },
                        "type": "mesh3d"
                      }
                    ],
                    "parcoords": [
                      {
                        "line": {
                          "colorbar": {
                            "outlinewidth": 0,
                            "ticks": ""
                          }
                        },
                        "type": "parcoords"
                      }
                    ],
                    "pie": [
                      {
                        "automargin": true,
                        "type": "pie"
                      }
                    ],
                    "scatter": [
                      {
                        "fillpattern": {
                          "fillmode": "overlay",
                          "size": 10,
                          "solidity": 0.2
                        },
                        "type": "scatter"
                      }
                    ],
                    "scatter3d": [
                      {
                        "line": {
                          "colorbar": {
                            "outlinewidth": 0,
                            "ticks": ""
                          }
                        },
                        "marker": {
                          "colorbar": {
                            "outlinewidth": 0,
                            "ticks": ""
                          }
                        },
                        "type": "scatter3d"
                      }
                    ],
                    "scattercarpet": [
                      {
                        "marker": {
                          "colorbar": {
                            "outlinewidth": 0,
                            "ticks": ""
                          }
                        },
                        "type": "scattercarpet"
                      }
                    ],
                    "scattergeo": [
                      {
                        "marker": {
                          "colorbar": {
                            "outlinewidth": 0,
                            "ticks": ""
                          }
                        },
                        "type": "scattergeo"
                      }
                    ],
                    "scattergl": [
                      {
                        "marker": {
                          "colorbar": {
                            "outlinewidth": 0,
                            "ticks": ""
                          }
                        },
                        "type": "scattergl"
                      }
                    ],
                    "scattermapbox": [
                      {
                        "marker": {
                          "colorbar": {
                            "outlinewidth": 0,
                            "ticks": ""
                          }
                        },
                        "type": "scattermapbox"
                      }
                    ],
                    "scatterpolar": [
                      {
                        "marker": {
                          "colorbar": {
                            "outlinewidth": 0,
                            "ticks": ""
                          }
                        },
                        "type": "scatterpolar"
                      }
                    ],
                    "scatterpolargl": [
                      {
                        "marker": {
                          "colorbar": {
                            "outlinewidth": 0,
                            "ticks": ""
                          }
                        },
                        "type": "scatterpolargl"
                      }
                    ],
                    "scatterternary": [
                      {
                        "marker": {
                          "colorbar": {
                            "outlinewidth": 0,
                            "ticks": ""
                          }
                        },
                        "type": "scatterternary"
                      }
                    ],
                    "surface": [
                      {
                        "colorbar": {
                          "outlinewidth": 0,
                          "ticks": ""
                        },
                        "colorscale": [
                          [
                            0,
                            "#0d0887"
                          ],
                          [
                            0.1111111111111111,
                            "#46039f"
                          ],
                          [
                            0.2222222222222222,
                            "#7201a8"
                          ],
                          [
                            0.3333333333333333,
                            "#9c179e"
                          ],
                          [
                            0.4444444444444444,
                            "#bd3786"
                          ],
                          [
                            0.5555555555555556,
                            "#d8576b"
                          ],
                          [
                            0.6666666666666666,
                            "#ed7953"
                          ],
                          [
                            0.7777777777777778,
                            "#fb9f3a"
                          ],
                          [
                            0.8888888888888888,
                            "#fdca26"
                          ],
                          [
                            1,
                            "#f0f921"
                          ]
                        ],
                        "type": "surface"
                      }
                    ],
                    "table": [
                      {
                        "cells": {
                          "fill": {
                            "color": "#EBF0F8"
                          },
                          "line": {
                            "color": "white"
                          }
                        },
                        "header": {
                          "fill": {
                            "color": "#C8D4E3"
                          },
                          "line": {
                            "color": "white"
                          }
                        },
                        "type": "table"
                      }
                    ]
                  },
                  "layout": {
                    "annotationdefaults": {
                      "arrowcolor": "#2a3f5f",
                      "arrowhead": 0,
                      "arrowwidth": 1
                    },
                    "autotypenumbers": "strict",
                    "coloraxis": {
                      "colorbar": {
                        "outlinewidth": 0,
                        "ticks": ""
                      }
                    },
                    "colorscale": {
                      "diverging": [
                        [
                          0,
                          "#8e0152"
                        ],
                        [
                          0.1,
                          "#c51b7d"
                        ],
                        [
                          0.2,
                          "#de77ae"
                        ],
                        [
                          0.3,
                          "#f1b6da"
                        ],
                        [
                          0.4,
                          "#fde0ef"
                        ],
                        [
                          0.5,
                          "#f7f7f7"
                        ],
                        [
                          0.6,
                          "#e6f5d0"
                        ],
                        [
                          0.7,
                          "#b8e186"
                        ],
                        [
                          0.8,
                          "#7fbc41"
                        ],
                        [
                          0.9,
                          "#4d9221"
                        ],
                        [
                          1,
                          "#276419"
                        ]
                      ],
                      "sequential": [
                        [
                          0,
                          "#0d0887"
                        ],
                        [
                          0.1111111111111111,
                          "#46039f"
                        ],
                        [
                          0.2222222222222222,
                          "#7201a8"
                        ],
                        [
                          0.3333333333333333,
                          "#9c179e"
                        ],
                        [
                          0.4444444444444444,
                          "#bd3786"
                        ],
                        [
                          0.5555555555555556,
                          "#d8576b"
                        ],
                        [
                          0.6666666666666666,
                          "#ed7953"
                        ],
                        [
                          0.7777777777777778,
                          "#fb9f3a"
                        ],
                        [
                          0.8888888888888888,
                          "#fdca26"
                        ],
                        [
                          1,
                          "#f0f921"
                        ]
                      ],
                      "sequentialminus": [
                        [
                          0,
                          "#0d0887"
                        ],
                        [
                          0.1111111111111111,
                          "#46039f"
                        ],
                        [
                          0.2222222222222222,
                          "#7201a8"
                        ],
                        [
                          0.3333333333333333,
                          "#9c179e"
                        ],
                        [
                          0.4444444444444444,
                          "#bd3786"
                        ],
                        [
                          0.5555555555555556,
                          "#d8576b"
                        ],
                        [
                          0.6666666666666666,
                          "#ed7953"
                        ],
                        [
                          0.7777777777777778,
                          "#fb9f3a"
                        ],
                        [
                          0.8888888888888888,
                          "#fdca26"
                        ],
                        [
                          1,
                          "#f0f921"
                        ]
                      ]
                    },
                    "colorway": [
                      "#636efa",
                      "#EF553B",
                      "#00cc96",
                      "#ab63fa",
                      "#FFA15A",
                      "#19d3f3",
                      "#FF6692",
                      "#B6E880",
                      "#FF97FF",
                      "#FECB52"
                    ],
                    "font": {
                      "color": "#2a3f5f"
                    },
                    "geo": {
                      "bgcolor": "white",
                      "lakecolor": "white",
                      "landcolor": "#E5ECF6",
                      "showlakes": true,
                      "showland": true,
                      "subunitcolor": "white"
                    },
                    "hoverlabel": {
                      "align": "left"
                    },
                    "hovermode": "closest",
                    "mapbox": {
                      "style": "light"
                    },
                    "paper_bgcolor": "white",
                    "plot_bgcolor": "#E5ECF6",
                    "polar": {
                      "angularaxis": {
                        "gridcolor": "white",
                        "linecolor": "white",
                        "ticks": ""
                      },
                      "bgcolor": "#E5ECF6",
                      "radialaxis": {
                        "gridcolor": "white",
                        "linecolor": "white",
                        "ticks": ""
                      }
                    },
                    "scene": {
                      "xaxis": {
                        "backgroundcolor": "#E5ECF6",
                        "gridcolor": "white",
                        "gridwidth": 2,
                        "linecolor": "white",
                        "showbackground": true,
                        "ticks": "",
                        "zerolinecolor": "white"
                      },
                      "yaxis": {
                        "backgroundcolor": "#E5ECF6",
                        "gridcolor": "white",
                        "gridwidth": 2,
                        "linecolor": "white",
                        "showbackground": true,
                        "ticks": "",
                        "zerolinecolor": "white"
                      },
                      "zaxis": {
                        "backgroundcolor": "#E5ECF6",
                        "gridcolor": "white",
                        "gridwidth": 2,
                        "linecolor": "white",
                        "showbackground": true,
                        "ticks": "",
                        "zerolinecolor": "white"
                      }
                    },
                    "shapedefaults": {
                      "line": {
                        "color": "#2a3f5f"
                      }
                    },
                    "ternary": {
                      "aaxis": {
                        "gridcolor": "white",
                        "linecolor": "white",
                        "ticks": ""
                      },
                      "baxis": {
                        "gridcolor": "white",
                        "linecolor": "white",
                        "ticks": ""
                      },
                      "bgcolor": "#E5ECF6",
                      "caxis": {
                        "gridcolor": "white",
                        "linecolor": "white",
                        "ticks": ""
                      }
                    },
                    "title": {
                      "x": 0.05
                    },
                    "xaxis": {
                      "automargin": true,
                      "gridcolor": "white",
                      "linecolor": "white",
                      "ticks": "",
                      "title": {
                        "standoff": 15
                      },
                      "zerolinecolor": "white",
                      "zerolinewidth": 2
                    },
                    "yaxis": {
                      "automargin": true,
                      "gridcolor": "white",
                      "linecolor": "white",
                      "ticks": "",
                      "title": {
                        "standoff": 15
                      },
                      "zerolinecolor": "white",
                      "zerolinewidth": 2
                    }
                  }
                },
                "title": {
                  "text": "Engine Size and Horsepower vs Price (with Regression Plane)"
                }
              }
            }
          },
          "metadata": {},
          "output_type": "display_data"
        }
      ],
      "source": [
        "import plotly.graph_objects as go\n",
        "from sklearn.linear_model import LinearRegression\n",
        "\n",
        "model = LinearRegression()\n",
        "X = df[['enginesize', 'horsepower']]\n",
        "y = df['price']\n",
        "model.fit(X, y)\n",
        "\n",
        "# Predicting the prices\n",
        "predicted_prices = model.predict(X)\n",
        "\n",
        "# Creating the 3D scatter plot\n",
        "fig = go.Figure()\n",
        "fig.add_trace(go.Scatter3d(x=df['enginesize'], y=df['horsepower'], z=df['price'],\n",
        "                           mode='markers', name='Actual Price'))\n",
        "fig.add_trace(go.Scatter3d(x=df['enginesize'], y=df['horsepower'], z=predicted_prices,\n",
        "                           mode='markers', name='Predicted Price'))\n",
        "fig.update_layout(scene = dict(xaxis_title='Engine Size',\n",
        "                               yaxis_title='Horsepower',\n",
        "                               zaxis_title='Price'),\n",
        "                  title='Engine Size and Horsepower vs Price (with Regression Plane)')\n",
        "fig.show()"
      ]
    },
    {
      "attachments": {},
      "cell_type": "markdown",
      "id": "832f61ae-a428-4ad0-bd0e-462475777aee",
      "metadata": {
        "noteable": {
          "cell_type": "markdown"
        }
      },
      "source": [
        "## Inference from Engine Size and Horsepower vs Price Regression Graph\n",
        "The regression graph provides a visual representation of the relationship between engine size, horsepower, and price. The trend observed from the graph indicates that both engine size and horsepower have a positive correlation with the price of the car. This means that as the engine size and horsepower increase, the price of the car also tends to increase.\n",
        "The orange dots represent the predicted prices based on the linear regression model trained on engine size and horsepower. The model seems to fit the data well, indicating that engine size and horsepower are significant predictors of car price.\n",
        "However, there are some outliers where the actual price (blue dots) deviates significantly from the predicted price. These could be due to other factors not considered in this model, such as brand value, car age, or additional features."
      ]
    },
    {
      "attachments": {},
      "cell_type": "markdown",
      "id": "97ec5da4-ae0e-4f84-a0d5-9a5f5b26bb7f",
      "metadata": {
        "noteable": {
          "cell_type": "markdown"
        }
      },
      "source": [
        "## Bivariate Analysis Inference\n",
        "\n",
        "The scatter plot above shows the relationship between engine size, horsepower, and price. The size of the points represents the horsepower of the cars. From the plot, we can infer that cars with larger engines and more horsepower tend to be more expensive. This is consistent with our previous observations."
      ]
    },
    {
      "cell_type": "code",
      "execution_count": 11,
      "id": "f62d11a9-8f69-4d33-8af9-4f67bc1b7adb",
      "metadata": {
        "ExecuteTime": {
          "end_time": "2023-06-23T19:57:28.649832+00:00",
          "start_time": "2023-06-23T19:57:28.408213+00:00"
        },
        "noteable": {
          "cell_type": "code",
          "output_collection_id": "fb9a6e10-28f0-4d1e-85f3-f047c2c80a7f"
        }
      },
      "outputs": [
        {
          "data": {
            "application/vnd.plotly.v1+json": {
              "config": {
                "plotlyServerURL": "https://plot.ly"
              },
              "data": [
                {
                  "hovertemplate": "carbody=convertible<br>enginesize=%{x}<br>horsepower=%{y}<br>price=%{z}<extra></extra>",
                  "legendgroup": "convertible",
                  "marker": {
                    "color": "#636efa",
                    "symbol": "circle"
                  },
                  "mode": "markers",
                  "name": "convertible",
                  "scene": "scene",
                  "showlegend": true,
                  "type": "scatter3d",
                  "x": [
                    130,
                    130,
                    234,
                    194,
                    146,
                    109
                  ],
                  "y": [
                    111,
                    111,
                    155,
                    207,
                    116,
                    90
                  ],
                  "z": [
                    13495,
                    16500,
                    35056,
                    37028,
                    17669,
                    11595
                  ]
                },
                {
                  "hovertemplate": "carbody=hatchback<br>enginesize=%{x}<br>horsepower=%{y}<br>price=%{z}<extra></extra>",
                  "legendgroup": "hatchback",
                  "marker": {
                    "color": "#EF553B",
                    "symbol": "circle"
                  },
                  "mode": "markers",
                  "name": "hatchback",
                  "scene": "scene",
                  "showlegend": true,
                  "type": "scatter3d",
                  "x": [
                    152,
                    131,
                    61,
                    90,
                    90,
                    90,
                    98,
                    90,
                    156,
                    92,
                    92,
                    79,
                    92,
                    92,
                    110,
                    110,
                    119,
                    91,
                    91,
                    91,
                    70,
                    70,
                    70,
                    80,
                    122,
                    122,
                    122,
                    140,
                    92,
                    92,
                    92,
                    98,
                    110,
                    122,
                    156,
                    156,
                    156,
                    97,
                    120,
                    181,
                    181,
                    181,
                    90,
                    98,
                    90,
                    156,
                    151,
                    203,
                    132,
                    121,
                    121,
                    121,
                    97,
                    108,
                    108,
                    92,
                    92,
                    92,
                    98,
                    110,
                    98,
                    98,
                    98,
                    146,
                    146,
                    122,
                    122,
                    171,
                    171,
                    109
                  ],
                  "y": [
                    154,
                    160,
                    48,
                    70,
                    68,
                    68,
                    102,
                    68,
                    145,
                    58,
                    76,
                    60,
                    76,
                    76,
                    86,
                    86,
                    90,
                    68,
                    68,
                    68,
                    101,
                    101,
                    101,
                    135,
                    84,
                    84,
                    84,
                    175,
                    68,
                    68,
                    68,
                    102,
                    116,
                    88,
                    145,
                    145,
                    145,
                    69,
                    97,
                    160,
                    200,
                    160,
                    68,
                    102,
                    68,
                    145,
                    143,
                    288,
                    90,
                    110,
                    110,
                    160,
                    69,
                    73,
                    73,
                    62,
                    62,
                    62,
                    70,
                    56,
                    70,
                    70,
                    112,
                    116,
                    116,
                    92,
                    92,
                    161,
                    161,
                    90
                  ],
                  "z": [
                    16500,
                    17859.167,
                    5151,
                    6295,
                    5572,
                    6377,
                    7957,
                    6229,
                    12964,
                    6479,
                    6855,
                    5399,
                    6529,
                    7129,
                    7895,
                    9095,
                    11048,
                    5195,
                    6095,
                    6795,
                    10945,
                    11845,
                    13645,
                    15645,
                    8845,
                    10595,
                    11245,
                    16503,
                    5389,
                    6189,
                    6669,
                    7689,
                    9959,
                    8499,
                    12629,
                    14869,
                    14489,
                    7799,
                    8949,
                    17199,
                    19699,
                    18399,
                    5572,
                    7957,
                    6229,
                    12764,
                    22018,
                    31400.5,
                    9895,
                    11850,
                    15040,
                    18150,
                    5118,
                    7053,
                    7603,
                    5348,
                    6338,
                    6488,
                    7198,
                    7788,
                    8358,
                    8238,
                    9538,
                    9989,
                    11549,
                    9988,
                    11248,
                    16558,
                    15998,
                    9980
                  ]
                },
                {
                  "hovertemplate": "carbody=sedan<br>enginesize=%{x}<br>horsepower=%{y}<br>price=%{z}<extra></extra>",
                  "legendgroup": "sedan",
                  "marker": {
                    "color": "#00cc96",
                    "symbol": "circle"
                  },
                  "mode": "markers",
                  "name": "sedan",
                  "scene": "scene",
                  "showlegend": true,
                  "type": "scatter3d",
                  "x": [
                    109,
                    136,
                    136,
                    136,
                    131,
                    108,
                    108,
                    164,
                    164,
                    164,
                    209,
                    209,
                    209,
                    90,
                    90,
                    90,
                    98,
                    92,
                    110,
                    110,
                    110,
                    110,
                    111,
                    90,
                    90,
                    258,
                    258,
                    326,
                    91,
                    91,
                    122,
                    122,
                    122,
                    140,
                    134,
                    183,
                    183,
                    234,
                    308,
                    122,
                    122,
                    110,
                    110,
                    97,
                    103,
                    97,
                    97,
                    97,
                    97,
                    120,
                    181,
                    181,
                    120,
                    152,
                    120,
                    152,
                    120,
                    152,
                    134,
                    90,
                    98,
                    121,
                    121,
                    121,
                    108,
                    108,
                    108,
                    108,
                    108,
                    98,
                    110,
                    98,
                    98,
                    98,
                    98,
                    122,
                    110,
                    122,
                    171,
                    97,
                    109,
                    97,
                    109,
                    109,
                    97,
                    109,
                    136,
                    97,
                    141,
                    141,
                    130,
                    141,
                    141,
                    173,
                    145,
                    141
                  ],
                  "y": [
                    102,
                    115,
                    110,
                    110,
                    140,
                    101,
                    101,
                    121,
                    121,
                    121,
                    182,
                    182,
                    182,
                    70,
                    68,
                    68,
                    102,
                    76,
                    86,
                    86,
                    101,
                    100,
                    78,
                    70,
                    70,
                    176,
                    176,
                    262,
                    68,
                    68,
                    84,
                    84,
                    64,
                    120,
                    72,
                    123,
                    123,
                    155,
                    184,
                    88,
                    88,
                    116,
                    116,
                    69,
                    55,
                    69,
                    69,
                    69,
                    69,
                    97,
                    152,
                    152,
                    97,
                    95,
                    95,
                    95,
                    97,
                    95,
                    142,
                    68,
                    68,
                    110,
                    110,
                    160,
                    82,
                    82,
                    94,
                    82,
                    111,
                    70,
                    56,
                    70,
                    70,
                    70,
                    112,
                    92,
                    73,
                    92,
                    156,
                    52,
                    85,
                    52,
                    85,
                    85,
                    68,
                    100,
                    110,
                    68,
                    114,
                    114,
                    162,
                    114,
                    160,
                    134,
                    106,
                    114
                  ],
                  "z": [
                    13950,
                    17450,
                    15250,
                    17710,
                    23875,
                    16430,
                    16925,
                    20970,
                    21105,
                    24565,
                    30760,
                    41315,
                    36880,
                    6575,
                    6692,
                    7609,
                    8558,
                    7295,
                    8845,
                    10295,
                    12945,
                    10345,
                    6785,
                    8916.5,
                    8916.5,
                    32250,
                    35550,
                    36000,
                    6695,
                    7395,
                    8495,
                    10245,
                    10795,
                    18280,
                    18344,
                    25552,
                    31600,
                    34184,
                    40960,
                    6989,
                    8189,
                    9279,
                    9279,
                    5499,
                    7099,
                    6649,
                    6849,
                    7299,
                    7499,
                    9549,
                    13499,
                    13499,
                    11900,
                    13200,
                    15580,
                    16900,
                    16630,
                    17950,
                    18150,
                    6692,
                    7609,
                    12170,
                    15510,
                    18620,
                    7126,
                    7775,
                    9960,
                    9233,
                    11259,
                    6938,
                    7898,
                    7738,
                    9258,
                    8058,
                    9298,
                    8948,
                    10698,
                    10898,
                    15690,
                    7775,
                    7975,
                    7995,
                    8195,
                    8495,
                    9495,
                    9995,
                    13295,
                    13845,
                    12940,
                    15985,
                    18420,
                    16845,
                    19045,
                    21485,
                    22470,
                    22625
                  ]
                },
                {
                  "hovertemplate": "carbody=wagon<br>enginesize=%{x}<br>horsepower=%{y}<br>price=%{z}<extra></extra>",
                  "legendgroup": "wagon",
                  "marker": {
                    "color": "#ab63fa",
                    "symbol": "circle"
                  },
                  "mode": "markers",
                  "name": "wagon",
                  "scene": "scene",
                  "showlegend": true,
                  "type": "scatter3d",
                  "x": [
                    136,
                    122,
                    92,
                    183,
                    97,
                    97,
                    181,
                    120,
                    152,
                    120,
                    152,
                    122,
                    132,
                    108,
                    108,
                    108,
                    108,
                    92,
                    92,
                    92,
                    161,
                    109,
                    141,
                    141,
                    130
                  ],
                  "y": [
                    110,
                    88,
                    76,
                    123,
                    69,
                    69,
                    152,
                    97,
                    95,
                    95,
                    95,
                    88,
                    90,
                    82,
                    94,
                    82,
                    111,
                    62,
                    62,
                    62,
                    156,
                    88,
                    114,
                    114,
                    162
                  ],
                  "z": [
                    18920,
                    8921,
                    7295,
                    28248,
                    7349,
                    7999,
                    14399,
                    12440,
                    13860,
                    16695,
                    17075,
                    8921,
                    9295,
                    7463,
                    10198,
                    8013,
                    11694,
                    6918,
                    7898,
                    8778,
                    15750,
                    12290,
                    13415,
                    16515,
                    18950
                  ]
                },
                {
                  "hovertemplate": "carbody=hardtop<br>enginesize=%{x}<br>horsepower=%{y}<br>price=%{z}<extra></extra>",
                  "legendgroup": "hardtop",
                  "marker": {
                    "color": "#FFA15A",
                    "symbol": "circle"
                  },
                  "mode": "markers",
                  "name": "hardtop",
                  "scene": "scene",
                  "showlegend": true,
                  "type": "scatter3d",
                  "x": [
                    183,
                    304,
                    97,
                    194,
                    194,
                    146,
                    146,
                    146
                  ],
                  "y": [
                    123,
                    184,
                    69,
                    207,
                    207,
                    116,
                    116,
                    116
                  ],
                  "z": [
                    28176,
                    45400,
                    8249,
                    32528,
                    34028,
                    8449,
                    9639,
                    11199
                  ]
                }
              ],
              "layout": {
                "legend": {
                  "title": {
                    "text": "carbody"
                  },
                  "tracegroupgap": 0
                },
                "scene": {
                  "domain": {
                    "x": [
                      0,
                      1
                    ],
                    "y": [
                      0,
                      1
                    ]
                  },
                  "xaxis": {
                    "title": {
                      "text": "enginesize"
                    }
                  },
                  "yaxis": {
                    "title": {
                      "text": "horsepower"
                    }
                  },
                  "zaxis": {
                    "title": {
                      "text": "price"
                    }
                  }
                },
                "template": {
                  "data": {
                    "bar": [
                      {
                        "error_x": {
                          "color": "#2a3f5f"
                        },
                        "error_y": {
                          "color": "#2a3f5f"
                        },
                        "marker": {
                          "line": {
                            "color": "#E5ECF6",
                            "width": 0.5
                          },
                          "pattern": {
                            "fillmode": "overlay",
                            "size": 10,
                            "solidity": 0.2
                          }
                        },
                        "type": "bar"
                      }
                    ],
                    "barpolar": [
                      {
                        "marker": {
                          "line": {
                            "color": "#E5ECF6",
                            "width": 0.5
                          },
                          "pattern": {
                            "fillmode": "overlay",
                            "size": 10,
                            "solidity": 0.2
                          }
                        },
                        "type": "barpolar"
                      }
                    ],
                    "carpet": [
                      {
                        "aaxis": {
                          "endlinecolor": "#2a3f5f",
                          "gridcolor": "white",
                          "linecolor": "white",
                          "minorgridcolor": "white",
                          "startlinecolor": "#2a3f5f"
                        },
                        "baxis": {
                          "endlinecolor": "#2a3f5f",
                          "gridcolor": "white",
                          "linecolor": "white",
                          "minorgridcolor": "white",
                          "startlinecolor": "#2a3f5f"
                        },
                        "type": "carpet"
                      }
                    ],
                    "choropleth": [
                      {
                        "colorbar": {
                          "outlinewidth": 0,
                          "ticks": ""
                        },
                        "type": "choropleth"
                      }
                    ],
                    "contour": [
                      {
                        "colorbar": {
                          "outlinewidth": 0,
                          "ticks": ""
                        },
                        "colorscale": [
                          [
                            0,
                            "#0d0887"
                          ],
                          [
                            0.1111111111111111,
                            "#46039f"
                          ],
                          [
                            0.2222222222222222,
                            "#7201a8"
                          ],
                          [
                            0.3333333333333333,
                            "#9c179e"
                          ],
                          [
                            0.4444444444444444,
                            "#bd3786"
                          ],
                          [
                            0.5555555555555556,
                            "#d8576b"
                          ],
                          [
                            0.6666666666666666,
                            "#ed7953"
                          ],
                          [
                            0.7777777777777778,
                            "#fb9f3a"
                          ],
                          [
                            0.8888888888888888,
                            "#fdca26"
                          ],
                          [
                            1,
                            "#f0f921"
                          ]
                        ],
                        "type": "contour"
                      }
                    ],
                    "contourcarpet": [
                      {
                        "colorbar": {
                          "outlinewidth": 0,
                          "ticks": ""
                        },
                        "type": "contourcarpet"
                      }
                    ],
                    "heatmap": [
                      {
                        "colorbar": {
                          "outlinewidth": 0,
                          "ticks": ""
                        },
                        "colorscale": [
                          [
                            0,
                            "#0d0887"
                          ],
                          [
                            0.1111111111111111,
                            "#46039f"
                          ],
                          [
                            0.2222222222222222,
                            "#7201a8"
                          ],
                          [
                            0.3333333333333333,
                            "#9c179e"
                          ],
                          [
                            0.4444444444444444,
                            "#bd3786"
                          ],
                          [
                            0.5555555555555556,
                            "#d8576b"
                          ],
                          [
                            0.6666666666666666,
                            "#ed7953"
                          ],
                          [
                            0.7777777777777778,
                            "#fb9f3a"
                          ],
                          [
                            0.8888888888888888,
                            "#fdca26"
                          ],
                          [
                            1,
                            "#f0f921"
                          ]
                        ],
                        "type": "heatmap"
                      }
                    ],
                    "heatmapgl": [
                      {
                        "colorbar": {
                          "outlinewidth": 0,
                          "ticks": ""
                        },
                        "colorscale": [
                          [
                            0,
                            "#0d0887"
                          ],
                          [
                            0.1111111111111111,
                            "#46039f"
                          ],
                          [
                            0.2222222222222222,
                            "#7201a8"
                          ],
                          [
                            0.3333333333333333,
                            "#9c179e"
                          ],
                          [
                            0.4444444444444444,
                            "#bd3786"
                          ],
                          [
                            0.5555555555555556,
                            "#d8576b"
                          ],
                          [
                            0.6666666666666666,
                            "#ed7953"
                          ],
                          [
                            0.7777777777777778,
                            "#fb9f3a"
                          ],
                          [
                            0.8888888888888888,
                            "#fdca26"
                          ],
                          [
                            1,
                            "#f0f921"
                          ]
                        ],
                        "type": "heatmapgl"
                      }
                    ],
                    "histogram": [
                      {
                        "marker": {
                          "pattern": {
                            "fillmode": "overlay",
                            "size": 10,
                            "solidity": 0.2
                          }
                        },
                        "type": "histogram"
                      }
                    ],
                    "histogram2d": [
                      {
                        "colorbar": {
                          "outlinewidth": 0,
                          "ticks": ""
                        },
                        "colorscale": [
                          [
                            0,
                            "#0d0887"
                          ],
                          [
                            0.1111111111111111,
                            "#46039f"
                          ],
                          [
                            0.2222222222222222,
                            "#7201a8"
                          ],
                          [
                            0.3333333333333333,
                            "#9c179e"
                          ],
                          [
                            0.4444444444444444,
                            "#bd3786"
                          ],
                          [
                            0.5555555555555556,
                            "#d8576b"
                          ],
                          [
                            0.6666666666666666,
                            "#ed7953"
                          ],
                          [
                            0.7777777777777778,
                            "#fb9f3a"
                          ],
                          [
                            0.8888888888888888,
                            "#fdca26"
                          ],
                          [
                            1,
                            "#f0f921"
                          ]
                        ],
                        "type": "histogram2d"
                      }
                    ],
                    "histogram2dcontour": [
                      {
                        "colorbar": {
                          "outlinewidth": 0,
                          "ticks": ""
                        },
                        "colorscale": [
                          [
                            0,
                            "#0d0887"
                          ],
                          [
                            0.1111111111111111,
                            "#46039f"
                          ],
                          [
                            0.2222222222222222,
                            "#7201a8"
                          ],
                          [
                            0.3333333333333333,
                            "#9c179e"
                          ],
                          [
                            0.4444444444444444,
                            "#bd3786"
                          ],
                          [
                            0.5555555555555556,
                            "#d8576b"
                          ],
                          [
                            0.6666666666666666,
                            "#ed7953"
                          ],
                          [
                            0.7777777777777778,
                            "#fb9f3a"
                          ],
                          [
                            0.8888888888888888,
                            "#fdca26"
                          ],
                          [
                            1,
                            "#f0f921"
                          ]
                        ],
                        "type": "histogram2dcontour"
                      }
                    ],
                    "mesh3d": [
                      {
                        "colorbar": {
                          "outlinewidth": 0,
                          "ticks": ""
                        },
                        "type": "mesh3d"
                      }
                    ],
                    "parcoords": [
                      {
                        "line": {
                          "colorbar": {
                            "outlinewidth": 0,
                            "ticks": ""
                          }
                        },
                        "type": "parcoords"
                      }
                    ],
                    "pie": [
                      {
                        "automargin": true,
                        "type": "pie"
                      }
                    ],
                    "scatter": [
                      {
                        "fillpattern": {
                          "fillmode": "overlay",
                          "size": 10,
                          "solidity": 0.2
                        },
                        "type": "scatter"
                      }
                    ],
                    "scatter3d": [
                      {
                        "line": {
                          "colorbar": {
                            "outlinewidth": 0,
                            "ticks": ""
                          }
                        },
                        "marker": {
                          "colorbar": {
                            "outlinewidth": 0,
                            "ticks": ""
                          }
                        },
                        "type": "scatter3d"
                      }
                    ],
                    "scattercarpet": [
                      {
                        "marker": {
                          "colorbar": {
                            "outlinewidth": 0,
                            "ticks": ""
                          }
                        },
                        "type": "scattercarpet"
                      }
                    ],
                    "scattergeo": [
                      {
                        "marker": {
                          "colorbar": {
                            "outlinewidth": 0,
                            "ticks": ""
                          }
                        },
                        "type": "scattergeo"
                      }
                    ],
                    "scattergl": [
                      {
                        "marker": {
                          "colorbar": {
                            "outlinewidth": 0,
                            "ticks": ""
                          }
                        },
                        "type": "scattergl"
                      }
                    ],
                    "scattermapbox": [
                      {
                        "marker": {
                          "colorbar": {
                            "outlinewidth": 0,
                            "ticks": ""
                          }
                        },
                        "type": "scattermapbox"
                      }
                    ],
                    "scatterpolar": [
                      {
                        "marker": {
                          "colorbar": {
                            "outlinewidth": 0,
                            "ticks": ""
                          }
                        },
                        "type": "scatterpolar"
                      }
                    ],
                    "scatterpolargl": [
                      {
                        "marker": {
                          "colorbar": {
                            "outlinewidth": 0,
                            "ticks": ""
                          }
                        },
                        "type": "scatterpolargl"
                      }
                    ],
                    "scatterternary": [
                      {
                        "marker": {
                          "colorbar": {
                            "outlinewidth": 0,
                            "ticks": ""
                          }
                        },
                        "type": "scatterternary"
                      }
                    ],
                    "surface": [
                      {
                        "colorbar": {
                          "outlinewidth": 0,
                          "ticks": ""
                        },
                        "colorscale": [
                          [
                            0,
                            "#0d0887"
                          ],
                          [
                            0.1111111111111111,
                            "#46039f"
                          ],
                          [
                            0.2222222222222222,
                            "#7201a8"
                          ],
                          [
                            0.3333333333333333,
                            "#9c179e"
                          ],
                          [
                            0.4444444444444444,
                            "#bd3786"
                          ],
                          [
                            0.5555555555555556,
                            "#d8576b"
                          ],
                          [
                            0.6666666666666666,
                            "#ed7953"
                          ],
                          [
                            0.7777777777777778,
                            "#fb9f3a"
                          ],
                          [
                            0.8888888888888888,
                            "#fdca26"
                          ],
                          [
                            1,
                            "#f0f921"
                          ]
                        ],
                        "type": "surface"
                      }
                    ],
                    "table": [
                      {
                        "cells": {
                          "fill": {
                            "color": "#EBF0F8"
                          },
                          "line": {
                            "color": "white"
                          }
                        },
                        "header": {
                          "fill": {
                            "color": "#C8D4E3"
                          },
                          "line": {
                            "color": "white"
                          }
                        },
                        "type": "table"
                      }
                    ]
                  },
                  "layout": {
                    "annotationdefaults": {
                      "arrowcolor": "#2a3f5f",
                      "arrowhead": 0,
                      "arrowwidth": 1
                    },
                    "autotypenumbers": "strict",
                    "coloraxis": {
                      "colorbar": {
                        "outlinewidth": 0,
                        "ticks": ""
                      }
                    },
                    "colorscale": {
                      "diverging": [
                        [
                          0,
                          "#8e0152"
                        ],
                        [
                          0.1,
                          "#c51b7d"
                        ],
                        [
                          0.2,
                          "#de77ae"
                        ],
                        [
                          0.3,
                          "#f1b6da"
                        ],
                        [
                          0.4,
                          "#fde0ef"
                        ],
                        [
                          0.5,
                          "#f7f7f7"
                        ],
                        [
                          0.6,
                          "#e6f5d0"
                        ],
                        [
                          0.7,
                          "#b8e186"
                        ],
                        [
                          0.8,
                          "#7fbc41"
                        ],
                        [
                          0.9,
                          "#4d9221"
                        ],
                        [
                          1,
                          "#276419"
                        ]
                      ],
                      "sequential": [
                        [
                          0,
                          "#0d0887"
                        ],
                        [
                          0.1111111111111111,
                          "#46039f"
                        ],
                        [
                          0.2222222222222222,
                          "#7201a8"
                        ],
                        [
                          0.3333333333333333,
                          "#9c179e"
                        ],
                        [
                          0.4444444444444444,
                          "#bd3786"
                        ],
                        [
                          0.5555555555555556,
                          "#d8576b"
                        ],
                        [
                          0.6666666666666666,
                          "#ed7953"
                        ],
                        [
                          0.7777777777777778,
                          "#fb9f3a"
                        ],
                        [
                          0.8888888888888888,
                          "#fdca26"
                        ],
                        [
                          1,
                          "#f0f921"
                        ]
                      ],
                      "sequentialminus": [
                        [
                          0,
                          "#0d0887"
                        ],
                        [
                          0.1111111111111111,
                          "#46039f"
                        ],
                        [
                          0.2222222222222222,
                          "#7201a8"
                        ],
                        [
                          0.3333333333333333,
                          "#9c179e"
                        ],
                        [
                          0.4444444444444444,
                          "#bd3786"
                        ],
                        [
                          0.5555555555555556,
                          "#d8576b"
                        ],
                        [
                          0.6666666666666666,
                          "#ed7953"
                        ],
                        [
                          0.7777777777777778,
                          "#fb9f3a"
                        ],
                        [
                          0.8888888888888888,
                          "#fdca26"
                        ],
                        [
                          1,
                          "#f0f921"
                        ]
                      ]
                    },
                    "colorway": [
                      "#636efa",
                      "#EF553B",
                      "#00cc96",
                      "#ab63fa",
                      "#FFA15A",
                      "#19d3f3",
                      "#FF6692",
                      "#B6E880",
                      "#FF97FF",
                      "#FECB52"
                    ],
                    "font": {
                      "color": "#2a3f5f"
                    },
                    "geo": {
                      "bgcolor": "white",
                      "lakecolor": "white",
                      "landcolor": "#E5ECF6",
                      "showlakes": true,
                      "showland": true,
                      "subunitcolor": "white"
                    },
                    "hoverlabel": {
                      "align": "left"
                    },
                    "hovermode": "closest",
                    "mapbox": {
                      "style": "light"
                    },
                    "paper_bgcolor": "white",
                    "plot_bgcolor": "#E5ECF6",
                    "polar": {
                      "angularaxis": {
                        "gridcolor": "white",
                        "linecolor": "white",
                        "ticks": ""
                      },
                      "bgcolor": "#E5ECF6",
                      "radialaxis": {
                        "gridcolor": "white",
                        "linecolor": "white",
                        "ticks": ""
                      }
                    },
                    "scene": {
                      "xaxis": {
                        "backgroundcolor": "#E5ECF6",
                        "gridcolor": "white",
                        "gridwidth": 2,
                        "linecolor": "white",
                        "showbackground": true,
                        "ticks": "",
                        "zerolinecolor": "white"
                      },
                      "yaxis": {
                        "backgroundcolor": "#E5ECF6",
                        "gridcolor": "white",
                        "gridwidth": 2,
                        "linecolor": "white",
                        "showbackground": true,
                        "ticks": "",
                        "zerolinecolor": "white"
                      },
                      "zaxis": {
                        "backgroundcolor": "#E5ECF6",
                        "gridcolor": "white",
                        "gridwidth": 2,
                        "linecolor": "white",
                        "showbackground": true,
                        "ticks": "",
                        "zerolinecolor": "white"
                      }
                    },
                    "shapedefaults": {
                      "line": {
                        "color": "#2a3f5f"
                      }
                    },
                    "ternary": {
                      "aaxis": {
                        "gridcolor": "white",
                        "linecolor": "white",
                        "ticks": ""
                      },
                      "baxis": {
                        "gridcolor": "white",
                        "linecolor": "white",
                        "ticks": ""
                      },
                      "bgcolor": "#E5ECF6",
                      "caxis": {
                        "gridcolor": "white",
                        "linecolor": "white",
                        "ticks": ""
                      }
                    },
                    "title": {
                      "x": 0.05
                    },
                    "xaxis": {
                      "automargin": true,
                      "gridcolor": "white",
                      "linecolor": "white",
                      "ticks": "",
                      "title": {
                        "standoff": 15
                      },
                      "zerolinecolor": "white",
                      "zerolinewidth": 2
                    },
                    "yaxis": {
                      "automargin": true,
                      "gridcolor": "white",
                      "linecolor": "white",
                      "ticks": "",
                      "title": {
                        "standoff": 15
                      },
                      "zerolinecolor": "white",
                      "zerolinewidth": 2
                    }
                  }
                },
                "title": {
                  "text": "Engine Size, Horsepower, and Body Style vs Price"
                }
              }
            }
          },
          "metadata": {},
          "output_type": "display_data"
        }
      ],
      "source": [
        "fig = px.scatter_3d(df, x='enginesize', y='horsepower', z='price', color='carbody', title='Engine Size, Horsepower, and Body Style vs Price')\n",
        "fig.show()"
      ]
    },
    {
      "attachments": {},
      "cell_type": "markdown",
      "id": "1e5610bd-a807-4ff3-b91d-3c4e03a0a941",
      "metadata": {
        "noteable": {
          "cell_type": "markdown"
        }
      },
      "source": [
        "## Trivariate Analysis Inference\n",
        "\n",
        "The 3D scatter plot above shows the relationship between engine size, horsepower, body style, and price. The color of the points represents the body style of the cars. From the plot, we can infer the following:\n",
        "\n",
        "1. Cars with larger engines and more horsepower tend to be more expensive, regardless of the body style.\n",
        "2. Convertible and hardtop cars (represented by the red and orange points) are generally more expensive, even with similar engine sizes and horsepower.\n",
        "3. Hatchback cars (represented by the blue points) are generally less expensive, even with similar engine sizes and horsepower.\n",
        "\n",
        "This analysis further confirms our previous observations and provides additional insight into the influence of body style on car price."
      ]
    },
    {
      "attachments": {},
      "cell_type": "markdown",
      "id": "f53735b3-8b50-4d29-8eaf-f78405c19dd0",
      "metadata": {
        "noteable": {
          "cell_type": "markdown"
        }
      },
      "source": [
        "## Conclusion and Key Takeaways\n",
        "\n",
        "From the above analysis, we can draw several key conclusions:\n",
        "\n",
        "1. **Engine Size, Horsepower**: These are strong predictors of car price. Cars with larger engines and more horsepower tend to be more expensive. The regression graph further confirms this relationship and shows that a linear regression model trained on engine size and horsepower can predict car prices with reasonable accuracy.\n",
        "\n",
        "2. **Curb Weight**: Heavier cars, which are often larger and have more features, tend to be more expensive.\n",
        "\n",
        "3. **Fuel Type and Aspiration**: These factors also influence car price, but the relationships are not as strong. Diesel and turbo cars are generally more expensive than their counterparts.\n",
        "\n",
        "4. **Body Style**: The body style of a car can significantly influence its price. Convertible and hardtop cars are generally more expensive, while hatchback cars are usually less expensive.\n",
        "\n",
        "5. **Bivariate and Trivariate Analysis**: These analyses further confirmed the relationships observed in the univariate analysis and provided additional insights. For instance, the trivariate analysis showed that convertible and hardtop cars tend to be more expensive, even with similar engine sizes and horsepower.\n",
        "\n",
        "These insights can be very useful for predicting car prices. However, it's important to remember that these are general trends and there can be exceptions. Other factors not included in this dataset, such as brand reputation, car age, and mileage, can also significantly influence car prices."
      ]
    }
  ],
  "metadata": {
    "kernelspec": {
      "display_name": "base",
      "language": "python",
      "name": "python3"
    },
    "language_info": {
      "codemirror_mode": {
        "name": "ipython",
        "version": 3
      },
      "file_extension": ".py",
      "mimetype": "text/x-python",
      "name": "python",
      "nbconvert_exporter": "python",
      "pygments_lexer": "ipython3",
      "version": "3.9.13"
    },
    "noteable": {
      "last_transaction_id": "dc814c59-e154-43c5-aa19-8dc3e0891ec6"
    },
    "selected_hardware_size": "small"
  },
  "nbformat": 4,
  "nbformat_minor": 5
}
